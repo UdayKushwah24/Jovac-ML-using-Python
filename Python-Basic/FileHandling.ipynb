{
 "cells": [
  {
   "cell_type": "markdown",
   "id": "5718fb51-e802-4820-a4c8-2e83f51a9225",
   "metadata": {},
   "source": [
    "# File Access Modes\n",
    "- r(read only)\n",
    "- r+ (read and write)\n",
    "- w (write only)\n",
    "- a (append)\n",
    "- a+ (append and read)\n",
    "- x (new File Create)\n",
    "- t (text Mode)\n",
    "- b (binary Mode)\n",
    "\n",
    "## Read Files\n",
    "- read\n",
    "- readline\n",
    "- readlines\n",
    "\n",
    "## Write Files\n",
    "- write\n",
    "- append\n",
    "\n",
    "## With -- Operator\n",
    "\n",
    "## Moving the cursor\n",
    "- seek(n): takes the file handle to the nth byte from the begining\n",
    "\n",
    "## JSON Files\n",
    "- dump -- write\n",
    "- load -- read\n",
    "- dumps -- Convert dict in str\n",
    "- loads -- Convert str to dict"
   ]
  },
  {
   "cell_type": "code",
   "execution_count": 14,
   "id": "1b22a047-e0db-4937-8066-89f1d6e46745",
   "metadata": {},
   "outputs": [
    {
     "name": "stdout",
     "output_type": "stream",
     "text": [
      "<_io.TextIOWrapper name='test.txt' mode='r' encoding='cp1252'>\n"
     ]
    }
   ],
   "source": [
    "file = open('test.txt')\n",
    "\n",
    "print(file)"
   ]
  },
  {
   "cell_type": "code",
   "execution_count": 15,
   "id": "b472c9f8-8944-47bd-b6fc-8910b58ee360",
   "metadata": {},
   "outputs": [
    {
     "name": "stdout",
     "output_type": "stream",
     "text": [
      "<class '_io.TextIOWrapper'>\n"
     ]
    }
   ],
   "source": [
    "print(type(file))"
   ]
  },
  {
   "cell_type": "code",
   "execution_count": 49,
   "id": "a657be42-31aa-4020-b09e-b497d4a907dd",
   "metadata": {},
   "outputs": [
    {
     "name": "stdout",
     "output_type": "stream",
     "text": [
      "Hello Worl\n"
     ]
    }
   ],
   "source": [
    "print(file.read(10))"
   ]
  },
  {
   "cell_type": "code",
   "execution_count": 48,
   "id": "e1f26e8c-4912-40e1-b15e-4fa95e2abc8b",
   "metadata": {},
   "outputs": [
    {
     "data": {
      "text/plain": [
       "0"
      ]
     },
     "execution_count": 48,
     "metadata": {},
     "output_type": "execute_result"
    }
   ],
   "source": [
    "file.seek(0)"
   ]
  },
  {
   "cell_type": "code",
   "execution_count": null,
   "id": "99e4fb70-b802-465c-a95d-fb67de6b1a9b",
   "metadata": {},
   "outputs": [
    {
     "name": "stdout",
     "output_type": "stream",
     "text": [
      "['Hello World\\n', 'This is a dummy file for GLA Python Batch']\n"
     ]
    }
   ],
   "source": [
    "file.seek(0)\n",
    "# print(file.readlines())\n",
    "for line in file.readlines():\n",
    "    print(line,end='')"
   ]
  },
  {
   "cell_type": "code",
   "execution_count": null,
   "id": "dbf02678-6601-4438-8abf-60b4e43fcf6f",
   "metadata": {},
   "outputs": [
    {
     "name": "stdout",
     "output_type": "stream",
     "text": [
      "This is a dummy file for GLA Python Batch\n"
     ]
    }
   ],
   "source": [
    "file.seek(0)\n",
    "s = file.readline()\n",
    "print(s)\n",
    "# while s != '':\n",
    "#     print(s,end='')\n",
    "#     s = file.readline()"
   ]
  },
  {
   "cell_type": "code",
   "execution_count": 59,
   "id": "746bbf37-781f-4e72-a36a-bcd7b3261593",
   "metadata": {},
   "outputs": [
    {
     "data": {
      "text/plain": [
       "0"
      ]
     },
     "execution_count": 59,
     "metadata": {},
     "output_type": "execute_result"
    }
   ],
   "source": [
    "file.seek(0)"
   ]
  },
  {
   "cell_type": "code",
   "execution_count": null,
   "id": "98e77308-94b9-47ad-b67f-c71dcc3420de",
   "metadata": {},
   "outputs": [],
   "source": []
  },
  {
   "cell_type": "code",
   "execution_count": 33,
   "id": "d49d2559-bd76-46ae-ace8-4cc6f652a8a2",
   "metadata": {},
   "outputs": [],
   "source": [
    "file.close()"
   ]
  },
  {
   "cell_type": "code",
   "execution_count": null,
   "id": "107a14e3-05b6-4933-ad2e-0b9c2ab4053c",
   "metadata": {},
   "outputs": [],
   "source": []
  },
  {
   "cell_type": "code",
   "execution_count": null,
   "id": "ddd1536d-8c73-4b9d-9862-758562e16439",
   "metadata": {},
   "outputs": [],
   "source": [
    "file = open('FileDemo.txt','r+')\n"
   ]
  },
  {
   "cell_type": "code",
   "execution_count": 71,
   "id": "3f21b949-cea3-4949-bdfe-1eca4479052a",
   "metadata": {},
   "outputs": [
    {
     "name": "stdout",
     "output_type": "stream",
     "text": [
      "This is stmt1.\n",
      "This is stmt2.\n",
      "This is stmt3.\n",
      "This is stmt4.\n",
      "This is stmt5.Hello WorldThis is stmt2.\n",
      "This is stmt3.\n",
      "This is stmt4.\n",
      "This is stmt5.Hello WorldHello WorldHello World\n"
     ]
    }
   ],
   "source": [
    "# file.write(\"\"\"This is stmt1.\n",
    "# This is stmt2.\n",
    "# This is stmt3.\n",
    "# This is stmt4.\n",
    "# This is stmt5.\"\"\")\n",
    "file.seek(0)\n",
    "print(file.read())\n",
    "# file.write(\"Hello World\")"
   ]
  },
  {
   "cell_type": "code",
   "execution_count": 63,
   "id": "fcc3823b-d461-4f53-8e40-6bac53b3651f",
   "metadata": {},
   "outputs": [],
   "source": [
    "file.close()"
   ]
  },
  {
   "cell_type": "code",
   "execution_count": null,
   "id": "a4999b7f-785c-44d3-91db-10d6f8d34bec",
   "metadata": {},
   "outputs": [],
   "source": []
  },
  {
   "cell_type": "code",
   "execution_count": 66,
   "id": "fe5bc664-c639-4c3b-827b-69c170cb5c20",
   "metadata": {},
   "outputs": [
    {
     "name": "stdout",
     "output_type": "stream",
     "text": [
      "Hello Worldt1.\n",
      "This is stmt2.\n",
      "This is stmt3.\n",
      "This is stmt4.\n",
      "This is stmt5.This is stmt1.\n",
      "This is stmt2.\n",
      "This is stmt3.\n",
      "This is stmt4.\n",
      "This is stmt5.Hello WorldHello WorldHello World"
     ]
    }
   ],
   "source": [
    "with open('FileDemo.txt','r') as file:\n",
    "    # print(file.read())\n",
    "    for line in file:\n",
    "        print(line,end='')"
   ]
  },
  {
   "cell_type": "code",
   "execution_count": null,
   "id": "3bfafa01-9212-4a87-9c8d-92465c6d0992",
   "metadata": {},
   "outputs": [],
   "source": []
  },
  {
   "cell_type": "code",
   "execution_count": 77,
   "id": "66b4b6f0-06e9-43b2-937a-90aeb8738d9c",
   "metadata": {},
   "outputs": [],
   "source": [
    "js = {\n",
    "    'India':1000,\n",
    "    'USA':100\n",
    "}"
   ]
  },
  {
   "cell_type": "code",
   "execution_count": 78,
   "id": "7ceea23c-01c6-4d9d-8828-3302f7eda4dc",
   "metadata": {},
   "outputs": [],
   "source": [
    "import json"
   ]
  },
  {
   "cell_type": "code",
   "execution_count": 86,
   "id": "7f0c9ec6-81e8-4bd7-94b1-a1b51651a203",
   "metadata": {},
   "outputs": [],
   "source": [
    "with open('Country.json','w') as file:\n",
    "    json.dump(js,file)"
   ]
  },
  {
   "cell_type": "code",
   "execution_count": null,
   "id": "86546ddb-08f7-469a-9587-aa306ba7a3f4",
   "metadata": {},
   "outputs": [],
   "source": []
  },
  {
   "cell_type": "code",
   "execution_count": 87,
   "id": "93932a22-180f-42a8-bc36-b667c813cd4e",
   "metadata": {},
   "outputs": [
    {
     "name": "stdout",
     "output_type": "stream",
     "text": [
      "{'India': 1000, 'USA': 100} <class 'dict'>\n"
     ]
    }
   ],
   "source": [
    "\n",
    "with open('Country.json','r') as file:\n",
    "    j = json.load(file)\n",
    "    print(j,type(j))"
   ]
  },
  {
   "cell_type": "code",
   "execution_count": null,
   "id": "d057e6e0-79c6-48c4-9224-7caa3551e295",
   "metadata": {},
   "outputs": [],
   "source": []
  },
  {
   "cell_type": "code",
   "execution_count": 88,
   "id": "6e3697ac-662f-4575-85b5-77a4d1f6eedb",
   "metadata": {},
   "outputs": [
    {
     "data": {
      "text/plain": [
       "'{\"India\": 1000, \"USA\": 100}'"
      ]
     },
     "execution_count": 88,
     "metadata": {},
     "output_type": "execute_result"
    }
   ],
   "source": [
    "s = json.dumps(js)\n",
    "s"
   ]
  },
  {
   "cell_type": "code",
   "execution_count": 76,
   "id": "3b41975d-8fb3-4d26-9292-e120d48bda62",
   "metadata": {},
   "outputs": [
    {
     "data": {
      "text/plain": [
       "{'India': 1000, 'USA': 100}"
      ]
     },
     "execution_count": 76,
     "metadata": {},
     "output_type": "execute_result"
    }
   ],
   "source": [
    "json.loads(s)"
   ]
  },
  {
   "cell_type": "code",
   "execution_count": null,
   "id": "071269f6-090f-42eb-9f8c-67c46652d92c",
   "metadata": {},
   "outputs": [],
   "source": []
  },
  {
   "cell_type": "code",
   "execution_count": 89,
   "id": "e8abaed5-c96c-4c89-b37f-08767fa3058c",
   "metadata": {},
   "outputs": [],
   "source": [
    "l = ['s1','s2','s3','s4']\n",
    "with open('Question.txt','w') as file:\n",
    "    for line in l:\n",
    "        file.write(line+'\\n')"
   ]
  },
  {
   "cell_type": "code",
   "execution_count": 93,
   "id": "f670f861-0505-4765-a430-d96808e2199d",
   "metadata": {},
   "outputs": [
    {
     "data": {
      "text/plain": [
       "['s10', 's20', 's30', 's40']"
      ]
     },
     "execution_count": 93,
     "metadata": {},
     "output_type": "execute_result"
    }
   ],
   "source": [
    "ans = []\n",
    "with open('Question.txt','r') as file:\n",
    "    # print(file)\n",
    "    for line in file:\n",
    "        ans.append(line.strip()+'0')\n",
    "ans"
   ]
  },
  {
   "cell_type": "code",
   "execution_count": 84,
   "id": "1f75890b-8db5-42b6-8b73-f24f829b4c93",
   "metadata": {},
   "outputs": [
    {
     "name": "stdout",
     "output_type": "stream",
     "text": [
      "# year\thare\tlynx\tcarrot\n",
      "1900\t30e3\t4e3\t48300\n",
      "1901\t47.2e3\t6.1e3\t48200\n",
      "1902\t70.2e3\t9.8e3\t41500\n",
      "1903\t77.4e3\t35.2e3\t38200\n",
      "1904\t36.3e3\t59.4e3\t40600\n",
      "1905\t20.6e3\t41.7e3\t39800\n",
      "1906\t18.1e3\t19e3\t38600\n",
      "1907\t21.4e3\t13e3\t42300\n",
      "1908\t22e3\t8.3e3\t44500\n",
      "1909\t25.4e3\t9.1e3\t42100\n",
      "1910\t27.1e3\t7.4e3\t46000\n",
      "1911\t40.3e3\t8e3\t46800\n",
      "1912\t57e3\t12.3e3\t43800\n",
      "1913\t76.6e3\t19.5e3\t40900\n",
      "1914\t52.3e3\t45.7e3\t39400\n",
      "1915\t19.5e3\t51.1e3\t39000\n",
      "1916\t11.2e3\t29.7e3\t36700\n",
      "1917\t7.6e3\t15.8e3\t41800\n",
      "1918\t14.6e3\t9.7e3\t43300\n",
      "1919\t16.2e3\t10.1e3\t41300\n",
      "1920\t24.7e3\t8.6e3\t47300\n",
      "\n"
     ]
    }
   ],
   "source": [
    "file = open('../populations.txt','r')\n",
    "print(file.read())\n",
    "file.close()"
   ]
  },
  {
   "cell_type": "code",
   "execution_count": 85,
   "id": "8438d3bd-d37e-49fd-abd9-7da1b02ca60c",
   "metadata": {},
   "outputs": [],
   "source": [
    "import os"
   ]
  },
  {
   "cell_type": "code",
   "execution_count": 86,
   "id": "3d85600b-a8f1-4ab8-afcf-9d7db4f69b4f",
   "metadata": {},
   "outputs": [
    {
     "data": {
      "text/plain": [
       "['.ipynb_checkpoints',\n",
       " 'Country.json',\n",
       " 'ExceptionHandling.ipynb',\n",
       " 'FileDemo.txt',\n",
       " 'FileHandling.ipynb',\n",
       " 'Functions.ipynb',\n",
       " 'List_Tuples.ipynb',\n",
       " 'Modules.ipynb',\n",
       " 'myModule.py',\n",
       " 'OOPs.ipynb',\n",
       " 'Patterns.ipynb',\n",
       " 'PyBasic.ipynb',\n",
       " 'Question.txt',\n",
       " 'Sets_Dictionary.ipynb',\n",
       " 'Strings.ipynb',\n",
       " 'test.txt',\n",
       " '__pycache__']"
      ]
     },
     "execution_count": 86,
     "metadata": {},
     "output_type": "execute_result"
    }
   ],
   "source": [
    "os.listdir('./')"
   ]
  }
 ],
 "metadata": {
  "kernelspec": {
   "display_name": ".venv",
   "language": "python",
   "name": "python3"
  },
  "language_info": {
   "codemirror_mode": {
    "name": "ipython",
    "version": 3
   },
   "file_extension": ".py",
   "mimetype": "text/x-python",
   "name": "python",
   "nbconvert_exporter": "python",
   "pygments_lexer": "ipython3",
   "version": "3.11.9"
  }
 },
 "nbformat": 4,
 "nbformat_minor": 5
}
