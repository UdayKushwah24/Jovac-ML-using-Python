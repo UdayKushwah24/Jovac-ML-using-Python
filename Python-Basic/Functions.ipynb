{
 "cells": [
  {
   "cell_type": "markdown",
   "id": "257c4755-f3b0-487c-875e-33742170c1f8",
   "metadata": {},
   "source": [
    "## functions\n",
    "- defination\n",
    "- Memory management\n",
    "- parameters (Pass by Value)\n",
    "- return / Multiple Return\n",
    "- default arguments\n",
    "- keyword arguments\n",
    "- DocString (__doc__)\n",
    "- function as arguments\n",
    "- Anonymous Function\n",
    "- Recursion\n",
    "- Type Hints \n",
    "- Arbitrary arguments (*args and **kwargs) (After Built-in)\n",
    "- Function within function\n",
    "- Function Decorators\n",
    "- iterators\n"
   ]
  },
  {
   "cell_type": "code",
   "execution_count": null,
   "id": "04982df8-ee9a-423b-8e20-14551c6ae35a",
   "metadata": {},
   "outputs": [],
   "source": [
    "def add(a,b):\n",
    "    print('a =',a)\n",
    "    print('b =',b)\n",
    "    c = a+b\n",
    "    # return c"
   ]
  },
  {
   "cell_type": "code",
   "execution_count": 20,
   "id": "40a1b9ba-71c7-4599-b294-98eb4620e8ed",
   "metadata": {},
   "outputs": [
    {
     "name": "stdout",
     "output_type": "stream",
     "text": [
      "a = 100\n",
      "b = 200\n",
      "c = None\n"
     ]
    }
   ],
   "source": [
    "c = add(100,200)\n",
    "print('c =',c)"
   ]
  },
  {
   "cell_type": "code",
   "execution_count": 9,
   "id": "6cda2b72-2f6b-4ef4-991c-a0b4c107d46e",
   "metadata": {},
   "outputs": [
    {
     "name": "stdout",
     "output_type": "stream",
     "text": [
      "<function add at 0x0000018F92EBDD00> <class 'function'>\n"
     ]
    }
   ],
   "source": [
    "print(add,type(add))"
   ]
  },
  {
   "cell_type": "code",
   "execution_count": 5,
   "id": "42ed1085-324a-4354-a01d-dae95b834022",
   "metadata": {},
   "outputs": [],
   "source": [
    "add = 10"
   ]
  },
  {
   "cell_type": "code",
   "execution_count": 6,
   "id": "f6af086c-5846-427c-90ef-05836a8513bb",
   "metadata": {},
   "outputs": [
    {
     "ename": "TypeError",
     "evalue": "'int' object is not callable",
     "output_type": "error",
     "traceback": [
      "\u001b[31m---------------------------------------------------------------------------\u001b[39m",
      "\u001b[31mTypeError\u001b[39m                                 Traceback (most recent call last)",
      "\u001b[36mCell\u001b[39m\u001b[36m \u001b[39m\u001b[32mIn[6]\u001b[39m\u001b[32m, line 1\u001b[39m\n\u001b[32m----> \u001b[39m\u001b[32m1\u001b[39m \u001b[43madd\u001b[49m\u001b[43m(\u001b[49m\u001b[43m)\u001b[49m\n",
      "\u001b[31mTypeError\u001b[39m: 'int' object is not callable"
     ]
    }
   ],
   "source": [
    "add()"
   ]
  },
  {
   "cell_type": "code",
   "execution_count": null,
   "id": "e0d068f4-8003-4f11-babd-6ade8a3e3850",
   "metadata": {},
   "outputs": [],
   "source": []
  },
  {
   "cell_type": "code",
   "execution_count": 24,
   "id": "b7efb3d5-3ac4-4aba-a892-ef29bea357c3",
   "metadata": {},
   "outputs": [
    {
     "name": "stdout",
     "output_type": "stream",
     "text": [
      "[10, 20] [20, 10]\n",
      "[20, 20] [10, 10]\n"
     ]
    }
   ],
   "source": [
    "def swap(a,b):\n",
    "    a[0],b[0] = b[0],a[0]\n",
    "\n",
    "\n",
    "a = [10,20]\n",
    "b = [20,10]\n",
    "print(a,b)\n",
    "swap(a,b)\n",
    "print(a,b)"
   ]
  },
  {
   "cell_type": "code",
   "execution_count": 46,
   "id": "ced032c2-73bd-4323-9bb8-73f97d8a1580",
   "metadata": {},
   "outputs": [
    {
     "name": "stdout",
     "output_type": "stream",
     "text": [
      "30 -10\n"
     ]
    }
   ],
   "source": [
    "def add(a,b):\n",
    "    c = a+b\n",
    "    return c\n",
    "\n",
    "def sub(a,b):\n",
    "    c = add(a,b)-b\n",
    "    return c\n",
    "\n",
    "def add_sub(a,b,/,x,y,*,p,q = 30):\n",
    "    c = a+b\n",
    "    d = p-q\n",
    "    return c,d\n",
    "\n",
    "c,d = add_sub(10,20,y = 50,x = 100,q = 40,p = 30)\n",
    "print(c,d)"
   ]
  },
  {
   "cell_type": "code",
   "execution_count": 1,
   "id": "552a1d6d-64c7-4889-ab36-59c60c51d0a3",
   "metadata": {},
   "outputs": [
    {
     "name": "stdout",
     "output_type": "stream",
     "text": [
      "3000\n"
     ]
    }
   ],
   "source": [
    "import sys\n",
    "print(sys.getrecursionlimit())"
   ]
  },
  {
   "cell_type": "code",
   "execution_count": null,
   "id": "766bba41-151e-437e-9d48-cd0cd8277411",
   "metadata": {},
   "outputs": [],
   "source": [
    "\n",
    "\n",
    "add_sub"
   ]
  },
  {
   "cell_type": "code",
   "execution_count": null,
   "id": "44dee3d2-03e1-4456-a3c9-8958b266b5a8",
   "metadata": {},
   "outputs": [],
   "source": []
  },
  {
   "cell_type": "code",
   "execution_count": null,
   "id": "582557a6-6002-4dde-9189-10a8267ef0f2",
   "metadata": {},
   "outputs": [],
   "source": []
  },
  {
   "cell_type": "code",
   "execution_count": null,
   "id": "2a480fde-9bbc-4e49-a3d3-3cc8ed39d30c",
   "metadata": {},
   "outputs": [],
   "source": []
  },
  {
   "cell_type": "code",
   "execution_count": 48,
   "id": "c5347ef7-df99-4381-9798-a5d7958aaf0c",
   "metadata": {},
   "outputs": [
    {
     "data": {
      "text/plain": [
       "30"
      ]
     },
     "execution_count": 48,
     "metadata": {},
     "output_type": "execute_result"
    }
   ],
   "source": [
    "def add(a:int, b:int) -> int :\n",
    "    c = a+b\n",
    "    return c\n",
    "\n",
    "add(10,20)"
   ]
  },
  {
   "cell_type": "code",
   "execution_count": 49,
   "id": "a00d2567-ca97-4280-8e9e-d4837f499492",
   "metadata": {},
   "outputs": [
    {
     "data": {
      "text/plain": [
       "4.6"
      ]
     },
     "execution_count": 49,
     "metadata": {},
     "output_type": "execute_result"
    }
   ],
   "source": [
    "add(1.2,3.4)"
   ]
  },
  {
   "cell_type": "code",
   "execution_count": null,
   "id": "5a37f688-4132-4741-a0b7-d6455d950bc2",
   "metadata": {},
   "outputs": [],
   "source": []
  },
  {
   "cell_type": "code",
   "execution_count": null,
   "id": "6952b4c0-d413-455b-acdb-819145f1a71b",
   "metadata": {},
   "outputs": [],
   "source": []
  },
  {
   "cell_type": "code",
   "execution_count": 50,
   "id": "d9a8e72f-4cf2-4a26-81d4-15b5c9e11685",
   "metadata": {},
   "outputs": [
    {
     "data": {
      "text/plain": [
       "10"
      ]
     },
     "execution_count": 50,
     "metadata": {},
     "output_type": "execute_result"
    }
   ],
   "source": [
    "add = 10\n",
    "add"
   ]
  },
  {
   "cell_type": "code",
   "execution_count": null,
   "id": "84e2bf39-c3a8-44bd-a232-27da10f28786",
   "metadata": {},
   "outputs": [],
   "source": []
  },
  {
   "cell_type": "code",
   "execution_count": 51,
   "id": "360bc7f1-05e2-4719-9222-34a72b06fcf9",
   "metadata": {},
   "outputs": [],
   "source": [
    "import math"
   ]
  },
  {
   "cell_type": "code",
   "execution_count": 54,
   "id": "cea7e21e-b3ab-416a-be75-562417d9ef8f",
   "metadata": {},
   "outputs": [
    {
     "data": {
      "text/plain": [
       "-11"
      ]
     },
     "execution_count": 54,
     "metadata": {},
     "output_type": "execute_result"
    }
   ],
   "source": [
    "math.floor(-10.6)"
   ]
  },
  {
   "cell_type": "code",
   "execution_count": 55,
   "id": "f631e6d3-b820-4889-85ae-83f0499a85fc",
   "metadata": {},
   "outputs": [
    {
     "data": {
      "text/plain": [
       "\u001b[31mSignature:\u001b[39m math.floor(x, /)\n",
       "\u001b[31mDocstring:\u001b[39m\n",
       "Return the floor of x as an Integral.\n",
       "\n",
       "This is the largest integer <= x.\n",
       "\u001b[31mType:\u001b[39m      builtin_function_or_method"
      ]
     },
     "metadata": {},
     "output_type": "display_data"
    }
   ],
   "source": [
    "math.floor?"
   ]
  },
  {
   "cell_type": "code",
   "execution_count": 64,
   "id": "01c26ad4-3d6d-4867-9342-ccb5ec918887",
   "metadata": {},
   "outputs": [],
   "source": [
    "def fn():\n",
    "    '''This is a demo \n",
    "    Function for DocString'''"
   ]
  },
  {
   "cell_type": "code",
   "execution_count": 65,
   "id": "83721eff-25f6-41d9-b3cf-17fc8c9f511c",
   "metadata": {},
   "outputs": [
    {
     "data": {
      "text/plain": [
       "'This is a demo \\n    Function for DocString'"
      ]
     },
     "execution_count": 65,
     "metadata": {},
     "output_type": "execute_result"
    }
   ],
   "source": [
    "fn.__doc__"
   ]
  },
  {
   "cell_type": "code",
   "execution_count": 66,
   "id": "2560267c-f5e6-4689-b8ab-93546e1a2920",
   "metadata": {},
   "outputs": [
    {
     "data": {
      "text/plain": [
       "\u001b[31mSignature:\u001b[39m fn()\n",
       "\u001b[31mDocstring:\u001b[39m\n",
       "This is a demo \n",
       "Function for DocString\n",
       "\u001b[31mFile:\u001b[39m      c:\\users\\abhis\\appdata\\local\\temp\\ipykernel_21440\\3455382801.py\n",
       "\u001b[31mType:\u001b[39m      function"
      ]
     },
     "metadata": {},
     "output_type": "display_data"
    }
   ],
   "source": [
    "fn?"
   ]
  },
  {
   "cell_type": "code",
   "execution_count": 32,
   "id": "f757bd8f-b3c9-49db-8d97-0d7ed209d02b",
   "metadata": {},
   "outputs": [
    {
     "data": {
      "text/plain": [
       "\u001b[31mSignature:\u001b[39m add(a: int, b: int) -> int\n",
       "\u001b[31mDocstring:\u001b[39m <no docstring>\n",
       "\u001b[31mFile:\u001b[39m      c:\\users\\abhis\\appdata\\local\\temp\\ipykernel_1504\\3554953447.py\n",
       "\u001b[31mType:\u001b[39m      function"
      ]
     },
     "metadata": {},
     "output_type": "display_data"
    }
   ],
   "source": [
    "add?"
   ]
  },
  {
   "cell_type": "code",
   "execution_count": 2,
   "id": "1962a691",
   "metadata": {},
   "outputs": [
    {
     "name": "stdout",
     "output_type": "stream",
     "text": [
      "\u001b[31mSignature:\u001b[39m print(*args, sep=\u001b[33m' '\u001b[39m, end=\u001b[33m'\\n'\u001b[39m, file=\u001b[38;5;28;01mNone\u001b[39;00m, flush=\u001b[38;5;28;01mFalse\u001b[39;00m)\n",
      "\u001b[31mDocstring:\u001b[39m\n",
      "Prints the values to a stream, or to sys.stdout by default.\n",
      "\n",
      "sep\n",
      "  string inserted between values, default a space.\n",
      "end\n",
      "  string appended after the last value, default a newline.\n",
      "file\n",
      "  a file-like object (stream); defaults to the current sys.stdout.\n",
      "flush\n",
      "  whether to forcibly flush the stream.\n",
      "\u001b[31mType:\u001b[39m      builtin_function_or_method"
     ]
    }
   ],
   "source": [
    "print?\n"
   ]
  },
  {
   "cell_type": "code",
   "execution_count": 82,
   "id": "3c875a1a-ff3f-4944-9268-dfa2c1bff463",
   "metadata": {},
   "outputs": [],
   "source": [
    "def add(a,b):\n",
    "    return a+b\n",
    "def sub(a,b):\n",
    "    return a-b"
   ]
  },
  {
   "cell_type": "code",
   "execution_count": 83,
   "id": "68b91e52-ead9-4e67-853f-1baaf8ff3db0",
   "metadata": {},
   "outputs": [],
   "source": [
    "def cal(fn,a=10,b=20):\n",
    "    val = fn(a,b)\n",
    "    return val"
   ]
  },
  {
   "cell_type": "code",
   "execution_count": 84,
   "id": "fcfaa9fc-0a2d-4cb5-a269-834b1e61cb3f",
   "metadata": {},
   "outputs": [
    {
     "data": {
      "text/plain": [
       "-100"
      ]
     },
     "execution_count": 84,
     "metadata": {},
     "output_type": "execute_result"
    }
   ],
   "source": [
    "cal(sub, 100,200)"
   ]
  },
  {
   "cell_type": "code",
   "execution_count": 85,
   "id": "786b6d17-a5a3-43e3-8568-16149929b7bf",
   "metadata": {},
   "outputs": [],
   "source": [
    "sub = lambda a,b,c: a-b+c"
   ]
  },
  {
   "cell_type": "code",
   "execution_count": 86,
   "id": "3f0d8f74-67f8-4407-b5dd-5496e436358f",
   "metadata": {},
   "outputs": [
    {
     "data": {
      "text/plain": [
       "20"
      ]
     },
     "execution_count": 86,
     "metadata": {},
     "output_type": "execute_result"
    }
   ],
   "source": [
    "sub(10,20,30)"
   ]
  },
  {
   "cell_type": "code",
   "execution_count": 87,
   "id": "7ce21b0f-c0f6-4e10-a414-66277f0d7ca9",
   "metadata": {},
   "outputs": [
    {
     "data": {
      "text/plain": [
       "2.0"
      ]
     },
     "execution_count": 87,
     "metadata": {},
     "output_type": "execute_result"
    }
   ],
   "source": [
    "cal(lambda a,b: a/b,20,10)"
   ]
  },
  {
   "cell_type": "code",
   "execution_count": 91,
   "id": "81a3b120-4b78-4c40-a6ef-936bbbaa5e62",
   "metadata": {},
   "outputs": [
    {
     "ename": "TypeError",
     "evalue": "unsupported operand type(s) for +: 'int' and 'str'",
     "output_type": "error",
     "traceback": [
      "\u001b[31m---------------------------------------------------------------------------\u001b[39m",
      "\u001b[31mTypeError\u001b[39m                                 Traceback (most recent call last)",
      "\u001b[36mCell\u001b[39m\u001b[36m \u001b[39m\u001b[32mIn[91]\u001b[39m\u001b[32m, line 3\u001b[39m\n\u001b[32m      1\u001b[39m a = \u001b[32m10\u001b[39m\n\u001b[32m      2\u001b[39m b = \u001b[33m'\u001b[39m\u001b[33mHello\u001b[39m\u001b[33m'\u001b[39m\n\u001b[32m----> \u001b[39m\u001b[32m3\u001b[39m \u001b[43ma\u001b[49m\u001b[43m+\u001b[49m\u001b[43mb\u001b[49m\n",
      "\u001b[31mTypeError\u001b[39m: unsupported operand type(s) for +: 'int' and 'str'"
     ]
    }
   ],
   "source": [
    "a = 10\n",
    "b = 'Hello'\n",
    "a+b"
   ]
  },
  {
   "cell_type": "code",
   "execution_count": 107,
   "id": "bd5846bb-48e9-4038-a61f-adbf5979572a",
   "metadata": {},
   "outputs": [],
   "source": [
    "n = 1000"
   ]
  },
  {
   "cell_type": "code",
   "execution_count": null,
   "id": "b73e5d58-c813-4831-8e8e-dc13c4fc3c8a",
   "metadata": {},
   "outputs": [],
   "source": [
    "def fn():\n",
    "    # global n\n",
    "    # print(n)\n",
    "    n = 100\n",
    "    print(n)"
   ]
  },
  {
   "cell_type": "code",
   "execution_count": 6,
   "id": "246063a8-fa6d-420e-ac3f-889715b4e100",
   "metadata": {},
   "outputs": [
    {
     "name": "stdout",
     "output_type": "stream",
     "text": [
      "100\n",
      "100\n",
      "100\n"
     ]
    }
   ],
   "source": [
    "fn()\n",
    "print(n)"
   ]
  },
  {
   "cell_type": "code",
   "execution_count": 8,
   "id": "c9b67505-6e80-49d8-9e5f-288296d751d9",
   "metadata": {},
   "outputs": [
    {
     "name": "stdout",
     "output_type": "stream",
     "text": [
      "1 10 200\n",
      "10 10\n",
      "100 1000 200\n",
      "300\n"
     ]
    }
   ],
   "source": [
    "x = 100\n",
    "y = 1000\n",
    "z = 200\n",
    "def fn1():\n",
    "    x = 10\n",
    "    y = 100\n",
    "\n",
    "    def fn2():\n",
    "        nonlocal y\n",
    "        global ax\n",
    "        x = 1\n",
    "        y = 10\n",
    "        ax = 300\n",
    "        print(x,y,z)\n",
    "\n",
    "    fn2()\n",
    "    print(x,y)\n",
    "\n",
    "fn1()\n",
    "print(x,y,z)\n",
    "print(ax)"
   ]
  },
  {
   "cell_type": "code",
   "execution_count": 4,
   "id": "4a365e86-b4b5-454b-8dee-c864cca127a6",
   "metadata": {},
   "outputs": [
    {
     "name": "stdout",
     "output_type": "stream",
     "text": [
      "300\n"
     ]
    }
   ],
   "source": [
    "print(ax)"
   ]
  },
  {
   "cell_type": "code",
   "execution_count": 3,
   "id": "ee092862-eef8-4e2d-a4ef-6afdb8339958",
   "metadata": {},
   "outputs": [
    {
     "name": "stdout",
     "output_type": "stream",
     "text": [
      "10 100\n",
      "1 10 200 100\n",
      "100 1000 200\n"
     ]
    }
   ],
   "source": [
    "x=100\n",
    "y=1000\n",
    "z=200\n",
    "def fn1():\n",
    "    x=10\n",
    "    y=100\n",
    "    def fn2():\n",
    "        # global y\n",
    "        nonlocal y #except global at first, all y values are changed\n",
    "        global ax\n",
    "        x=1\n",
    "        y=10\n",
    "        ax = 100\n",
    "        print(x,y,z, ax) \n",
    "    print(x,y)\n",
    "    fn2()\n",
    "fn1()\n",
    "print(x,y,z)\n"
   ]
  },
  {
   "cell_type": "code",
   "execution_count": 4,
   "id": "366233fc-885f-42e4-9776-f9e05a1a668f",
   "metadata": {},
   "outputs": [],
   "source": [
    "def fact(n):\n",
    "    if n==1:\n",
    "        return n\n",
    "    else:\n",
    "        return n*fact(n-1)"
   ]
  },
  {
   "cell_type": "code",
   "execution_count": 5,
   "id": "5747cfd1-bfce-4b3a-9ebe-6d2f32945bce",
   "metadata": {},
   "outputs": [
    {
     "data": {
      "text/plain": [
       "3628800"
      ]
     },
     "execution_count": 5,
     "metadata": {},
     "output_type": "execute_result"
    }
   ],
   "source": [
    "fact(10)"
   ]
  },
  {
   "cell_type": "code",
   "execution_count": null,
   "id": "13fb31f3-b701-49bc-9115-aef0a753488a",
   "metadata": {},
   "outputs": [],
   "source": []
  },
  {
   "cell_type": "code",
   "execution_count": 8,
   "id": "feeec8e9-cab1-4e32-9f83-8b69322de851",
   "metadata": {},
   "outputs": [],
   "source": [
    "def fn1():\n",
    "    print(\"Hello\")\n",
    "    def fn2():\n",
    "        print(\"In fn2\")\n",
    "\n",
    "    fn2()\n",
    "    print(\"Bye\")\n",
    "    return fn2"
   ]
  },
  {
   "cell_type": "code",
   "execution_count": 10,
   "id": "1eb742b8-a415-4a88-baa5-0c5a44a6ab92",
   "metadata": {},
   "outputs": [
    {
     "name": "stdout",
     "output_type": "stream",
     "text": [
      "Hello\n",
      "In fn2\n",
      "Bye\n",
      "In fn2\n"
     ]
    }
   ],
   "source": [
    "fn2 = fn1()\n",
    "\n",
    "fn2()"
   ]
  },
  {
   "cell_type": "code",
   "execution_count": 10,
   "id": "2860ac44-7eb7-4269-82b4-3bb617d0ece2",
   "metadata": {},
   "outputs": [],
   "source": [
    "def fn(a,b,*args,c):\n",
    "    print(args,type(args))"
   ]
  },
  {
   "cell_type": "code",
   "execution_count": 11,
   "id": "8886f22f-416a-4e3c-a036-72e9d27415f9",
   "metadata": {},
   "outputs": [
    {
     "name": "stdout",
     "output_type": "stream",
     "text": [
      "('HEllo', 5, 5, 5, 5) <class 'tuple'>\n"
     ]
    }
   ],
   "source": [
    "fn(10,20,'HEllo',5,5,5,5,c = 10)"
   ]
  },
  {
   "cell_type": "code",
   "execution_count": 14,
   "id": "f66aa570-cb1f-4966-8eec-66be18933faf",
   "metadata": {},
   "outputs": [],
   "source": [
    "def fn(ax,*args,a,c,**kwargs):\n",
    "    print(ax)\n",
    "    print(args)\n",
    "    print(a,c)\n",
    "    print(kwargs,type(kwargs))"
   ]
  },
  {
   "cell_type": "code",
   "execution_count": 15,
   "id": "d3bac5f3-1e2b-4d9f-ace0-5f2b43b8a644",
   "metadata": {},
   "outputs": [
    {
     "name": "stdout",
     "output_type": "stream",
     "text": [
      "10\n",
      "(20,)\n",
      "10 100\n",
      "{'b': 30, 'd': 50} <class 'dict'>\n"
     ]
    }
   ],
   "source": [
    "fn(10,20,a = 10,b = 30,d = 50,c = 100)"
   ]
  },
  {
   "cell_type": "code",
   "execution_count": null,
   "id": "f1eb9f6a-a6e3-4ecb-9938-66d829b9bfd0",
   "metadata": {},
   "outputs": [],
   "source": []
  },
  {
   "cell_type": "code",
   "execution_count": 45,
   "id": "d4beb695-1c75-425e-a503-7b87be638818",
   "metadata": {},
   "outputs": [],
   "source": [
    "rtr = iter(range(10))"
   ]
  },
  {
   "cell_type": "code",
   "execution_count": 56,
   "id": "0a6c30fa-9d56-4af7-8426-44a960da65c0",
   "metadata": {},
   "outputs": [
    {
     "ename": "StopIteration",
     "evalue": "",
     "output_type": "error",
     "traceback": [
      "\u001b[31m---------------------------------------------------------------------------\u001b[39m",
      "\u001b[31mStopIteration\u001b[39m                             Traceback (most recent call last)",
      "\u001b[36mCell\u001b[39m\u001b[36m \u001b[39m\u001b[32mIn[56]\u001b[39m\u001b[32m, line 1\u001b[39m\n\u001b[32m----> \u001b[39m\u001b[32m1\u001b[39m \u001b[38;5;28;43mnext\u001b[39;49m\u001b[43m(\u001b[49m\u001b[43mrtr\u001b[49m\u001b[43m)\u001b[49m\n",
      "\u001b[31mStopIteration\u001b[39m: "
     ]
    }
   ],
   "source": [
    "next(rtr)"
   ]
  },
  {
   "cell_type": "code",
   "execution_count": 59,
   "id": "4eb7b814-d45f-4ba9-928e-84574b0e980f",
   "metadata": {},
   "outputs": [],
   "source": [
    "def myRange(start,stop,step):\n",
    "    i = start\n",
    "    while i < stop:\n",
    "        yield i\n",
    "        i += step"
   ]
  },
  {
   "cell_type": "code",
   "execution_count": 69,
   "id": "2df79c81-3f21-49b2-8eeb-f15923c3071a",
   "metadata": {
    "scrolled": true
   },
   "outputs": [],
   "source": [
    "mrtr = myRange(1,11,2)"
   ]
  },
  {
   "cell_type": "code",
   "execution_count": 70,
   "id": "a8469361-db25-461e-96e8-f34de1e8255b",
   "metadata": {},
   "outputs": [
    {
     "name": "stdout",
     "output_type": "stream",
     "text": [
      "<generator object myRange at 0x0000022CD9293ED0>\n"
     ]
    }
   ],
   "source": [
    "print(mrtr)"
   ]
  },
  {
   "cell_type": "code",
   "execution_count": 75,
   "id": "443d1083-fdf6-4cc4-bdfc-60d89fe0fc7a",
   "metadata": {},
   "outputs": [
    {
     "name": "stdout",
     "output_type": "stream",
     "text": [
      "9\n"
     ]
    }
   ],
   "source": [
    "val = next(mrtr)\n",
    "print(val)"
   ]
  },
  {
   "cell_type": "code",
   "execution_count": 68,
   "id": "3ccd2400-c7ed-420c-85d2-594074298e1d",
   "metadata": {},
   "outputs": [
    {
     "name": "stdout",
     "output_type": "stream",
     "text": [
      "1\n",
      "3\n",
      "5\n",
      "7\n",
      "9\n"
     ]
    }
   ],
   "source": [
    "for i in myRange(1,11,2):\n",
    "    print(i)"
   ]
  },
  {
   "cell_type": "code",
   "execution_count": 73,
   "id": "d641464c-c83f-4047-bf63-6928aa669bf1",
   "metadata": {},
   "outputs": [],
   "source": [
    "def count_digits(num : int) -> int:\n",
    "    return int(math.log10(num))+1"
   ]
  },
  {
   "cell_type": "code",
   "execution_count": 79,
   "id": "e1f4bef0-ad74-4783-b0e3-78ee2cb6fe8a",
   "metadata": {},
   "outputs": [
    {
     "data": {
      "text/plain": [
       "5"
      ]
     },
     "execution_count": 79,
     "metadata": {},
     "output_type": "execute_result"
    }
   ],
   "source": [
    "count_digits(12345)"
   ]
  },
  {
   "cell_type": "code",
   "execution_count": 74,
   "id": "6d651e9a-7a50-4259-a3d8-b2dae23a3508",
   "metadata": {},
   "outputs": [],
   "source": [
    "def isArmStrong(num: int) -> bool:\n",
    "    t = num\n",
    "    s = 0\n",
    "    nod = count_digits(num)\n",
    "    while t != 0:\n",
    "        rem = t%10\n",
    "        s += rem**nod\n",
    "\n",
    "        t = t//10\n",
    "    return s == num"
   ]
  },
  {
   "cell_type": "code",
   "execution_count": 77,
   "id": "a94ddc60-afd8-44a1-a7ac-fe1494a43f28",
   "metadata": {},
   "outputs": [
    {
     "data": {
      "text/plain": [
       "False"
      ]
     },
     "execution_count": 77,
     "metadata": {},
     "output_type": "execute_result"
    }
   ],
   "source": [
    "isArmStrong(16)"
   ]
  },
  {
   "cell_type": "code",
   "execution_count": 80,
   "id": "643e2ded-eaab-468f-8610-0c94a5245ddf",
   "metadata": {},
   "outputs": [],
   "source": [
    "def printAllArmStrong(l:int = 1,r:int = 1000) -> None:\n",
    "    i = l\n",
    "    while i <= r:\n",
    "        if isArmStrong(i):\n",
    "            print(i)\n",
    "        i += 1"
   ]
  },
  {
   "cell_type": "code",
   "execution_count": 81,
   "id": "02a264b3-daad-40c1-b511-97653ef43d4b",
   "metadata": {},
   "outputs": [
    {
     "name": "stdout",
     "output_type": "stream",
     "text": [
      "1\n",
      "2\n",
      "3\n",
      "4\n",
      "5\n",
      "6\n",
      "7\n",
      "8\n",
      "9\n",
      "153\n",
      "370\n",
      "371\n",
      "407\n"
     ]
    }
   ],
   "source": [
    "printAllArmStrong(1,1000)"
   ]
  },
  {
   "cell_type": "code",
   "execution_count": null,
   "id": "0c78e700-3305-4414-9f6c-1fa237d5337c",
   "metadata": {},
   "outputs": [],
   "source": []
  },
  {
   "cell_type": "code",
   "execution_count": null,
   "id": "82b3861f-dc41-486e-a76c-244a4729733a",
   "metadata": {},
   "outputs": [],
   "source": []
  }
 ],
 "metadata": {
  "kernelspec": {
   "display_name": ".venv",
   "language": "python",
   "name": "python3"
  },
  "language_info": {
   "codemirror_mode": {
    "name": "ipython",
    "version": 3
   },
   "file_extension": ".py",
   "mimetype": "text/x-python",
   "name": "python",
   "nbconvert_exporter": "python",
   "pygments_lexer": "ipython3",
   "version": "3.11.9"
  }
 },
 "nbformat": 4,
 "nbformat_minor": 5
}
