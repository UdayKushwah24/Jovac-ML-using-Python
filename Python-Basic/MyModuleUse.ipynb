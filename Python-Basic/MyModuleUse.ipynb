{
 "cells": [
  {
   "cell_type": "code",
   "execution_count": 1,
   "id": "1664431f-0476-4318-af1d-51c2005c5b60",
   "metadata": {},
   "outputs": [],
   "source": [
    "import math"
   ]
  },
  {
   "cell_type": "code",
   "execution_count": 3,
   "id": "a872ac65-5af7-401a-9bfa-d4db5a76c329",
   "metadata": {},
   "outputs": [],
   "source": [
    "import myModule as mm\n",
    "# from myModule import A,fn,a\n",
    "from myModule import *\n",
    "# from myModule import fn\n"
   ]
  },
  {
   "cell_type": "code",
   "execution_count": 2,
   "id": "9579b904-e4e1-4247-895a-4fd3b8b82423",
   "metadata": {},
   "outputs": [
    {
     "data": {
      "text/plain": [
       "<myModule.A at 0x1a951a10b30>"
      ]
     },
     "execution_count": 2,
     "metadata": {},
     "output_type": "execute_result"
    }
   ],
   "source": [
    "A()"
   ]
  },
  {
   "cell_type": "code",
   "execution_count": 3,
   "id": "85a746f2-e939-4e4e-b129-c8cf63b0389c",
   "metadata": {},
   "outputs": [
    {
     "data": {
      "text/plain": [
       "30"
      ]
     },
     "execution_count": 3,
     "metadata": {},
     "output_type": "execute_result"
    }
   ],
   "source": [
    "fn()"
   ]
  },
  {
   "cell_type": "code",
   "execution_count": 4,
   "id": "ac12dfde-7b6f-4279-8728-f3ca55e39e22",
   "metadata": {},
   "outputs": [
    {
     "data": {
      "text/plain": [
       "10"
      ]
     },
     "execution_count": 4,
     "metadata": {},
     "output_type": "execute_result"
    }
   ],
   "source": [
    "a"
   ]
  },
  {
   "cell_type": "code",
   "execution_count": 5,
   "id": "c8851f57-2464-4c94-93e4-e58292fa22c9",
   "metadata": {},
   "outputs": [
    {
     "data": {
      "text/plain": [
       "'Hello'"
      ]
     },
     "execution_count": 5,
     "metadata": {},
     "output_type": "execute_result"
    }
   ],
   "source": [
    "b"
   ]
  },
  {
   "cell_type": "code",
   "execution_count": 6,
   "id": "190058b2-5132-438f-a5d3-5143c3989b05",
   "metadata": {},
   "outputs": [],
   "source": [
    "# myModule.a\n",
    "# mm.a"
   ]
  },
  {
   "cell_type": "code",
   "execution_count": 7,
   "id": "aa404c35-b1ce-49c3-92ec-282172bea3ca",
   "metadata": {},
   "outputs": [
    {
     "data": {
      "text/plain": [
       "'Hello'"
      ]
     },
     "execution_count": 7,
     "metadata": {},
     "output_type": "execute_result"
    }
   ],
   "source": [
    "# myModule.b\n",
    "mm.b"
   ]
  },
  {
   "cell_type": "code",
   "execution_count": 8,
   "id": "58a38cba-c131-4f14-89c8-e2cb17eaf551",
   "metadata": {},
   "outputs": [
    {
     "data": {
      "text/plain": [
       "30"
      ]
     },
     "execution_count": 8,
     "metadata": {},
     "output_type": "execute_result"
    }
   ],
   "source": [
    "# myModule.fn()\n",
    "mm.fn()"
   ]
  },
  {
   "cell_type": "code",
   "execution_count": 9,
   "id": "25f30331-1ead-4f58-8f47-018f7b663fa6",
   "metadata": {},
   "outputs": [
    {
     "data": {
      "text/plain": [
       "<myModule.A at 0x1a9533aec30>"
      ]
     },
     "execution_count": 9,
     "metadata": {},
     "output_type": "execute_result"
    }
   ],
   "source": [
    "# myModule.A()\n",
    "mm.A()"
   ]
  },
  {
   "cell_type": "code",
   "execution_count": null,
   "id": "4c3735e5-c557-4196-b6cd-b060b683dbee",
   "metadata": {},
   "outputs": [],
   "source": []
  },
  {
   "cell_type": "code",
   "execution_count": null,
   "id": "87e9f872-b4f8-4f75-9747-69913d93b130",
   "metadata": {},
   "outputs": [],
   "source": []
  },
  {
   "cell_type": "code",
   "execution_count": 11,
   "id": "95945554-737e-4a78-8f80-2daf1e35c4bc",
   "metadata": {},
   "outputs": [
    {
     "data": {
      "text/plain": [
       "'myModule'"
      ]
     },
     "execution_count": 11,
     "metadata": {},
     "output_type": "execute_result"
    }
   ],
   "source": [
    "mm.__name__"
   ]
  },
  {
   "cell_type": "code",
   "execution_count": null,
   "id": "cef02e3b-9e07-4b11-a9dd-636aaa232e7b",
   "metadata": {},
   "outputs": [],
   "source": []
  },
  {
   "cell_type": "code",
   "execution_count": null,
   "id": "19938dc2-77ac-4f42-8ba5-b038ae958c5d",
   "metadata": {},
   "outputs": [],
   "source": []
  },
  {
   "cell_type": "code",
   "execution_count": null,
   "id": "f300309d-ea16-493e-8964-107d84504f8d",
   "metadata": {},
   "outputs": [],
   "source": []
  },
  {
   "cell_type": "code",
   "execution_count": null,
   "id": "b9035dea-a9ea-49cd-8c8d-f61b29713c78",
   "metadata": {},
   "outputs": [],
   "source": []
  },
  {
   "cell_type": "code",
   "execution_count": null,
   "id": "3b690709-a312-45bb-ae25-1ce75ce4f247",
   "metadata": {},
   "outputs": [],
   "source": []
  },
  {
   "cell_type": "code",
   "execution_count": null,
   "id": "4547cea4-5377-46f7-ab39-a0bde3c33cab",
   "metadata": {},
   "outputs": [],
   "source": []
  }
 ],
 "metadata": {
  "kernelspec": {
   "display_name": "Python 3 (ipykernel)",
   "language": "python",
   "name": "python3"
  },
  "language_info": {
   "codemirror_mode": {
    "name": "ipython",
    "version": 3
   },
   "file_extension": ".py",
   "mimetype": "text/x-python",
   "name": "python",
   "nbconvert_exporter": "python",
   "pygments_lexer": "ipython3",
   "version": "3.12.9"
  }
 },
 "nbformat": 4,
 "nbformat_minor": 5
}
