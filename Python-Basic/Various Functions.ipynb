{
 "cells": [
  {
   "cell_type": "markdown",
   "id": "31b342d3-49ea-44c2-bfbe-1b78fc0ee5df",
   "metadata": {},
   "source": [
    "## Various Functions\n",
    "- abs\n",
    "- all\n",
    "- any\n",
    "- dir\n",
    "- divmod\n",
    "- enumerate\n",
    "- filter\n",
    "- isinstance\n",
    "- map\n",
    "- reduce -- in python3 from functools import reduce\n",
    "- sorted"
   ]
  },
  {
   "cell_type": "code",
   "execution_count": 1,
   "id": "c2f685bc-5ac1-4297-bdbc-7cca290e9b77",
   "metadata": {},
   "outputs": [
    {
     "data": {
      "text/plain": [
       "1.2"
      ]
     },
     "execution_count": 1,
     "metadata": {},
     "output_type": "execute_result"
    }
   ],
   "source": [
    "abs(-1.2)"
   ]
  },
  {
   "cell_type": "code",
   "execution_count": 2,
   "id": "2b78888a-2487-4f93-84e5-f03785af9fe2",
   "metadata": {},
   "outputs": [
    {
     "data": {
      "text/plain": [
       "1.2"
      ]
     },
     "execution_count": 2,
     "metadata": {},
     "output_type": "execute_result"
    }
   ],
   "source": [
    "abs(1.2)"
   ]
  },
  {
   "cell_type": "code",
   "execution_count": 4,
   "id": "95c9a108-5b8d-4a41-bde0-6fbe6ce156cc",
   "metadata": {},
   "outputs": [
    {
     "data": {
      "text/plain": [
       "False"
      ]
     },
     "execution_count": 4,
     "metadata": {},
     "output_type": "execute_result"
    }
   ],
   "source": [
    "all([1,2,3,4,5,0])"
   ]
  },
  {
   "cell_type": "code",
   "execution_count": 6,
   "id": "3026a8a9-04bc-4daa-84a7-057d335494b7",
   "metadata": {},
   "outputs": [
    {
     "data": {
      "text/plain": [
       "True"
      ]
     },
     "execution_count": 6,
     "metadata": {},
     "output_type": "execute_result"
    }
   ],
   "source": [
    "any([0,0,0,0,0,1])"
   ]
  },
  {
   "cell_type": "code",
   "execution_count": 7,
   "id": "7d51ec42-8309-4808-9d17-515a7d09817e",
   "metadata": {
    "scrolled": true
   },
   "outputs": [
    {
     "data": {
      "text/plain": [
       "['__abs__',\n",
       " '__add__',\n",
       " '__and__',\n",
       " '__bool__',\n",
       " '__ceil__',\n",
       " '__class__',\n",
       " '__delattr__',\n",
       " '__dir__',\n",
       " '__divmod__',\n",
       " '__doc__',\n",
       " '__eq__',\n",
       " '__float__',\n",
       " '__floor__',\n",
       " '__floordiv__',\n",
       " '__format__',\n",
       " '__ge__',\n",
       " '__getattribute__',\n",
       " '__getnewargs__',\n",
       " '__getstate__',\n",
       " '__gt__',\n",
       " '__hash__',\n",
       " '__index__',\n",
       " '__init__',\n",
       " '__init_subclass__',\n",
       " '__int__',\n",
       " '__invert__',\n",
       " '__le__',\n",
       " '__lshift__',\n",
       " '__lt__',\n",
       " '__mod__',\n",
       " '__mul__',\n",
       " '__ne__',\n",
       " '__neg__',\n",
       " '__new__',\n",
       " '__or__',\n",
       " '__pos__',\n",
       " '__pow__',\n",
       " '__radd__',\n",
       " '__rand__',\n",
       " '__rdivmod__',\n",
       " '__reduce__',\n",
       " '__reduce_ex__',\n",
       " '__repr__',\n",
       " '__rfloordiv__',\n",
       " '__rlshift__',\n",
       " '__rmod__',\n",
       " '__rmul__',\n",
       " '__ror__',\n",
       " '__round__',\n",
       " '__rpow__',\n",
       " '__rrshift__',\n",
       " '__rshift__',\n",
       " '__rsub__',\n",
       " '__rtruediv__',\n",
       " '__rxor__',\n",
       " '__setattr__',\n",
       " '__sizeof__',\n",
       " '__str__',\n",
       " '__sub__',\n",
       " '__subclasshook__',\n",
       " '__truediv__',\n",
       " '__trunc__',\n",
       " '__xor__',\n",
       " 'as_integer_ratio',\n",
       " 'bit_count',\n",
       " 'bit_length',\n",
       " 'conjugate',\n",
       " 'denominator',\n",
       " 'from_bytes',\n",
       " 'imag',\n",
       " 'is_integer',\n",
       " 'numerator',\n",
       " 'real',\n",
       " 'to_bytes']"
      ]
     },
     "execution_count": 7,
     "metadata": {},
     "output_type": "execute_result"
    }
   ],
   "source": [
    "dir(int)"
   ]
  },
  {
   "cell_type": "code",
   "execution_count": 8,
   "id": "223871e5-c5d6-4d45-b12b-0adc8d6eaaba",
   "metadata": {},
   "outputs": [
    {
     "data": {
      "text/plain": [
       "(6, 2)"
      ]
     },
     "execution_count": 8,
     "metadata": {},
     "output_type": "execute_result"
    }
   ],
   "source": [
    "divmod(20,3)"
   ]
  },
  {
   "cell_type": "code",
   "execution_count": 12,
   "id": "9499f8ad-f959-446f-bdc9-13a27d472dbb",
   "metadata": {},
   "outputs": [
    {
     "name": "stdout",
     "output_type": "stream",
     "text": [
      "0 --> 10\n",
      "1 --> 20\n",
      "2 --> 30\n",
      "3 --> 40\n",
      "4 --> 50\n"
     ]
    }
   ],
   "source": [
    "l = [10,20,30,40,50]\n",
    "\n",
    "for idx,val in enumerate(l,start = 0):\n",
    "    print(idx,\"-->\",val)"
   ]
  },
  {
   "cell_type": "code",
   "execution_count": 14,
   "id": "53e0dac3-bfb0-4eb3-8850-09173f762f49",
   "metadata": {},
   "outputs": [],
   "source": [
    "l = [i for i in range(1,101)]"
   ]
  },
  {
   "cell_type": "code",
   "execution_count": 16,
   "id": "dc7fd381-7a10-41d5-ad5e-b7778b71951b",
   "metadata": {
    "scrolled": true
   },
   "outputs": [],
   "source": [
    "def fn(x):\n",
    "    return x%2 == 0"
   ]
  },
  {
   "cell_type": "code",
   "execution_count": 23,
   "id": "3c84d91b-2f46-4607-b55f-d7d244ef4dc9",
   "metadata": {},
   "outputs": [
    {
     "name": "stdout",
     "output_type": "stream",
     "text": [
      "1\n",
      "4\n",
      "9\n",
      "16\n",
      "25\n",
      "36\n",
      "49\n",
      "64\n",
      "81\n",
      "100\n"
     ]
    }
   ],
   "source": [
    "for ele in filter(lambda x:int(x**0.5) == x**0.5,l):\n",
    "    print(ele)"
   ]
  },
  {
   "cell_type": "code",
   "execution_count": 28,
   "id": "5f707c2f-c47c-4dc8-a5ac-9139924dfd20",
   "metadata": {
    "scrolled": true
   },
   "outputs": [
    {
     "name": "stdout",
     "output_type": "stream",
     "text": [
      "102\n",
      "104\n",
      "106\n",
      "108\n",
      "110\n",
      "112\n",
      "114\n",
      "116\n",
      "118\n",
      "120\n",
      "122\n",
      "124\n",
      "126\n",
      "128\n",
      "130\n",
      "132\n",
      "134\n",
      "136\n",
      "138\n",
      "140\n",
      "142\n",
      "144\n",
      "146\n",
      "148\n",
      "150\n",
      "152\n",
      "154\n",
      "156\n",
      "158\n",
      "160\n",
      "162\n",
      "164\n",
      "166\n",
      "168\n",
      "170\n",
      "172\n",
      "174\n",
      "176\n",
      "178\n",
      "180\n",
      "182\n",
      "184\n",
      "186\n",
      "188\n",
      "190\n",
      "192\n",
      "194\n",
      "196\n",
      "198\n",
      "200\n",
      "202\n",
      "204\n",
      "206\n",
      "208\n",
      "210\n",
      "212\n",
      "214\n",
      "216\n",
      "218\n",
      "220\n",
      "222\n",
      "224\n",
      "226\n",
      "228\n",
      "230\n",
      "232\n",
      "234\n",
      "236\n",
      "238\n",
      "240\n",
      "242\n",
      "244\n",
      "246\n",
      "248\n",
      "250\n",
      "252\n",
      "254\n",
      "256\n",
      "258\n",
      "260\n",
      "262\n",
      "264\n",
      "266\n",
      "268\n",
      "270\n",
      "272\n",
      "274\n",
      "276\n",
      "278\n",
      "280\n",
      "282\n",
      "284\n",
      "286\n",
      "288\n",
      "290\n",
      "292\n",
      "294\n",
      "296\n",
      "298\n",
      "300\n"
     ]
    }
   ],
   "source": [
    "for ele in map(lambda x,y:x+y,l,range(101,201)):\n",
    "    print(ele)"
   ]
  },
  {
   "cell_type": "code",
   "execution_count": 29,
   "id": "3b43f5ae-6d9c-41af-95bb-38a0682f78dd",
   "metadata": {
    "scrolled": true
   },
   "outputs": [
    {
     "name": "stdout",
     "output_type": "stream",
     "text": [
      "21\n",
      "22\n",
      "23\n",
      "24\n",
      "25\n",
      "26\n",
      "27\n",
      "28\n",
      "29\n",
      "30\n",
      "31\n",
      "32\n",
      "33\n",
      "34\n",
      "35\n",
      "36\n",
      "37\n",
      "38\n",
      "39\n",
      "40\n",
      "41\n",
      "42\n",
      "43\n",
      "44\n",
      "45\n",
      "46\n",
      "47\n",
      "48\n",
      "49\n",
      "50\n",
      "51\n",
      "52\n",
      "53\n",
      "54\n",
      "55\n",
      "56\n",
      "57\n",
      "58\n",
      "59\n",
      "60\n",
      "61\n",
      "62\n",
      "63\n",
      "64\n",
      "65\n",
      "66\n",
      "67\n",
      "68\n",
      "69\n",
      "70\n",
      "71\n",
      "72\n",
      "73\n",
      "74\n",
      "75\n",
      "76\n",
      "77\n",
      "78\n",
      "79\n",
      "80\n",
      "81\n",
      "82\n",
      "83\n",
      "84\n",
      "85\n",
      "86\n",
      "87\n",
      "88\n",
      "89\n",
      "90\n",
      "91\n",
      "92\n",
      "93\n",
      "94\n",
      "95\n",
      "96\n",
      "97\n",
      "98\n",
      "99\n",
      "100\n",
      "101\n",
      "102\n",
      "103\n",
      "104\n",
      "105\n",
      "106\n",
      "107\n",
      "108\n",
      "109\n",
      "110\n",
      "111\n",
      "112\n",
      "113\n",
      "114\n",
      "115\n",
      "116\n",
      "117\n",
      "118\n",
      "119\n",
      "120\n"
     ]
    }
   ],
   "source": [
    "for ele in map(lambda x:x+20,l):\n",
    "    print(ele)"
   ]
  },
  {
   "cell_type": "code",
   "execution_count": 30,
   "id": "93a1f37c-1af9-45d7-b316-bbf83502287e",
   "metadata": {},
   "outputs": [],
   "source": [
    "from functools import reduce"
   ]
  },
  {
   "cell_type": "code",
   "execution_count": 37,
   "id": "166c5855-e749-4442-bb83-c3d065297156",
   "metadata": {},
   "outputs": [
    {
     "data": {
      "text/plain": [
       "1"
      ]
     },
     "execution_count": 37,
     "metadata": {},
     "output_type": "execute_result"
    }
   ],
   "source": [
    "reduce(lambda a,b:min(a,b),l[:5])"
   ]
  },
  {
   "cell_type": "code",
   "execution_count": 46,
   "id": "bece7cad-0f12-40c2-af7e-17c25d1266b8",
   "metadata": {},
   "outputs": [],
   "source": [
    "import random\n",
    "\n",
    "random.shuffle(l)"
   ]
  },
  {
   "cell_type": "code",
   "execution_count": 47,
   "id": "432dd2a8-a084-434f-ac08-cb505371eb98",
   "metadata": {
    "scrolled": true
   },
   "outputs": [
    {
     "data": {
      "text/plain": [
       "[53,\n",
       " 73,\n",
       " 60,\n",
       " 26,\n",
       " 100,\n",
       " 99,\n",
       " 33,\n",
       " 1,\n",
       " 39,\n",
       " 79,\n",
       " 98,\n",
       " 65,\n",
       " 51,\n",
       " 21,\n",
       " 2,\n",
       " 25,\n",
       " 6,\n",
       " 72,\n",
       " 61,\n",
       " 62,\n",
       " 92,\n",
       " 59,\n",
       " 36,\n",
       " 18,\n",
       " 96,\n",
       " 52,\n",
       " 12,\n",
       " 44,\n",
       " 22,\n",
       " 82,\n",
       " 55,\n",
       " 85,\n",
       " 19,\n",
       " 43,\n",
       " 48,\n",
       " 35,\n",
       " 63,\n",
       " 17,\n",
       " 28,\n",
       " 14,\n",
       " 54,\n",
       " 31,\n",
       " 32,\n",
       " 41,\n",
       " 30,\n",
       " 34,\n",
       " 24,\n",
       " 50,\n",
       " 20,\n",
       " 76,\n",
       " 83,\n",
       " 40,\n",
       " 49,\n",
       " 64,\n",
       " 93,\n",
       " 70,\n",
       " 87,\n",
       " 42,\n",
       " 97,\n",
       " 29,\n",
       " 88,\n",
       " 8,\n",
       " 80,\n",
       " 38,\n",
       " 47,\n",
       " 89,\n",
       " 86,\n",
       " 84,\n",
       " 10,\n",
       " 94,\n",
       " 5,\n",
       " 77,\n",
       " 74,\n",
       " 15,\n",
       " 45,\n",
       " 27,\n",
       " 23,\n",
       " 95,\n",
       " 69,\n",
       " 56,\n",
       " 58,\n",
       " 3,\n",
       " 37,\n",
       " 90,\n",
       " 46,\n",
       " 4,\n",
       " 81,\n",
       " 67,\n",
       " 66,\n",
       " 9,\n",
       " 7,\n",
       " 13,\n",
       " 16,\n",
       " 68,\n",
       " 91,\n",
       " 11,\n",
       " 57,\n",
       " 75,\n",
       " 71,\n",
       " 78]"
      ]
     },
     "execution_count": 47,
     "metadata": {},
     "output_type": "execute_result"
    }
   ],
   "source": [
    "l"
   ]
  },
  {
   "cell_type": "code",
   "execution_count": 53,
   "id": "d65816b2-04be-45f1-86f0-77c1565dcf3b",
   "metadata": {
    "scrolled": true
   },
   "outputs": [],
   "source": [
    "l1 = sorted(l)"
   ]
  },
  {
   "cell_type": "code",
   "execution_count": 54,
   "id": "4b24cb76-4729-4d7d-9028-0b5e17f2b16c",
   "metadata": {},
   "outputs": [
    {
     "name": "stdout",
     "output_type": "stream",
     "text": [
      "[53, 73, 60, 26, 100, 99, 33, 1, 39, 79, 98, 65, 51, 21, 2, 25, 6, 72, 61, 62, 92, 59, 36, 18, 96, 52, 12, 44, 22, 82, 55, 85, 19, 43, 48, 35, 63, 17, 28, 14, 54, 31, 32, 41, 30, 34, 24, 50, 20, 76, 83, 40, 49, 64, 93, 70, 87, 42, 97, 29, 88, 8, 80, 38, 47, 89, 86, 84, 10, 94, 5, 77, 74, 15, 45, 27, 23, 95, 69, 56, 58, 3, 37, 90, 46, 4, 81, 67, 66, 9, 7, 13, 16, 68, 91, 11, 57, 75, 71, 78]\n"
     ]
    }
   ],
   "source": [
    "print(l)"
   ]
  },
  {
   "cell_type": "code",
   "execution_count": 55,
   "id": "59552a10-fa70-4f65-97ff-fa2f738cff4b",
   "metadata": {},
   "outputs": [
    {
     "name": "stdout",
     "output_type": "stream",
     "text": [
      "[100, 99, 98, 97, 96, 95, 94, 93, 92, 91, 90, 89, 88, 87, 86, 85, 84, 83, 82, 81, 80, 79, 78, 77, 76, 75, 74, 73, 72, 71, 70, 69, 68, 67, 66, 65, 64, 63, 62, 61, 60, 59, 58, 57, 56, 55, 54, 53, 52, 51, 50, 49, 48, 47, 46, 45, 44, 43, 42, 41, 40, 39, 38, 37, 36, 35, 34, 33, 32, 31, 30, 29, 28, 27, 26, 25, 24, 23, 22, 21, 20, 19, 18, 17, 16, 15, 14, 13, 12, 11, 10, 9, 8, 7, 6, 5, 4, 3, 2, 1]\n"
     ]
    }
   ],
   "source": [
    "print(l1)"
   ]
  },
  {
   "cell_type": "code",
   "execution_count": null,
   "id": "147a058f-4543-45d6-8a64-9559d4ceeaec",
   "metadata": {},
   "outputs": [],
   "source": []
  },
  {
   "cell_type": "code",
   "execution_count": null,
   "id": "b622e12c-2f66-4085-a8f2-fee80d246761",
   "metadata": {},
   "outputs": [],
   "source": []
  },
  {
   "cell_type": "code",
   "execution_count": 56,
   "id": "b47cb42a-c8fa-41a9-8be7-8c44d9a6bd0d",
   "metadata": {},
   "outputs": [],
   "source": [
    "l = [(10,20),(20,10),(15,30),(30,25),(10,15)]"
   ]
  },
  {
   "cell_type": "code",
   "execution_count": 59,
   "id": "2aa1c873-15e0-432f-b1e4-ebb1956a8d63",
   "metadata": {},
   "outputs": [
    {
     "data": {
      "text/plain": [
       "[(15, 30), (30, 25), (10, 20), (10, 15), (20, 10)]"
      ]
     },
     "execution_count": 59,
     "metadata": {},
     "output_type": "execute_result"
    }
   ],
   "source": [
    "sorted(l,key=lambda x:-x[1])"
   ]
  },
  {
   "cell_type": "code",
   "execution_count": null,
   "id": "3f0cefa8-0f27-4812-9c4b-81f9e4dd2c38",
   "metadata": {},
   "outputs": [],
   "source": []
  },
  {
   "cell_type": "code",
   "execution_count": 61,
   "id": "0fc79403-d991-43ac-8f7d-ce00df784a27",
   "metadata": {},
   "outputs": [],
   "source": [
    "class Car:\n",
    "    def __init__(self,model,speed,milage):\n",
    "        self.model = model\n",
    "        self.speed = speed\n",
    "        self.milage = milage\n",
    "    "
   ]
  },
  {
   "cell_type": "code",
   "execution_count": 62,
   "id": "800a2e88-6b0c-42d9-b3ec-3574e8a566c0",
   "metadata": {},
   "outputs": [],
   "source": [
    "car1 = Car(\"Toyota\", 100, 10000)\n",
    "car2 = Car(\"Honda\", 120, 15000)\n",
    "car3 = Car(\"Ford\", 130, 18000)\n",
    "cars = [car1, car2, car3]\n"
   ]
  },
  {
   "cell_type": "code",
   "execution_count": 66,
   "id": "73974db2-9074-4acf-88f5-bd1d56f296f0",
   "metadata": {},
   "outputs": [
    {
     "name": "stdout",
     "output_type": "stream",
     "text": [
      "Ford\n",
      "Honda\n",
      "Toyota\n"
     ]
    }
   ],
   "source": [
    "for car in sorted(cars,key = lambda car:-car.speed):\n",
    "    print(car.model)"
   ]
  },
  {
   "cell_type": "code",
   "execution_count": null,
   "id": "35d87990-d07c-4473-86d1-953f75fcca5e",
   "metadata": {},
   "outputs": [],
   "source": []
  }
 ],
 "metadata": {
  "kernelspec": {
   "display_name": "Python 3 (ipykernel)",
   "language": "python",
   "name": "python3"
  },
  "language_info": {
   "codemirror_mode": {
    "name": "ipython",
    "version": 3
   },
   "file_extension": ".py",
   "mimetype": "text/x-python",
   "name": "python",
   "nbconvert_exporter": "python",
   "pygments_lexer": "ipython3",
   "version": "3.12.9"
  }
 },
 "nbformat": 4,
 "nbformat_minor": 5
}
