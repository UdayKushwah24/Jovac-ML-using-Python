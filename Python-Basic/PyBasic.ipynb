{
 "cells": [
  {
   "cell_type": "markdown",
   "id": "01fe4731-4a29-45bd-af3c-d758bfc8df10",
   "metadata": {},
   "source": [
    "<h2>Variables</h2>\n",
    "<ul>\n",
    "    <li>KeyWords vs Identifier</li>\n",
    "    <li>Comments</li>\n",
    "    <li>Single Line vs Multiple Line</li>\n",
    "    <li>Multiple assignments</li>\n",
    "    <li>How do we Store a Variable it in the memory?</li>\n",
    "    <li>print</li>\n",
    "    <li>type and id</li>\n",
    "</ul>"
   ]
  },
  {
   "cell_type": "code",
   "execution_count": 1,
   "id": "402a36b2-94a5-4fd5-8d4d-e1b4f2b3cfe6",
   "metadata": {},
   "outputs": [
    {
     "name": "stdout",
     "output_type": "stream",
     "text": [
      "Hello\n"
     ]
    }
   ],
   "source": [
    "print('Hello')"
   ]
  },
  {
   "cell_type": "code",
   "execution_count": 2,
   "id": "a50c7217-3fb6-4e59-a84b-91c9473ebd6e",
   "metadata": {},
   "outputs": [],
   "source": [
    "a = 10\n",
    "b10 = 'Hello'\n",
    "_a = -20"
   ]
  },
  {
   "cell_type": "code",
   "execution_count": 3,
   "id": "80bf6fdd-4a6f-4581-a2aa-d2266f5afee3",
   "metadata": {},
   "outputs": [
    {
     "name": "stdout",
     "output_type": "stream",
     "text": [
      "10 Hello -20\n"
     ]
    }
   ],
   "source": [
    "print(a,b10,_a)"
   ]
  },
  {
   "cell_type": "code",
   "execution_count": 4,
   "id": "2da0426c-4f5d-444c-97a1-3595d9eda798",
   "metadata": {},
   "outputs": [
    {
     "name": "stdout",
     "output_type": "stream",
     "text": [
      "['False', 'None', 'True', 'and', 'as', 'assert', 'async', 'await', 'break', 'class', 'continue', 'def', 'del', 'elif', 'else', 'except', 'finally', 'for', 'from', 'global', 'if', 'import', 'in', 'is', 'lambda', 'nonlocal', 'not', 'or', 'pass', 'raise', 'return', 'try', 'while', 'with', 'yield'] 35\n"
     ]
    }
   ],
   "source": [
    "import keyword\n",
    "\n",
    "print(keyword.kwlist,len(keyword.kwlist))"
   ]
  },
  {
   "cell_type": "code",
   "execution_count": 13,
   "id": "54ec90d9-cd6c-4063-9892-d3abecd4a433",
   "metadata": {},
   "outputs": [
    {
     "name": "stdout",
     "output_type": "stream",
     "text": [
      "Hello\n"
     ]
    }
   ],
   "source": [
    "#Hello this is my First Notebook\n",
    "\"\"\"This\n",
    "is a multi-Line\n",
    "comment\"\"\"\n",
    "print('Hello')"
   ]
  },
  {
   "cell_type": "code",
   "execution_count": 5,
   "id": "5a4980bf-32b4-41ab-8dbe-11aa6bee879a",
   "metadata": {},
   "outputs": [],
   "source": [
    "a = 10\n",
    "b = 20\n",
    "\n",
    "a,b = 10,20"
   ]
  },
  {
   "cell_type": "code",
   "execution_count": 6,
   "id": "c91bc813-a5c8-4b45-9c8d-734984c09245",
   "metadata": {},
   "outputs": [
    {
     "name": "stdout",
     "output_type": "stream",
     "text": [
      "10 20\n"
     ]
    }
   ],
   "source": [
    "print(a,b)"
   ]
  },
  {
   "cell_type": "code",
   "execution_count": 8,
   "id": "27452bab-a5a8-48a4-abf1-0b86273939af",
   "metadata": {},
   "outputs": [],
   "source": [
    "a = 10 + 20 + \\\n",
    "    30 + 40 + \\\n",
    "    50"
   ]
  },
  {
   "cell_type": "code",
   "execution_count": 9,
   "id": "d93f89cd-7885-44db-a465-7f926bb142f1",
   "metadata": {},
   "outputs": [
    {
     "name": "stdout",
     "output_type": "stream",
     "text": [
      "150\n"
     ]
    }
   ],
   "source": [
    "print(a)"
   ]
  },
  {
   "cell_type": "code",
   "execution_count": 12,
   "id": "6e557d35-1475-45ce-9606-7846b0dbb16f",
   "metadata": {},
   "outputs": [
    {
     "name": "stdout",
     "output_type": "stream",
     "text": [
      "<class 'int'>\n"
     ]
    }
   ],
   "source": [
    "print(type(a))"
   ]
  },
  {
   "cell_type": "code",
   "execution_count": 13,
   "id": "390cdff3-97f1-4caf-8d8e-17e5c4b6f93e",
   "metadata": {},
   "outputs": [
    {
     "name": "stdout",
     "output_type": "stream",
     "text": [
      "<class 'str'>\n"
     ]
    }
   ],
   "source": [
    "b = 'Hello'\n",
    "print(type(b))"
   ]
  },
  {
   "cell_type": "code",
   "execution_count": 14,
   "id": "ada7db65-4538-404a-bb63-046f76370b80",
   "metadata": {},
   "outputs": [
    {
     "data": {
      "text/plain": [
       "140703464111192"
      ]
     },
     "execution_count": 14,
     "metadata": {},
     "output_type": "execute_result"
    }
   ],
   "source": [
    "id(a)"
   ]
  },
  {
   "cell_type": "code",
   "execution_count": 15,
   "id": "b3c3b1c0-2d2f-404e-88c0-c0d970d977fc",
   "metadata": {},
   "outputs": [
    {
     "data": {
      "text/plain": [
       "2268635283888"
      ]
     },
     "execution_count": 15,
     "metadata": {},
     "output_type": "execute_result"
    }
   ],
   "source": [
    "id(b)"
   ]
  },
  {
   "cell_type": "code",
   "execution_count": null,
   "id": "d7cfbea8-6821-46eb-aac5-038b86d4cfe0",
   "metadata": {},
   "outputs": [],
   "source": []
  },
  {
   "cell_type": "code",
   "execution_count": null,
   "id": "57944215-2de9-4a25-956d-0ef9f8f482fd",
   "metadata": {},
   "outputs": [],
   "source": []
  },
  {
   "cell_type": "markdown",
   "id": "c58b015f-95c6-4d4f-adb0-90bd8701d2b0",
   "metadata": {},
   "source": [
    "<h2>Data Types</h2>\n",
    "<table border=\"1\">\n",
    "<tbody>\n",
    "<tr><td>Text Type:</td><td>str</td></tr>\n",
    "<tr><td>Numeric Types:</td><td>int, float, complex</td></tr>\n",
    "<tr><td>Sequence Types:</td><td>list, tuple, range</td></tr>\n",
    "<tr><td>Mapping Type:</td><td>dict</td></tr>\n",
    "<tr><td>Set Types:</td><td>set, frozenset</td></tr>\n",
    "<tr><td>Boolean Type:</td><td>bool</td></tr>\n",
    "<tr><td>Binary Types:</td><td>bytes, bytearray, memoryview</td></tr>\n",
    "<tr><td>None Type:</td><td>NoneType</td></tr>\n",
    "</tbody>\n",
    "</table>\n",
    "Type Conversion"
   ]
  },
  {
   "cell_type": "code",
   "execution_count": 16,
   "id": "d3045a9f-d5dd-4567-a240-1bb6518a59bf",
   "metadata": {},
   "outputs": [],
   "source": [
    "a = 1000000000000000000000000000000000000000000000000\n",
    "b = 10.3\n",
    "c = 2 + 5j"
   ]
  },
  {
   "cell_type": "code",
   "execution_count": 17,
   "id": "7e40725a-68f5-45ae-b36a-1ef36e9adc4b",
   "metadata": {},
   "outputs": [
    {
     "name": "stdout",
     "output_type": "stream",
     "text": [
      "1000000000000000000000000000000000000000000000000 <class 'int'>\n",
      "10.3 <class 'float'>\n",
      "(2+5j) <class 'complex'>\n"
     ]
    }
   ],
   "source": [
    "print(a,type(a))\n",
    "print(b,type(b))\n",
    "print(c,type(c))"
   ]
  },
  {
   "cell_type": "code",
   "execution_count": 18,
   "id": "b63a2ebf-22cc-4cf6-be24-de8264b45779",
   "metadata": {},
   "outputs": [
    {
     "name": "stdout",
     "output_type": "stream",
     "text": [
      "[1, 2, 3, 4] <class 'list'>\n"
     ]
    }
   ],
   "source": [
    "l = [1,2,3,4]\n",
    "print(l,type(l))"
   ]
  },
  {
   "cell_type": "code",
   "execution_count": 19,
   "id": "9ea37c43-1586-4799-82e7-67b68b8daa9e",
   "metadata": {},
   "outputs": [
    {
     "name": "stdout",
     "output_type": "stream",
     "text": [
      "True <class 'bool'>\n"
     ]
    }
   ],
   "source": [
    "b = True\n",
    "print(b,type(b))"
   ]
  },
  {
   "cell_type": "code",
   "execution_count": 20,
   "id": "6d00ca81-1f9e-4423-84ea-4a7aece771a6",
   "metadata": {},
   "outputs": [
    {
     "name": "stdout",
     "output_type": "stream",
     "text": [
      "None <class 'NoneType'>\n"
     ]
    }
   ],
   "source": [
    "a = None\n",
    "print(a,type(a))"
   ]
  },
  {
   "cell_type": "code",
   "execution_count": 24,
   "id": "c9feca3d-b729-4874-8b9e-4614b75c869d",
   "metadata": {},
   "outputs": [
    {
     "ename": "ValueError",
     "evalue": "invalid literal for int() with base 10: '10abc'",
     "output_type": "error",
     "traceback": [
      "\u001b[31m---------------------------------------------------------------------------\u001b[39m",
      "\u001b[31mValueError\u001b[39m                                Traceback (most recent call last)",
      "\u001b[36mCell\u001b[39m\u001b[36m \u001b[39m\u001b[32mIn[24]\u001b[39m\u001b[32m, line 2\u001b[39m\n\u001b[32m      1\u001b[39m a = \u001b[33m'\u001b[39m\u001b[33m10abc\u001b[39m\u001b[33m'\u001b[39m\n\u001b[32m----> \u001b[39m\u001b[32m2\u001b[39m b = \u001b[38;5;28;43mint\u001b[39;49m\u001b[43m(\u001b[49m\u001b[43ma\u001b[49m\u001b[43m)\u001b[49m\n\u001b[32m      3\u001b[39m \u001b[38;5;28mprint\u001b[39m(b)\n",
      "\u001b[31mValueError\u001b[39m: invalid literal for int() with base 10: '10abc'"
     ]
    }
   ],
   "source": [
    "a = '10abc'\n",
    "b = int(a)\n",
    "print(b)"
   ]
  },
  {
   "cell_type": "markdown",
   "id": "34e1a4d4-ca3d-4f7b-b044-c5d3e64b8f19",
   "metadata": {},
   "source": [
    "<h2>Operators</h2>\n",
    "Types of Operators\n",
    "\n",
    "- Airthmetic: +, -, *, /, %, //, **\n",
    "- relational: ==, <=, <, >=, >, !=\n",
    "- logical: and, or, not\n",
    "- Bitwise: &, |, ~, ^, <<, >>\n",
    "- Assignment: =, +=, -= ...\n",
    "- Special: is, is not, in, not in"
   ]
  },
  {
   "cell_type": "code",
   "execution_count": 25,
   "id": "a024e8d1-cb20-4d3f-88b7-052e8d7893c5",
   "metadata": {},
   "outputs": [],
   "source": [
    "a = 10\n",
    "b = 120"
   ]
  },
  {
   "cell_type": "code",
   "execution_count": 26,
   "id": "9b6e6613-9544-46e5-9b0b-a8c0c466a149",
   "metadata": {},
   "outputs": [
    {
     "name": "stdout",
     "output_type": "stream",
     "text": [
      "130\n",
      "130\n",
      "-110\n",
      "1200\n",
      "0.08333333333333333\n",
      "0\n",
      "10\n",
      "1000000000000000000000000000000000000000000000000000000000000000000000000000000000000000000000000000000000000000000000000\n"
     ]
    }
   ],
   "source": [
    "c = a+b\n",
    "print(c)\n",
    "print(a+b)\n",
    "print(a-b)\n",
    "print(a*b)\n",
    "print(a/b)\n",
    "print(a//b)\n",
    "print(a%b)\n",
    "print(a**b)"
   ]
  },
  {
   "cell_type": "code",
   "execution_count": 27,
   "id": "601a3568-aeb5-49af-a5c8-fd945c73cd7d",
   "metadata": {},
   "outputs": [],
   "source": [
    "a = 10\n",
    "b = 20"
   ]
  },
  {
   "cell_type": "code",
   "execution_count": 28,
   "id": "548e9918-0c0f-4d13-800b-9150d51f15e1",
   "metadata": {},
   "outputs": [
    {
     "data": {
      "text/plain": [
       "False"
      ]
     },
     "execution_count": 28,
     "metadata": {},
     "output_type": "execute_result"
    }
   ],
   "source": [
    "a >= b"
   ]
  },
  {
   "cell_type": "code",
   "execution_count": 30,
   "id": "28eece38-59b9-4f01-a5b8-ded022412e5c",
   "metadata": {},
   "outputs": [
    {
     "name": "stdout",
     "output_type": "stream",
     "text": [
      "True\n"
     ]
    }
   ],
   "source": [
    "c = a <= b\n",
    "print(c)"
   ]
  },
  {
   "cell_type": "code",
   "execution_count": 47,
   "id": "c95265f0-7da7-4198-b9a0-4b144c300f81",
   "metadata": {},
   "outputs": [
    {
     "name": "stdout",
     "output_type": "stream",
     "text": [
      "False\n",
      "True\n"
     ]
    }
   ],
   "source": [
    "x = 1\n",
    "y = 10\n",
    "a = x < y\n",
    "b = False\n",
    "print(a and b)\n",
    "print(a or b)"
   ]
  },
  {
   "cell_type": "code",
   "execution_count": 48,
   "id": "9d4426dd-a733-4925-b4ac-cfc5897b7cbf",
   "metadata": {},
   "outputs": [
    {
     "data": {
      "text/plain": [
       "True"
      ]
     },
     "execution_count": 48,
     "metadata": {},
     "output_type": "execute_result"
    }
   ],
   "source": [
    "x < y or x == y"
   ]
  },
  {
   "cell_type": "code",
   "execution_count": 49,
   "id": "655ba775-6612-4a26-af5e-e27f3f08f650",
   "metadata": {},
   "outputs": [],
   "source": [
    "a = 10"
   ]
  },
  {
   "cell_type": "code",
   "execution_count": 52,
   "id": "076f55d3-fc02-441a-b6a8-5d2727156e58",
   "metadata": {},
   "outputs": [],
   "source": [
    "a -= 10"
   ]
  },
  {
   "cell_type": "code",
   "execution_count": 53,
   "id": "79171702-3f89-4998-af65-1d764ba12e74",
   "metadata": {},
   "outputs": [
    {
     "data": {
      "text/plain": [
       "10"
      ]
     },
     "execution_count": 53,
     "metadata": {},
     "output_type": "execute_result"
    }
   ],
   "source": [
    "a"
   ]
  },
  {
   "cell_type": "code",
   "execution_count": 37,
   "id": "a08923b8-65a2-43e8-8ca1-34cc55de78b4",
   "metadata": {},
   "outputs": [
    {
     "name": "stdout",
     "output_type": "stream",
     "text": [
      "True\n"
     ]
    }
   ],
   "source": [
    "a = 1000\n",
    "b = a\n",
    "print(id(a) == id(b))"
   ]
  },
  {
   "cell_type": "code",
   "execution_count": 38,
   "id": "0fbc9b5c-5cb0-4746-bc3b-50065854d247",
   "metadata": {},
   "outputs": [
    {
     "name": "stdout",
     "output_type": "stream",
     "text": [
      "10.0\n"
     ]
    }
   ],
   "source": [
    "a = 10\n",
    "print(float(a))"
   ]
  },
  {
   "cell_type": "code",
   "execution_count": null,
   "id": "d0023143-9fdc-4520-89b0-523308055f9b",
   "metadata": {},
   "outputs": [],
   "source": []
  },
  {
   "cell_type": "code",
   "execution_count": null,
   "id": "8263fe83-a443-43f2-b67c-7a3793f15ca2",
   "metadata": {},
   "outputs": [],
   "source": []
  },
  {
   "cell_type": "code",
   "execution_count": 39,
   "id": "6c9ae7de-76de-44c9-a9a6-1a5de59833b4",
   "metadata": {},
   "outputs": [
    {
     "name": "stdin",
     "output_type": "stream",
     "text": [
      "Enter Principal:  10000\n"
     ]
    }
   ],
   "source": [
    "p = input(\"Enter Principal: \")\n",
    "p = int(p)"
   ]
  },
  {
   "cell_type": "code",
   "execution_count": 40,
   "id": "8df7b676-22f4-411c-8c38-3a924f52f612",
   "metadata": {},
   "outputs": [
    {
     "name": "stdout",
     "output_type": "stream",
     "text": [
      "10000 <class 'int'>\n"
     ]
    }
   ],
   "source": [
    "print(p,type(p))"
   ]
  },
  {
   "cell_type": "code",
   "execution_count": 73,
   "id": "86c54b84-21f6-4635-a550-b95e165bbd2b",
   "metadata": {},
   "outputs": [
    {
     "name": "stdin",
     "output_type": "stream",
     "text": [
      "Enter Principal:  10000\n",
      "Enter Rate:  12\n",
      "Enter Year:  4\n"
     ]
    },
    {
     "name": "stdout",
     "output_type": "stream",
     "text": [
      "Simple Interest: 4800.0\n"
     ]
    }
   ],
   "source": [
    "p = int(input(\"Enter Principal: \"))\n",
    "r = float(input(\"Enter Rate: \"))\n",
    "y = int(input(\"Enter Year: \"))\n",
    "\n",
    "si = (p*r*y)/100\n",
    "print(\"Simple Interest: \"+str(si))"
   ]
  },
  {
   "cell_type": "code",
   "execution_count": null,
   "id": "cffbf2c5-c292-46d0-b681-2cd96c783b35",
   "metadata": {},
   "outputs": [],
   "source": []
  },
  {
   "cell_type": "code",
   "execution_count": null,
   "id": "ffdc0460-9697-4c09-a24c-6347a9101acc",
   "metadata": {},
   "outputs": [],
   "source": []
  },
  {
   "cell_type": "code",
   "execution_count": null,
   "id": "81feb100-0ef9-4edb-b8c7-115c934d9a9b",
   "metadata": {},
   "outputs": [],
   "source": []
  },
  {
   "cell_type": "markdown",
   "id": "7afc26b1-9f67-4319-999f-354c1fa792d8",
   "metadata": {},
   "source": [
    "## IfElse\n",
    "- if .. else\n",
    "- if .. elif .... else\n",
    "- Nested if\n",
    "\n",
    "Indentation\n",
    "Input from user"
   ]
  },
  {
   "cell_type": "code",
   "execution_count": 46,
   "id": "039543ea-b939-4562-a832-077c7b7b65e1",
   "metadata": {},
   "outputs": [
    {
     "name": "stdout",
     "output_type": "stream",
     "text": [
      "Hi\n",
      "Odd Number\n",
      "Bye\n"
     ]
    }
   ],
   "source": [
    "a = 21\n",
    "print(\"Hi\")\n",
    "if a%2 == 0:\n",
    "  print(\"Number is even\")\n",
    "  print(\"Hello World\")\n",
    "else:\n",
    "    print('Odd Number')\n",
    "print(\"Bye\")"
   ]
  },
  {
   "cell_type": "code",
   "execution_count": 48,
   "id": "f9d31b79-799d-4700-8779-631439226207",
   "metadata": {},
   "outputs": [
    {
     "name": "stdout",
     "output_type": "stream",
     "text": [
      "child\n"
     ]
    }
   ],
   "source": [
    "age = 15\n",
    "if age < 18:\n",
    "    print(\"child\")\n",
    "else:\n",
    "    if age < 60:\n",
    "        print(\"adult\")\n",
    "    else:\n",
    "        print(\"Senior Citizen\")"
   ]
  },
  {
   "cell_type": "code",
   "execution_count": 90,
   "id": "716df7f5-4064-4119-8784-0a339276f68d",
   "metadata": {},
   "outputs": [
    {
     "name": "stdout",
     "output_type": "stream",
     "text": [
      "child\n"
     ]
    }
   ],
   "source": [
    "age = 15\n",
    "if age < 18:\n",
    "    print(\"child\")\n",
    "elif age < 60:\n",
    "    print(\"adult\")\n",
    "else:\n",
    "    print(\"Senior Citizen\")"
   ]
  },
  {
   "cell_type": "code",
   "execution_count": 49,
   "id": "ca53ed7e-248c-473e-a8bd-3197d7e556f8",
   "metadata": {},
   "outputs": [
    {
     "name": "stdout",
     "output_type": "stream",
     "text": [
      "A\n"
     ]
    }
   ],
   "source": [
    "marks = 100\n",
    "if 80 <= marks and marks <= 100:\n",
    "    print('A')\n",
    "elif 60 <= marks and marks < 80:\n",
    "    print('B')\n",
    "elif 40 <= marks and marks < 60:\n",
    "    print('C')\n",
    "elif 0 <= marks and marks < 40:\n",
    "    print('Fail')\n",
    "else:\n",
    "    print('Not Valid')"
   ]
  },
  {
   "cell_type": "code",
   "execution_count": 52,
   "id": "01b3cfd4-17af-4d6d-9c78-de91d44b3a82",
   "metadata": {},
   "outputs": [
    {
     "name": "stdout",
     "output_type": "stream",
     "text": [
      "Fail\n"
     ]
    }
   ],
   "source": [
    "marks = 10\n",
    "if 80 <= marks <= 100:\n",
    "    print('A')\n",
    "elif 60 <= marks < 80:\n",
    "    print('B')\n",
    "elif 40 <= marks < 60:\n",
    "    print('C')\n",
    "elif 0 <= marks < 40:\n",
    "    print('Fail')\n",
    "else:\n",
    "    print('Not Valid')"
   ]
  },
  {
   "cell_type": "code",
   "execution_count": null,
   "id": "9ca8b97b-42b9-465a-8ec9-0fe29084e56e",
   "metadata": {},
   "outputs": [],
   "source": []
  },
  {
   "cell_type": "markdown",
   "id": "6351886b-88f0-4838-bd27-bf19093b3e8b",
   "metadata": {},
   "source": [
    "## Ternary Operator\n",
    "Syntax:\\\n",
    "First_val if condn else second_val"
   ]
  },
  {
   "cell_type": "code",
   "execution_count": 53,
   "id": "43b2ab41-e550-459a-8bc3-d6e3243638c7",
   "metadata": {},
   "outputs": [],
   "source": [
    "age = 20\n",
    "c = 'Child' if age < 18 else 'Adult'"
   ]
  },
  {
   "cell_type": "code",
   "execution_count": 54,
   "id": "3ebd771a-b467-4c52-bd18-ded462a0ca88",
   "metadata": {},
   "outputs": [
    {
     "name": "stdout",
     "output_type": "stream",
     "text": [
      "Adult\n"
     ]
    }
   ],
   "source": [
    "print(c)"
   ]
  },
  {
   "cell_type": "markdown",
   "id": "0586085a-a56c-4578-8e8a-c8eee3622b8c",
   "metadata": {},
   "source": [
    "## while loop\n",
    "\n",
    "To iterate over a block of code as long as the test expression is true.\\\n",
    "**Syntax:**\\\n",
    "while testExp:\\\n",
    "Body\\\n",
    "else:\\\n",
    "After testExp is false"
   ]
  },
  {
   "cell_type": "code",
   "execution_count": 55,
   "id": "bd4c13fb-4b36-4a5e-bbcd-8241975f0fbb",
   "metadata": {},
   "outputs": [
    {
     "name": "stdout",
     "output_type": "stream",
     "text": [
      "Hello\n",
      "Hello\n",
      "Hello\n",
      "Hello\n",
      "Hello\n"
     ]
    }
   ],
   "source": [
    "i = 0\n",
    "while i < 5:\n",
    "    print('Hello')\n",
    "    i += 1"
   ]
  },
  {
   "cell_type": "code",
   "execution_count": 57,
   "id": "15a9b37e-08ca-4b2d-9da9-f42866ce1ac3",
   "metadata": {},
   "outputs": [
    {
     "name": "stdout",
     "output_type": "stream",
     "text": [
      "sum: 15\n"
     ]
    }
   ],
   "source": [
    "i = 1\n",
    "N = 0\n",
    "while i <= 5:\n",
    "    N += i\n",
    "    i += 1\n",
    "print('sum:',N)"
   ]
  },
  {
   "cell_type": "code",
   "execution_count": 17,
   "id": "50159f64-2b03-4ff9-9492-ca8ed0344245",
   "metadata": {},
   "outputs": [
    {
     "name": "stdout",
     "output_type": "stream",
     "text": [
      "3\n",
      "5\n",
      "7\n",
      "9\n",
      "11\n",
      "Sum: 35\n"
     ]
    }
   ],
   "source": [
    "n = 0\n",
    "sumS = 0\n",
    "while n < 5:\n",
    "    ele = 2*n+3\n",
    "    sumS += ele\n",
    "    print(ele)\n",
    "    n+=1\n",
    "\n",
    "print(\"Sum:\",sumS)"
   ]
  },
  {
   "cell_type": "code",
   "execution_count": 18,
   "id": "ffd3c67f-ee91-498a-b6e1-6c9e64108574",
   "metadata": {},
   "outputs": [
    {
     "name": "stdout",
     "output_type": "stream",
     "text": [
      "1\n",
      "2\n",
      "3\n",
      "5\n",
      "6\n",
      "10\n",
      "15\n",
      "30\n"
     ]
    }
   ],
   "source": [
    "n = 30\n",
    "i = 1\n",
    "while i <= n:\n",
    "    if n%i == 0:\n",
    "        print(i)\n",
    "    i += 1"
   ]
  },
  {
   "cell_type": "code",
   "execution_count": 58,
   "id": "69b8ff32-008a-41f5-852e-bf91b0a72e6a",
   "metadata": {},
   "outputs": [
    {
     "name": "stdout",
     "output_type": "stream",
     "text": [
      "1\n",
      "2\n",
      "3\n",
      "5\n",
      "6\n",
      "10\n",
      "15\n",
      "30\n",
      "No of Factors: 8\n"
     ]
    }
   ],
   "source": [
    "n = 30\n",
    "i = 1\n",
    "c = 0\n",
    "while i <= n:\n",
    "    if n%i == 0:\n",
    "        print(i)\n",
    "        c += 1\n",
    "    i += 1\n",
    "print(\"No of Factors:\",c)"
   ]
  },
  {
   "cell_type": "code",
   "execution_count": null,
   "id": "26c45c3b-8130-467f-ac78-b1df32d555f4",
   "metadata": {},
   "outputs": [],
   "source": []
  },
  {
   "cell_type": "code",
   "execution_count": 61,
   "id": "86e4a3d6-015a-4163-9d66-ec0bcbcec6e0",
   "metadata": {},
   "outputs": [
    {
     "name": "stdout",
     "output_type": "stream",
     "text": [
      "2 --> Prime\n",
      "3 --> Prime\n",
      "4 --> Not Prime\n",
      "5 --> Prime\n",
      "6 --> Not Prime\n",
      "7 --> Prime\n",
      "8 --> Not Prime\n",
      "9 --> Not Prime\n",
      "10 --> Not Prime\n",
      "11 --> Prime\n",
      "12 --> Not Prime\n",
      "13 --> Prime\n",
      "14 --> Not Prime\n",
      "15 --> Not Prime\n",
      "16 --> Not Prime\n",
      "17 --> Prime\n",
      "18 --> Not Prime\n",
      "19 --> Prime\n",
      "20 --> Not Prime\n",
      "21 --> Not Prime\n",
      "22 --> Not Prime\n",
      "23 --> Prime\n",
      "24 --> Not Prime\n",
      "25 --> Not Prime\n",
      "26 --> Not Prime\n",
      "27 --> Not Prime\n",
      "28 --> Not Prime\n",
      "29 --> Prime\n",
      "30 --> Not Prime\n",
      "31 --> Prime\n",
      "32 --> Not Prime\n",
      "33 --> Not Prime\n",
      "34 --> Not Prime\n",
      "35 --> Not Prime\n",
      "36 --> Not Prime\n",
      "37 --> Prime\n",
      "38 --> Not Prime\n",
      "39 --> Not Prime\n",
      "40 --> Not Prime\n",
      "41 --> Prime\n",
      "42 --> Not Prime\n",
      "43 --> Prime\n",
      "44 --> Not Prime\n",
      "45 --> Not Prime\n",
      "46 --> Not Prime\n",
      "47 --> Prime\n",
      "48 --> Not Prime\n",
      "49 --> Not Prime\n",
      "50 --> Not Prime\n",
      "51 --> Not Prime\n",
      "52 --> Not Prime\n",
      "53 --> Prime\n",
      "54 --> Not Prime\n",
      "55 --> Not Prime\n",
      "56 --> Not Prime\n",
      "57 --> Not Prime\n",
      "58 --> Not Prime\n",
      "59 --> Prime\n",
      "60 --> Not Prime\n",
      "61 --> Prime\n",
      "62 --> Not Prime\n",
      "63 --> Not Prime\n",
      "64 --> Not Prime\n",
      "65 --> Not Prime\n",
      "66 --> Not Prime\n",
      "67 --> Prime\n",
      "68 --> Not Prime\n",
      "69 --> Not Prime\n",
      "70 --> Not Prime\n",
      "71 --> Prime\n",
      "72 --> Not Prime\n",
      "73 --> Prime\n",
      "74 --> Not Prime\n",
      "75 --> Not Prime\n",
      "76 --> Not Prime\n",
      "77 --> Not Prime\n",
      "78 --> Not Prime\n",
      "79 --> Prime\n",
      "80 --> Not Prime\n",
      "81 --> Not Prime\n",
      "82 --> Not Prime\n",
      "83 --> Prime\n",
      "84 --> Not Prime\n",
      "85 --> Not Prime\n",
      "86 --> Not Prime\n",
      "87 --> Not Prime\n",
      "88 --> Not Prime\n",
      "89 --> Prime\n",
      "90 --> Not Prime\n",
      "91 --> Not Prime\n",
      "92 --> Not Prime\n",
      "93 --> Not Prime\n",
      "94 --> Not Prime\n",
      "95 --> Not Prime\n",
      "96 --> Not Prime\n",
      "97 --> Prime\n",
      "98 --> Not Prime\n",
      "99 --> Not Prime\n",
      "100 --> Not Prime\n"
     ]
    }
   ],
   "source": [
    "num = 100\n",
    "n = 2\n",
    "while n <= num:\n",
    "    i = 2\n",
    "    while i*i <= n:\n",
    "        if n%i == 0:\n",
    "            print(n,'-->','Not Prime')\n",
    "            break\n",
    "        i += 1\n",
    "    else:\n",
    "        print(n,'-->','Prime')\n",
    "\n",
    "    n += 1"
   ]
  },
  {
   "cell_type": "code",
   "execution_count": null,
   "id": "194f7265-7aeb-44d3-91c7-e5616d4d2f91",
   "metadata": {},
   "outputs": [],
   "source": []
  },
  {
   "cell_type": "code",
   "execution_count": null,
   "id": "ebfa0423-c2f4-4a0d-bb04-7e89d7381051",
   "metadata": {},
   "outputs": [],
   "source": []
  },
  {
   "cell_type": "code",
   "execution_count": null,
   "id": "7464b485-4b9a-40ca-90f0-182ed7b727e8",
   "metadata": {},
   "outputs": [],
   "source": []
  },
  {
   "cell_type": "code",
   "execution_count": null,
   "id": "5995aa70-bfbd-49e1-9b40-96d4f23a8709",
   "metadata": {},
   "outputs": [],
   "source": []
  },
  {
   "cell_type": "code",
   "execution_count": null,
   "id": "93c09c7d-c501-4bc7-9ea9-58b24fc89f58",
   "metadata": {},
   "outputs": [],
   "source": []
  },
  {
   "cell_type": "code",
   "execution_count": null,
   "id": "fda053b1-5b24-4901-bf7f-eddf609baab8",
   "metadata": {},
   "outputs": [],
   "source": []
  },
  {
   "cell_type": "code",
   "execution_count": null,
   "id": "d4d866ef-0232-4f33-8a39-8508952ed361",
   "metadata": {},
   "outputs": [],
   "source": []
  },
  {
   "cell_type": "code",
   "execution_count": null,
   "id": "e4abc954-818f-4488-b584-a55c903e06a8",
   "metadata": {},
   "outputs": [],
   "source": []
  }
 ],
 "metadata": {
  "kernelspec": {
   "display_name": "Python 3 (ipykernel)",
   "language": "python",
   "name": "python3"
  },
  "language_info": {
   "codemirror_mode": {
    "name": "ipython",
    "version": 3
   },
   "file_extension": ".py",
   "mimetype": "text/x-python",
   "name": "python",
   "nbconvert_exporter": "python",
   "pygments_lexer": "ipython3",
   "version": "3.12.9"
  }
 },
 "nbformat": 4,
 "nbformat_minor": 5
}
