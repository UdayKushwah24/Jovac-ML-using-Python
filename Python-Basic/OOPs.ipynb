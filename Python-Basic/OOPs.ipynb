{
 "cells": [
  {
   "cell_type": "markdown",
   "id": "3e7cd8b1-2df6-4897-9493-afbbb63d36c7",
   "metadata": {},
   "source": [
    "# Class\n",
    "- Class is a template/blueprint of the entity. It lays out all the attributes(characteristics) and behaviours(methods) the objects/instances of my class are going to have\n",
    "- Data Members and Functions\n",
    "- The init Method\n",
    "    - class constructor\n",
    "    - it is called implicitly whenever a class is called or a new object is created\n",
    "- No overloading\n",
    "- Everything in Python is an object\n",
    "    - Every data-type in python is an instance of object class.\n",
    "    - int, float, boolean, list, string, dictionary, functions\n",
    "    - isIntance()\n",
    "- Class Variables\n",
    "    - instance variables are for data unique for each instance\n",
    "    - class variables are for attributes and methods shared by all instances of the class\n",
    "    - Memory Management\n",
    "- Inheritance\n",
    "    - How\n",
    "    - super() in init()\n",
    "    - Method Overriding\n",
    "    - Memory Management\n",
    "- Dunders/Magic Methods\n",
    "    - Python provides us with special functions which are called implicitly while performing certain operations on an object. These are dunders\n",
    "    - They start and end with double underscore\n",
    "    - Commonly used for operator overloading\n",
    "    - A Few examples:\n",
    "        1. \\_\\_init__ is called when an object is created\n",
    "        2. \\_\\_len__ is called when calling len(obj)\n",
    "        3. \\_\\_str__ is called when we try to print an object\n",
    "        4. \\_\\_add__ is called when two objects are added together\n",
    "- Multiple Inheritance"
   ]
  },
  {
   "cell_type": "code",
   "execution_count": 96,
   "id": "26c94338-63e1-470e-9f12-626418ce2d5f",
   "metadata": {},
   "outputs": [],
   "source": [
    "class Person:\n",
    "    def __init__(self,name = 'xyz',age=-1):\n",
    "        self.name = name\n",
    "        self.age = age\n",
    "    \n",
    "    def introduce(s):\n",
    "        s.y = 'y'\n",
    "        print(f\"Hi!! I am {s.name}. My age is {s.age}\")"
   ]
  },
  {
   "cell_type": "code",
   "execution_count": 97,
   "id": "92807de4-86b0-4840-b86e-f6cd4501bcd6",
   "metadata": {},
   "outputs": [],
   "source": [
    "p1 = Person('Shubham',28)"
   ]
  },
  {
   "cell_type": "code",
   "execution_count": 98,
   "id": "d2059508-43cc-414b-a9ab-032a5d382438",
   "metadata": {},
   "outputs": [
    {
     "name": "stdout",
     "output_type": "stream",
     "text": [
      "<__main__.Person object at 0x000002050F0970E0>\n"
     ]
    }
   ],
   "source": [
    "print(p1)"
   ]
  },
  {
   "cell_type": "code",
   "execution_count": 99,
   "id": "1e250ed5-b549-4036-9080-25998e45af18",
   "metadata": {},
   "outputs": [],
   "source": [
    "p1.name = 'Shubham'\n",
    "p1.age = 28"
   ]
  },
  {
   "cell_type": "code",
   "execution_count": 100,
   "id": "cb219ad0-68ce-491a-bee7-07b283c20c5e",
   "metadata": {},
   "outputs": [
    {
     "name": "stdout",
     "output_type": "stream",
     "text": [
      "Shubham 28\n"
     ]
    }
   ],
   "source": [
    "print(p1.name,p1.age)"
   ]
  },
  {
   "cell_type": "code",
   "execution_count": 101,
   "id": "e8780a4a-77c5-4f82-ae92-4dbdf97ba2eb",
   "metadata": {},
   "outputs": [
    {
     "name": "stdout",
     "output_type": "stream",
     "text": [
      "Hi!! I am Shubham. My age is 28\n"
     ]
    }
   ],
   "source": [
    "p1.introduce()"
   ]
  },
  {
   "cell_type": "code",
   "execution_count": 102,
   "id": "ccd7190f-7292-475f-ab7d-6b103239b908",
   "metadata": {},
   "outputs": [],
   "source": [
    "p2 = Person()\n",
    "p2.name = 'ruchi'"
   ]
  },
  {
   "cell_type": "code",
   "execution_count": 103,
   "id": "fb60560d-0ebc-4177-9c90-5f96ccc26d1b",
   "metadata": {},
   "outputs": [
    {
     "name": "stdout",
     "output_type": "stream",
     "text": [
      "Hi!! I am ruchi. My age is -1\n"
     ]
    }
   ],
   "source": [
    "p2.introduce()"
   ]
  },
  {
   "cell_type": "code",
   "execution_count": 104,
   "id": "4aa63299-ab8c-4fac-a647-862729f4eb80",
   "metadata": {},
   "outputs": [
    {
     "data": {
      "text/plain": [
       "'y'"
      ]
     },
     "execution_count": 104,
     "metadata": {},
     "output_type": "execute_result"
    }
   ],
   "source": [
    "p1.y"
   ]
  },
  {
   "cell_type": "code",
   "execution_count": 105,
   "id": "c8bed909-44b8-4b2a-8b73-3b2d721144a5",
   "metadata": {},
   "outputs": [
    {
     "data": {
      "text/plain": [
       "'y'"
      ]
     },
     "execution_count": 105,
     "metadata": {},
     "output_type": "execute_result"
    }
   ],
   "source": [
    "p2.y"
   ]
  },
  {
   "cell_type": "code",
   "execution_count": 106,
   "id": "6e16717e-32be-4c32-8937-a251792b2324",
   "metadata": {},
   "outputs": [
    {
     "name": "stdout",
     "output_type": "stream",
     "text": [
      "Hi!! I am Shubham. My age is 28\n"
     ]
    }
   ],
   "source": [
    "Person.introduce(p1)"
   ]
  },
  {
   "cell_type": "code",
   "execution_count": 107,
   "id": "94a2cf6b-8b7d-4d34-8edb-59cfa1b1f902",
   "metadata": {},
   "outputs": [
    {
     "data": {
      "text/plain": [
       "True"
      ]
     },
     "execution_count": 107,
     "metadata": {},
     "output_type": "execute_result"
    }
   ],
   "source": [
    "a = 10\n",
    "isinstance(a,int)"
   ]
  },
  {
   "cell_type": "code",
   "execution_count": null,
   "id": "f9899eb0-fde0-43e9-86f3-527c317e864a",
   "metadata": {},
   "outputs": [],
   "source": []
  },
  {
   "cell_type": "code",
   "execution_count": 140,
   "id": "e72d0a0b-c587-4d4b-ae0c-64b33ea742ee",
   "metadata": {},
   "outputs": [],
   "source": [
    "class Dog:\n",
    "    tail = 1\n",
    "    tricks = []\n",
    "    def __init__(self,name='abc',breed='xyz'):\n",
    "        self.name = name\n",
    "        self.breed = breed\n",
    "\n",
    "    def bark(self):\n",
    "        print(f\"{self.name}: bhow bhow\")"
   ]
  },
  {
   "cell_type": "code",
   "execution_count": 141,
   "id": "c5fae291-98cf-47ad-a0a6-63e57dbf474e",
   "metadata": {},
   "outputs": [],
   "source": [
    "d1 = Dog(\"Pochi\",\"Labra\")\n",
    "d2 = Dog(\"Rockey\",\"Golden Retiever\")"
   ]
  },
  {
   "cell_type": "code",
   "execution_count": 142,
   "id": "7560ca18-dcf4-42fd-82f2-8ac0a16100fd",
   "metadata": {},
   "outputs": [
    {
     "name": "stdout",
     "output_type": "stream",
     "text": [
      "Pochi: bhow bhow\n"
     ]
    }
   ],
   "source": [
    "d1.bark()"
   ]
  },
  {
   "cell_type": "code",
   "execution_count": 143,
   "id": "0c258613-bc54-429d-bf81-6e30a0865508",
   "metadata": {},
   "outputs": [
    {
     "name": "stdout",
     "output_type": "stream",
     "text": [
      "Rockey: bhow bhow\n"
     ]
    }
   ],
   "source": [
    "d2.bark()"
   ]
  },
  {
   "cell_type": "code",
   "execution_count": 144,
   "id": "ac05d35f-854e-4a82-a233-45a111e2ba33",
   "metadata": {},
   "outputs": [],
   "source": [
    "d1.tail = 3"
   ]
  },
  {
   "cell_type": "code",
   "execution_count": 145,
   "id": "45c50c89-9d40-4daa-bae7-58a062807c79",
   "metadata": {},
   "outputs": [
    {
     "data": {
      "text/plain": [
       "1"
      ]
     },
     "execution_count": 145,
     "metadata": {},
     "output_type": "execute_result"
    }
   ],
   "source": [
    "d2.tail"
   ]
  },
  {
   "cell_type": "code",
   "execution_count": 146,
   "id": "3bf8e170-949a-4c11-b5c9-11146ff738b7",
   "metadata": {},
   "outputs": [
    {
     "name": "stdout",
     "output_type": "stream",
     "text": [
      "3\n"
     ]
    }
   ],
   "source": [
    "print(d1.tail)"
   ]
  },
  {
   "cell_type": "code",
   "execution_count": 147,
   "id": "04435144-edee-4f75-84d5-d48765dd7326",
   "metadata": {},
   "outputs": [],
   "source": [
    "d1.tricks = []\n",
    "d1.tricks.append('Sit')\n",
    "d2.tricks.append('Stand')\n",
    "Dog.tricks.append('HandShake')"
   ]
  },
  {
   "cell_type": "code",
   "execution_count": 148,
   "id": "fb6f90df-190d-45c4-bfa7-d317f0d754a5",
   "metadata": {},
   "outputs": [
    {
     "name": "stdout",
     "output_type": "stream",
     "text": [
      "['Sit']\n",
      "['Stand', 'HandShake']\n"
     ]
    }
   ],
   "source": [
    "print(d1.tricks)\n",
    "print(d2.tricks)"
   ]
  },
  {
   "cell_type": "code",
   "execution_count": null,
   "id": "7fcd74d0-f458-43ca-a987-b9071f21d34b",
   "metadata": {},
   "outputs": [],
   "source": []
  },
  {
   "cell_type": "code",
   "execution_count": 149,
   "id": "b0cb16ff-4a6e-49b3-92b9-2fa410960671",
   "metadata": {},
   "outputs": [],
   "source": [
    "class Person:\n",
    "    def __init__(self,name = 'xyz',age=-1):\n",
    "        self.name = name\n",
    "        self.age = age\n",
    "    \n",
    "    def introduce(s):\n",
    "        print(f\"Hi!! I am {s.name}. My age is {s.age}\")"
   ]
  },
  {
   "cell_type": "code",
   "execution_count": 169,
   "id": "6666993f-48ca-4bd4-8a8f-f06b77d4f689",
   "metadata": {},
   "outputs": [],
   "source": [
    "class Student(Person):\n",
    "    def __init__(self,name,age,rollno):\n",
    "        # super().__init__(name,age)\n",
    "        Person.__init__(self,name,age)\n",
    "        self.rollno = rollno\n",
    "\n",
    "    def introduce(self):\n",
    "        super().introduce()\n",
    "        print(f\"Hi!! I am student {self.name}. My rollno is {self.rollno}\")"
   ]
  },
  {
   "cell_type": "code",
   "execution_count": 170,
   "id": "37247f6a-049c-4093-9e78-790c6708a427",
   "metadata": {},
   "outputs": [],
   "source": [
    "s1 = Student('Arnav',20,100)"
   ]
  },
  {
   "cell_type": "code",
   "execution_count": 171,
   "id": "7e07aedb-a3ee-491e-a3ac-655449fe2093",
   "metadata": {},
   "outputs": [
    {
     "name": "stdout",
     "output_type": "stream",
     "text": [
      "Hi!! I am Arnav. My age is 20\n",
      "Hi!! I am student Arnav. My rollno is 100\n"
     ]
    }
   ],
   "source": [
    "s1.introduce()"
   ]
  },
  {
   "cell_type": "code",
   "execution_count": 172,
   "id": "a8c69f71-4123-43bd-8263-fefca1fc88d2",
   "metadata": {},
   "outputs": [
    {
     "data": {
      "text/plain": [
       "100"
      ]
     },
     "execution_count": 172,
     "metadata": {},
     "output_type": "execute_result"
    }
   ],
   "source": [
    "s1.rollno"
   ]
  },
  {
   "cell_type": "code",
   "execution_count": 173,
   "id": "a90a4ddd-9d03-42e3-a32a-c16bed2edcbe",
   "metadata": {},
   "outputs": [],
   "source": [
    "def fn(p):\n",
    "    p.introduce()"
   ]
  },
  {
   "cell_type": "code",
   "execution_count": 174,
   "id": "2f69e0d5-d891-444a-bfa7-85e2bf946489",
   "metadata": {},
   "outputs": [],
   "source": [
    "p1 = Person('Shubham',28)\n",
    "s1 = Student('Arnav',20,100)"
   ]
  },
  {
   "cell_type": "code",
   "execution_count": 176,
   "id": "68e89e6a-6432-46eb-b838-6612e4d018f7",
   "metadata": {},
   "outputs": [
    {
     "name": "stdout",
     "output_type": "stream",
     "text": [
      "Hi!! I am Shubham. My age is 28\n"
     ]
    }
   ],
   "source": [
    "fn(p1)"
   ]
  },
  {
   "cell_type": "code",
   "execution_count": 177,
   "id": "3e32ffad-83b3-4197-a3f0-3c6f4d697a74",
   "metadata": {},
   "outputs": [
    {
     "name": "stdout",
     "output_type": "stream",
     "text": [
      "Hi!! I am Arnav. My age is 20\n",
      "Hi!! I am student Arnav. My rollno is 100\n"
     ]
    }
   ],
   "source": [
    "fn(s1)"
   ]
  },
  {
   "cell_type": "code",
   "execution_count": null,
   "id": "52d6f7c9-8793-410e-84cf-1b5d043edb9a",
   "metadata": {},
   "outputs": [],
   "source": []
  },
  {
   "cell_type": "code",
   "execution_count": 244,
   "id": "d3c062d2-e946-4ca7-8e55-e35e8734fb1f",
   "metadata": {},
   "outputs": [],
   "source": [
    "class Car:\n",
    "    def __init__(self,model,speed,milage):\n",
    "        self.model = model\n",
    "        self.speed = speed\n",
    "        self.milage = milage\n",
    "\n",
    "    def __gt__(self,oth):\n",
    "        return self.speed > oth.speed\n",
    "\n",
    "    def __len__(self):\n",
    "        print('In length dunder')\n",
    "        return self.milage\n",
    "\n",
    "    def __add__(self,oth):\n",
    "        return Car(self.model,oth.speed,self.milage+oth.milage)\n",
    "        # return 100\n",
    "    def __str__(self):\n",
    "        return f\"model: {self.model} speed: {self.speed} mileage: {self.milage}\""
   ]
  },
  {
   "cell_type": "code",
   "execution_count": 245,
   "id": "9cd4bda4-0a12-4d36-907b-8a6f6749aa37",
   "metadata": {},
   "outputs": [],
   "source": [
    "c1 = Car('Roles Royce',200,30)\n",
    "c2 = Car('Defender', 180,40)\n",
    "c3 = Car('Porche',250,20)"
   ]
  },
  {
   "cell_type": "code",
   "execution_count": 246,
   "id": "5a986005-5e87-4c71-8a08-17e2d9a1cbbd",
   "metadata": {},
   "outputs": [],
   "source": [
    "l = [1,2,3,4,5]"
   ]
  },
  {
   "cell_type": "code",
   "execution_count": 247,
   "id": "88a77a4f-130f-4205-9a24-3c991ccd0383",
   "metadata": {},
   "outputs": [
    {
     "data": {
      "text/plain": [
       "5"
      ]
     },
     "execution_count": 247,
     "metadata": {},
     "output_type": "execute_result"
    }
   ],
   "source": [
    "len(l)"
   ]
  },
  {
   "cell_type": "code",
   "execution_count": 248,
   "id": "680fcdbf-996c-4d0e-9294-358eea49d4b8",
   "metadata": {},
   "outputs": [
    {
     "name": "stdout",
     "output_type": "stream",
     "text": [
      "In length dunder\n"
     ]
    },
    {
     "data": {
      "text/plain": [
       "30"
      ]
     },
     "execution_count": 248,
     "metadata": {},
     "output_type": "execute_result"
    }
   ],
   "source": [
    "len(c1)"
   ]
  },
  {
   "cell_type": "code",
   "execution_count": 249,
   "id": "ed5c663e-ff93-43a4-a63d-1eb1b999f2b7",
   "metadata": {},
   "outputs": [],
   "source": [
    "l1 = [1,2,3,4]\n",
    "l2 = [5,6,7,8]\n",
    "l3 = l1+l2"
   ]
  },
  {
   "cell_type": "code",
   "execution_count": 250,
   "id": "579e348d-e7ef-49c2-9314-601e36163f07",
   "metadata": {},
   "outputs": [
    {
     "data": {
      "text/plain": [
       "[1, 2, 3, 4, 5, 6, 7, 8]"
      ]
     },
     "execution_count": 250,
     "metadata": {},
     "output_type": "execute_result"
    }
   ],
   "source": [
    "l3"
   ]
  },
  {
   "cell_type": "code",
   "execution_count": 251,
   "id": "15bc3a69-f2ef-46f2-84b1-7f3f6994e8f1",
   "metadata": {},
   "outputs": [],
   "source": [
    "c3 = c1+c2\n",
    "# print(c3.model,c3.speed,c3.milage)"
   ]
  },
  {
   "cell_type": "code",
   "execution_count": 252,
   "id": "4819dcc5-919f-4f4e-828f-4e84bd85a9ab",
   "metadata": {},
   "outputs": [
    {
     "name": "stdout",
     "output_type": "stream",
     "text": [
      "model: Roles Royce speed: 180 mileage: 70\n"
     ]
    }
   ],
   "source": [
    "print(c3)"
   ]
  },
  {
   "cell_type": "code",
   "execution_count": null,
   "id": "84683b22-7e71-446a-99bf-1d61a2963d56",
   "metadata": {},
   "outputs": [],
   "source": []
  },
  {
   "cell_type": "code",
   "execution_count": 258,
   "id": "50d943bc-18c0-4063-b285-e64892273e82",
   "metadata": {},
   "outputs": [
    {
     "data": {
      "text/plain": [
       "False"
      ]
     },
     "execution_count": 258,
     "metadata": {},
     "output_type": "execute_result"
    }
   ],
   "source": [
    "c1 < c2"
   ]
  },
  {
   "cell_type": "code",
   "execution_count": null,
   "id": "088b4ffd-b732-4b9e-ac15-4aa91b0b0af5",
   "metadata": {},
   "outputs": [],
   "source": []
  },
  {
   "cell_type": "code",
   "execution_count": 259,
   "id": "7924e085-1bfb-4e4a-964a-761d614d5b3d",
   "metadata": {},
   "outputs": [],
   "source": [
    "class A:\n",
    "    pass\n",
    "class B(A):\n",
    "    pass"
   ]
  },
  {
   "cell_type": "code",
   "execution_count": 260,
   "id": "f2ae66ed-8356-486b-80e9-1ec847bf8a65",
   "metadata": {},
   "outputs": [],
   "source": [
    "class A:\n",
    "    pass\n",
    "class B(A):\n",
    "    pass\n",
    "class C(B):\n",
    "    pass\n",
    "class D(C):\n",
    "    pass"
   ]
  },
  {
   "cell_type": "code",
   "execution_count": 261,
   "id": "ac82d0da-da95-4141-bd3a-7a81feed963d",
   "metadata": {},
   "outputs": [],
   "source": [
    "class A:\n",
    "    pass\n",
    "class B(A):\n",
    "    pass\n",
    "class C(A):\n",
    "    pass\n",
    "class D:\n",
    "    pass"
   ]
  },
  {
   "cell_type": "code",
   "execution_count": 263,
   "id": "198724c7-4bfa-47f0-85f8-9d29a76ca68d",
   "metadata": {},
   "outputs": [],
   "source": [
    "class A:\n",
    "    pass\n",
    "class B:\n",
    "    pass\n",
    "class C(A,B):\n",
    "    pass\n",
    "class D(C):\n",
    "    pass"
   ]
  },
  {
   "cell_type": "code",
   "execution_count": 265,
   "id": "691e11f7-124d-4fcd-965f-9a07f9cb8bf7",
   "metadata": {},
   "outputs": [
    {
     "data": {
      "text/plain": [
       "[__main__.D, __main__.C, __main__.A, __main__.B, object]"
      ]
     },
     "execution_count": 265,
     "metadata": {},
     "output_type": "execute_result"
    }
   ],
   "source": [
    "D.mro()"
   ]
  },
  {
   "cell_type": "code",
   "execution_count": 276,
   "id": "5fd3eb82-0dd3-4df4-bcd7-9f8473438b21",
   "metadata": {},
   "outputs": [],
   "source": [
    "class A:\n",
    "    pass\n",
    "class B:\n",
    "    pass\n",
    "class C(A,B):\n",
    "    pass\n",
    "class D(B):\n",
    "    pass\n",
    "class E(C,D):\n",
    "    pass"
   ]
  },
  {
   "cell_type": "code",
   "execution_count": 277,
   "id": "2ac41e41-a602-4fa2-b580-e3b16e13f041",
   "metadata": {},
   "outputs": [
    {
     "data": {
      "text/plain": [
       "[__main__.E, __main__.C, __main__.A, __main__.D, __main__.B, object]"
      ]
     },
     "execution_count": 277,
     "metadata": {},
     "output_type": "execute_result"
    }
   ],
   "source": [
    "E.mro()"
   ]
  },
  {
   "cell_type": "code",
   "execution_count": null,
   "id": "b8efc631-d9a0-48f7-8b88-5285ceee2ca5",
   "metadata": {},
   "outputs": [],
   "source": []
  },
  {
   "cell_type": "code",
   "execution_count": null,
   "id": "dac99bd2-db31-4846-9b77-0405c61ff825",
   "metadata": {},
   "outputs": [],
   "source": []
  },
  {
   "cell_type": "code",
   "execution_count": null,
   "id": "3c1166e3-78c0-4eb1-8c88-8fe83787c025",
   "metadata": {},
   "outputs": [],
   "source": []
  },
  {
   "cell_type": "code",
   "execution_count": null,
   "id": "4cb8e44a-818a-4521-ab53-348177538e83",
   "metadata": {},
   "outputs": [],
   "source": []
  },
  {
   "cell_type": "code",
   "execution_count": null,
   "id": "254409b5-95d8-456b-8978-81f04dcf4184",
   "metadata": {},
   "outputs": [],
   "source": []
  },
  {
   "cell_type": "code",
   "execution_count": null,
   "id": "3dd18c00-2895-43c0-881f-5659a91cdc50",
   "metadata": {},
   "outputs": [],
   "source": []
  }
 ],
 "metadata": {
  "kernelspec": {
   "display_name": "Python 3 (ipykernel)",
   "language": "python",
   "name": "python3"
  },
  "language_info": {
   "codemirror_mode": {
    "name": "ipython",
    "version": 3
   },
   "file_extension": ".py",
   "mimetype": "text/x-python",
   "name": "python",
   "nbconvert_exporter": "python",
   "pygments_lexer": "ipython3",
   "version": "3.12.9"
  }
 },
 "nbformat": 4,
 "nbformat_minor": 5
}
