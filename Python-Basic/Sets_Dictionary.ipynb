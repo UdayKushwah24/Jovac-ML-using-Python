{
 "cells": [
  {
   "cell_type": "markdown",
   "id": "17477b79-9748-4a21-b6f5-182366e9a0b9",
   "metadata": {},
   "source": [
    "# Sets\n",
    "- unordered collection of unique items\n",
    "- Using sets:\n",
    "  - we can test for membership\n",
    "  - whether a set is a subset of another set\n",
    "  - find intersection between two sets and so on\n",
    "- Can't be indexed"
   ]
  },
  {
   "cell_type": "code",
   "execution_count": 2,
   "id": "1e7578f7-d32a-49af-a9c7-511cac5e1391",
   "metadata": {},
   "outputs": [
    {
     "name": "stdout",
     "output_type": "stream",
     "text": [
      "{1, 2, 3, 4, 5, 'Shubham', 10, 'Hello'} <class 'set'>\n"
     ]
    }
   ],
   "source": [
    "s = {1,2,3,4,\"Hello\",1,5,\"Shubham\",10}\n",
    "print(s,type(s))"
   ]
  },
  {
   "cell_type": "code",
   "execution_count": 3,
   "id": "f0cfc0aa-7537-4d97-a954-fe3396157d3c",
   "metadata": {},
   "outputs": [
    {
     "ename": "TypeError",
     "evalue": "'set' object is not subscriptable",
     "output_type": "error",
     "traceback": [
      "\u001b[31m---------------------------------------------------------------------------\u001b[39m",
      "\u001b[31mTypeError\u001b[39m                                 Traceback (most recent call last)",
      "\u001b[36mCell\u001b[39m\u001b[36m \u001b[39m\u001b[32mIn[3]\u001b[39m\u001b[32m, line 1\u001b[39m\n\u001b[32m----> \u001b[39m\u001b[32m1\u001b[39m \u001b[43ms\u001b[49m\u001b[43m[\u001b[49m\u001b[32;43m0\u001b[39;49m\u001b[43m]\u001b[49m\n",
      "\u001b[31mTypeError\u001b[39m: 'set' object is not subscriptable"
     ]
    }
   ],
   "source": [
    "s[0]"
   ]
  },
  {
   "cell_type": "code",
   "execution_count": 4,
   "id": "04d7094f-b997-4fc5-b2c4-efd596045cef",
   "metadata": {},
   "outputs": [
    {
     "data": {
      "text/plain": [
       "True"
      ]
     },
     "execution_count": 4,
     "metadata": {},
     "output_type": "execute_result"
    }
   ],
   "source": [
    "3 in s"
   ]
  },
  {
   "cell_type": "code",
   "execution_count": 5,
   "id": "ea6dea22-fd65-4fbe-afd7-e3f6663a27d3",
   "metadata": {},
   "outputs": [
    {
     "data": {
      "text/plain": [
       "False"
      ]
     },
     "execution_count": 5,
     "metadata": {},
     "output_type": "execute_result"
    }
   ],
   "source": [
    "30 in s"
   ]
  },
  {
   "cell_type": "code",
   "execution_count": 6,
   "id": "80da9d80-5dd9-47d6-8abc-b102cee8d5e6",
   "metadata": {},
   "outputs": [],
   "source": [
    "l = [1,2,3,5,2,3,1,6,3,4,2,7,6]\n",
    "s = set(l)"
   ]
  },
  {
   "cell_type": "code",
   "execution_count": 8,
   "id": "6cb1eb31-bae9-4280-a418-23901d12fba2",
   "metadata": {},
   "outputs": [
    {
     "data": {
      "text/plain": [
       "{1, 2, 3, 4, 5, 6, 7}"
      ]
     },
     "execution_count": 8,
     "metadata": {},
     "output_type": "execute_result"
    }
   ],
   "source": [
    "s"
   ]
  },
  {
   "cell_type": "code",
   "execution_count": 10,
   "id": "c4c262af-0960-4b6c-94f0-e254b1bfa74b",
   "metadata": {},
   "outputs": [
    {
     "data": {
      "text/plain": [
       "{1, 2, 3, 4, 10}"
      ]
     },
     "execution_count": 10,
     "metadata": {},
     "output_type": "execute_result"
    }
   ],
   "source": [
    "s1.add(10)\n",
    "s1"
   ]
  },
  {
   "cell_type": "code",
   "execution_count": 13,
   "id": "8ff41c2d-a4c6-419f-8634-961328365af2",
   "metadata": {},
   "outputs": [
    {
     "name": "stdout",
     "output_type": "stream",
     "text": [
      "<class 'set'>\n"
     ]
    }
   ],
   "source": [
    "l = []\n",
    "s = set() #This creates an Empty Set\n",
    "print(type(s))"
   ]
  },
  {
   "cell_type": "code",
   "execution_count": 12,
   "id": "5e272bc0-bd13-4c2f-898c-2c049e6310c8",
   "metadata": {},
   "outputs": [
    {
     "ename": "TypeError",
     "evalue": "'set' object is not subscriptable",
     "output_type": "error",
     "traceback": [
      "\u001b[31m---------------------------------------------------------------------------\u001b[39m",
      "\u001b[31mTypeError\u001b[39m                                 Traceback (most recent call last)",
      "\u001b[36mCell\u001b[39m\u001b[36m \u001b[39m\u001b[32mIn[12]\u001b[39m\u001b[32m, line 1\u001b[39m\n\u001b[32m----> \u001b[39m\u001b[32m1\u001b[39m \u001b[43ms\u001b[49m\u001b[43m[\u001b[49m\u001b[32;43m0\u001b[39;49m\u001b[43m]\u001b[49m\n",
      "\u001b[31mTypeError\u001b[39m: 'set' object is not subscriptable"
     ]
    }
   ],
   "source": [
    "s[0]"
   ]
  },
  {
   "cell_type": "code",
   "execution_count": 14,
   "id": "d38347ac-c7e3-47dc-b6ff-f1777d3a4dc7",
   "metadata": {},
   "outputs": [],
   "source": [
    "s1 = {1,2,3,4}\n",
    "s2 = {3,4,5,6}"
   ]
  },
  {
   "cell_type": "code",
   "execution_count": 15,
   "id": "60bd6062-37e1-4152-a2b5-6af0742f52b5",
   "metadata": {},
   "outputs": [
    {
     "data": {
      "text/plain": [
       "{1, 2, 3, 4, 5, 6}"
      ]
     },
     "execution_count": 15,
     "metadata": {},
     "output_type": "execute_result"
    }
   ],
   "source": [
    "s1.union(s2)"
   ]
  },
  {
   "cell_type": "code",
   "execution_count": 16,
   "id": "a704491a-f495-49fd-bae4-c71d80b222f3",
   "metadata": {},
   "outputs": [
    {
     "data": {
      "text/plain": [
       "{3, 4}"
      ]
     },
     "execution_count": 16,
     "metadata": {},
     "output_type": "execute_result"
    }
   ],
   "source": [
    "s1.intersection(s2)"
   ]
  },
  {
   "cell_type": "code",
   "execution_count": 17,
   "id": "18171e01-2ba2-44b2-8714-f9b42738b023",
   "metadata": {},
   "outputs": [
    {
     "data": {
      "text/plain": [
       "{1, 2, 3, 4}"
      ]
     },
     "execution_count": 17,
     "metadata": {},
     "output_type": "execute_result"
    }
   ],
   "source": [
    "s1"
   ]
  },
  {
   "cell_type": "code",
   "execution_count": 18,
   "id": "1d5f8323-b571-4093-a4df-aa421ea00b4b",
   "metadata": {},
   "outputs": [
    {
     "data": {
      "text/plain": [
       "3"
      ]
     },
     "execution_count": 18,
     "metadata": {},
     "output_type": "execute_result"
    }
   ],
   "source": [
    "s1.pop()"
   ]
  },
  {
   "cell_type": "code",
   "execution_count": 19,
   "id": "0098a50a-4c6d-4c5a-a67e-6da1307dd7b7",
   "metadata": {},
   "outputs": [
    {
     "data": {
      "text/plain": [
       "{4, 10}"
      ]
     },
     "execution_count": 19,
     "metadata": {},
     "output_type": "execute_result"
    }
   ],
   "source": [
    "s1"
   ]
  },
  {
   "cell_type": "code",
   "execution_count": 20,
   "id": "75edd292-377d-44af-9156-9c5b589c5eb4",
   "metadata": {},
   "outputs": [],
   "source": [
    "s1.remove(10)"
   ]
  },
  {
   "cell_type": "code",
   "execution_count": 21,
   "id": "bc05060a-baa7-4bdb-8337-c5bbb2c0d9ea",
   "metadata": {},
   "outputs": [
    {
     "ename": "KeyError",
     "evalue": "10",
     "output_type": "error",
     "traceback": [
      "\u001b[31m---------------------------------------------------------------------------\u001b[39m",
      "\u001b[31mKeyError\u001b[39m                                  Traceback (most recent call last)",
      "\u001b[36mCell\u001b[39m\u001b[36m \u001b[39m\u001b[32mIn[21]\u001b[39m\u001b[32m, line 1\u001b[39m\n\u001b[32m----> \u001b[39m\u001b[32m1\u001b[39m \u001b[43ms1\u001b[49m\u001b[43m.\u001b[49m\u001b[43mremove\u001b[49m\u001b[43m(\u001b[49m\u001b[32;43m10\u001b[39;49m\u001b[43m)\u001b[49m\n",
      "\u001b[31mKeyError\u001b[39m: 10"
     ]
    }
   ],
   "source": [
    "s1.remove(10)"
   ]
  },
  {
   "cell_type": "code",
   "execution_count": 22,
   "id": "39c6b842-eaf8-4225-978c-4932df9e53f3",
   "metadata": {},
   "outputs": [
    {
     "data": {
      "text/plain": [
       "{4}"
      ]
     },
     "execution_count": 22,
     "metadata": {},
     "output_type": "execute_result"
    }
   ],
   "source": [
    "s1"
   ]
  },
  {
   "cell_type": "code",
   "execution_count": 23,
   "id": "1e237d56-bee5-4782-b99a-0e9e77aee43d",
   "metadata": {},
   "outputs": [],
   "source": [
    "s1.discard(10)"
   ]
  },
  {
   "cell_type": "code",
   "execution_count": 19,
   "id": "d215d10c-e3f7-4d69-ac1e-556af5ccd053",
   "metadata": {},
   "outputs": [
    {
     "data": {
      "text/plain": [
       "{1, 2}"
      ]
     },
     "execution_count": 19,
     "metadata": {},
     "output_type": "execute_result"
    }
   ],
   "source": [
    "s1.difference(s2)"
   ]
  },
  {
   "cell_type": "code",
   "execution_count": 20,
   "id": "24a628f9-c9c3-4768-82e2-c129a50d03b5",
   "metadata": {},
   "outputs": [
    {
     "data": {
      "text/plain": [
       "{1, 2, 5, 6}"
      ]
     },
     "execution_count": 20,
     "metadata": {},
     "output_type": "execute_result"
    }
   ],
   "source": [
    "s2.symmetric_difference(s1)"
   ]
  },
  {
   "cell_type": "code",
   "execution_count": 24,
   "id": "8946d33a-a264-4c20-9130-3c6c289482cf",
   "metadata": {},
   "outputs": [],
   "source": [
    "s1 = {1,2,3,4}\n",
    "s2 = {3,4}"
   ]
  },
  {
   "cell_type": "code",
   "execution_count": 27,
   "id": "390e5b2a-b159-49d1-9009-e73bfcd9c00c",
   "metadata": {},
   "outputs": [
    {
     "data": {
      "text/plain": [
       "True"
      ]
     },
     "execution_count": 27,
     "metadata": {},
     "output_type": "execute_result"
    }
   ],
   "source": [
    "s2.issubset(s1)"
   ]
  },
  {
   "cell_type": "code",
   "execution_count": 28,
   "id": "7491701e-3018-483b-9fc4-add0dccf2468",
   "metadata": {},
   "outputs": [
    {
     "data": {
      "text/plain": [
       "True"
      ]
     },
     "execution_count": 28,
     "metadata": {},
     "output_type": "execute_result"
    }
   ],
   "source": [
    "s1.issuperset(s2)"
   ]
  },
  {
   "cell_type": "code",
   "execution_count": 29,
   "id": "45da3cf3-07b1-4b24-9a3d-7520f20facf3",
   "metadata": {},
   "outputs": [
    {
     "data": {
      "text/plain": [
       "False"
      ]
     },
     "execution_count": 29,
     "metadata": {},
     "output_type": "execute_result"
    }
   ],
   "source": [
    "s1.isdisjoint(s2)"
   ]
  },
  {
   "cell_type": "code",
   "execution_count": 30,
   "id": "e0797bca-f250-4832-afe5-4b1c65d01f49",
   "metadata": {},
   "outputs": [
    {
     "data": {
      "text/plain": [
       "2"
      ]
     },
     "execution_count": 30,
     "metadata": {},
     "output_type": "execute_result"
    }
   ],
   "source": [
    "len(s2)"
   ]
  },
  {
   "cell_type": "code",
   "execution_count": 31,
   "id": "ea208fae-90f6-43e8-b0ad-b7e9d0a14584",
   "metadata": {},
   "outputs": [
    {
     "name": "stdout",
     "output_type": "stream",
     "text": [
      "1\n",
      "2\n",
      "3\n",
      "4\n"
     ]
    }
   ],
   "source": [
    "for ele in s1:\n",
    "    print(ele)"
   ]
  },
  {
   "cell_type": "code",
   "execution_count": 31,
   "id": "1766732c-5c5a-47a0-afde-ffb9e7b84fdf",
   "metadata": {},
   "outputs": [
    {
     "ename": "TypeError",
     "evalue": "'set' object is not subscriptable",
     "output_type": "error",
     "traceback": [
      "\u001b[1;31m---------------------------------------------------------------------------\u001b[0m",
      "\u001b[1;31mTypeError\u001b[0m                                 Traceback (most recent call last)",
      "Cell \u001b[1;32mIn[31], line 1\u001b[0m\n\u001b[1;32m----> 1\u001b[0m \u001b[43ms\u001b[49m\u001b[43m[\u001b[49m\u001b[38;5;241;43m0\u001b[39;49m\u001b[43m]\u001b[49m \u001b[38;5;66;03m#No Indexing\u001b[39;00m\n",
      "\u001b[1;31mTypeError\u001b[0m: 'set' object is not subscriptable"
     ]
    }
   ],
   "source": [
    "s[0] #No Indexing"
   ]
  },
  {
   "cell_type": "code",
   "execution_count": null,
   "id": "073150a3-7482-4f0c-a408-45df74042284",
   "metadata": {},
   "outputs": [],
   "source": []
  },
  {
   "cell_type": "code",
   "execution_count": null,
   "id": "eac6a868-dc06-42ca-ae74-63fb2678639d",
   "metadata": {},
   "outputs": [],
   "source": []
  },
  {
   "cell_type": "code",
   "execution_count": null,
   "id": "75834c81-d248-4233-82ed-18b62f955800",
   "metadata": {},
   "outputs": [],
   "source": []
  },
  {
   "cell_type": "code",
   "execution_count": null,
   "id": "9504dede-f272-436f-b46d-1dce136ed243",
   "metadata": {},
   "outputs": [],
   "source": []
  },
  {
   "cell_type": "markdown",
   "id": "2becfc9e-1689-4515-81d0-36a404f0b0aa",
   "metadata": {},
   "source": [
    "# Dictionary\n",
    "- unordered collection of key:value pairs\n",
    "- mutable data structure\n",
    "- Heterogeneous\n",
    "- Immutable Keys\n",
    "- dict functions\n",
    "- traversal\n",
    "- Comprehension"
   ]
  },
  {
   "cell_type": "code",
   "execution_count": 39,
   "id": "c0d106bc-6e36-4d11-9f40-dfc67eec69f5",
   "metadata": {},
   "outputs": [],
   "source": [
    "d = {\n",
    "    \"India\" : 1000,\n",
    "    \"USSR\" : 150,\n",
    "    \"USA\" : 100,\n",
    "    1.1 : \"one\",\n",
    "    2 : [1,2],\n",
    "    \"India\" : 10000,\n",
    "    (1,2,3) : \"Tuple\",\n",
    "    # [1,2,3] : \"List\"\n",
    "}"
   ]
  },
  {
   "cell_type": "code",
   "execution_count": 40,
   "id": "1bca4ece-68aa-44d4-a740-ebb6b4b3be81",
   "metadata": {},
   "outputs": [
    {
     "name": "stdout",
     "output_type": "stream",
     "text": [
      "{'India': 10000, 'USSR': 150, 'USA': 100, 1.1: 'one', 2: [1, 2], (1, 2, 3): 'Tuple'} <class 'dict'>\n"
     ]
    }
   ],
   "source": [
    "print(d,type(d))"
   ]
  },
  {
   "cell_type": "code",
   "execution_count": 41,
   "id": "e579977f-b530-4278-bbd4-1bf39a979f36",
   "metadata": {},
   "outputs": [
    {
     "data": {
      "text/plain": [
       "{'India': 10000,\n",
       " 'USSR': 150,\n",
       " 'USA': 100,\n",
       " 1.1: 'one',\n",
       " 2: [1, 2],\n",
       " (1, 2, 3): 'Tuple',\n",
       " 'China': 100}"
      ]
     },
     "execution_count": 41,
     "metadata": {},
     "output_type": "execute_result"
    }
   ],
   "source": [
    "d[\"China\"] = 100 #New key value pair\n",
    "d"
   ]
  },
  {
   "cell_type": "code",
   "execution_count": 43,
   "id": "d501f776-f588-47ba-9a62-f01b526955f9",
   "metadata": {},
   "outputs": [
    {
     "data": {
      "text/plain": [
       "'Tuple'"
      ]
     },
     "execution_count": 43,
     "metadata": {},
     "output_type": "execute_result"
    }
   ],
   "source": [
    "d[(1,2,3)] "
   ]
  },
  {
   "cell_type": "code",
   "execution_count": 44,
   "id": "b3aa04d4-ecb6-4c5c-8c62-3242a482276c",
   "metadata": {},
   "outputs": [
    {
     "ename": "KeyError",
     "evalue": "3",
     "output_type": "error",
     "traceback": [
      "\u001b[31m---------------------------------------------------------------------------\u001b[39m",
      "\u001b[31mKeyError\u001b[39m                                  Traceback (most recent call last)",
      "\u001b[36mCell\u001b[39m\u001b[36m \u001b[39m\u001b[32mIn[44]\u001b[39m\u001b[32m, line 1\u001b[39m\n\u001b[32m----> \u001b[39m\u001b[32m1\u001b[39m \u001b[43md\u001b[49m\u001b[43m[\u001b[49m\u001b[32;43m3\u001b[39;49m\u001b[43m]\u001b[49m\n",
      "\u001b[31mKeyError\u001b[39m: 3"
     ]
    }
   ],
   "source": [
    "d[3]"
   ]
  },
  {
   "cell_type": "code",
   "execution_count": 47,
   "id": "0867dd25-aec1-428a-81a9-413457818ef5",
   "metadata": {},
   "outputs": [
    {
     "name": "stdout",
     "output_type": "stream",
     "text": [
      "1000000\n"
     ]
    }
   ],
   "source": [
    "print(d.get(3,1000000))"
   ]
  },
  {
   "cell_type": "code",
   "execution_count": 50,
   "id": "691f9818-3ec4-4ac8-ad84-1f07289108d5",
   "metadata": {},
   "outputs": [
    {
     "data": {
      "text/plain": [
       "0"
      ]
     },
     "execution_count": 50,
     "metadata": {},
     "output_type": "execute_result"
    }
   ],
   "source": [
    "d.pop(\"China\",0)"
   ]
  },
  {
   "cell_type": "code",
   "execution_count": 51,
   "id": "8ebaf87e-d0b0-4ad5-a396-2797aab4e960",
   "metadata": {},
   "outputs": [
    {
     "data": {
      "text/plain": [
       "{'India': 10000,\n",
       " 'USSR': 150,\n",
       " 'USA': 100,\n",
       " 1.1: 'one',\n",
       " 2: [1, 2],\n",
       " (1, 2, 3): 'Tuple'}"
      ]
     },
     "execution_count": 51,
     "metadata": {},
     "output_type": "execute_result"
    }
   ],
   "source": [
    "d"
   ]
  },
  {
   "cell_type": "code",
   "execution_count": 52,
   "id": "3cc90cf3-a15c-4c48-95a7-77896893f318",
   "metadata": {},
   "outputs": [
    {
     "data": {
      "text/plain": [
       "((1, 2, 3), 'Tuple')"
      ]
     },
     "execution_count": 52,
     "metadata": {},
     "output_type": "execute_result"
    }
   ],
   "source": [
    "d.popitem()"
   ]
  },
  {
   "cell_type": "code",
   "execution_count": 53,
   "id": "397d08a1-6d21-4d04-9048-a3b6065c7036",
   "metadata": {},
   "outputs": [
    {
     "data": {
      "text/plain": [
       "{'India': 10000, 'USSR': 150, 'USA': 100, 1.1: 'one', 2: [1, 2]}"
      ]
     },
     "execution_count": 53,
     "metadata": {},
     "output_type": "execute_result"
    }
   ],
   "source": [
    "d"
   ]
  },
  {
   "cell_type": "code",
   "execution_count": 54,
   "id": "12c409a9-d4b7-4cb2-bb63-ee2cd20635e0",
   "metadata": {},
   "outputs": [
    {
     "data": {
      "text/plain": [
       "(2, [1, 2])"
      ]
     },
     "execution_count": 54,
     "metadata": {},
     "output_type": "execute_result"
    }
   ],
   "source": [
    "d.popitem()"
   ]
  },
  {
   "cell_type": "code",
   "execution_count": 55,
   "id": "ac8315e7-c15c-41e4-8eb2-f01c990e68b7",
   "metadata": {},
   "outputs": [
    {
     "data": {
      "text/plain": [
       "{'India': 10000, 'USSR': 150, 'USA': 100, 1.1: 'one'}"
      ]
     },
     "execution_count": 55,
     "metadata": {},
     "output_type": "execute_result"
    }
   ],
   "source": [
    "d"
   ]
  },
  {
   "cell_type": "code",
   "execution_count": 56,
   "id": "dcf55c1e-29af-4871-9ecc-8e19c05b3e0f",
   "metadata": {},
   "outputs": [],
   "source": [
    "del d['USA']"
   ]
  },
  {
   "cell_type": "code",
   "execution_count": 57,
   "id": "4b19fa2f-1838-4965-9366-eca8bd1ffc76",
   "metadata": {},
   "outputs": [
    {
     "data": {
      "text/plain": [
       "{'India': 10000, 'USSR': 150, 1.1: 'one'}"
      ]
     },
     "execution_count": 57,
     "metadata": {},
     "output_type": "execute_result"
    }
   ],
   "source": [
    "d"
   ]
  },
  {
   "cell_type": "code",
   "execution_count": 60,
   "id": "b6732f09-b93d-4366-9fd4-45a8f724600a",
   "metadata": {},
   "outputs": [
    {
     "data": {
      "text/plain": [
       "dict_keys(['India', 'USSR', 1.1])"
      ]
     },
     "execution_count": 60,
     "metadata": {},
     "output_type": "execute_result"
    }
   ],
   "source": [
    "d.keys()"
   ]
  },
  {
   "cell_type": "code",
   "execution_count": 61,
   "id": "bfb5427a-59c6-48a9-906c-315108bb71d0",
   "metadata": {},
   "outputs": [
    {
     "data": {
      "text/plain": [
       "dict_values([10000, 150, 'one'])"
      ]
     },
     "execution_count": 61,
     "metadata": {},
     "output_type": "execute_result"
    }
   ],
   "source": [
    "d.values()"
   ]
  },
  {
   "cell_type": "code",
   "execution_count": 62,
   "id": "b573bef4-ab46-4a2b-83ea-70aa67e60b3a",
   "metadata": {},
   "outputs": [
    {
     "data": {
      "text/plain": [
       "dict_items([('India', 10000), ('USSR', 150), (1.1, 'one')])"
      ]
     },
     "execution_count": 62,
     "metadata": {},
     "output_type": "execute_result"
    }
   ],
   "source": [
    "d.items()"
   ]
  },
  {
   "cell_type": "code",
   "execution_count": 63,
   "id": "4aeab46a-1aad-4418-a946-36d937dfc409",
   "metadata": {},
   "outputs": [],
   "source": [
    "d1 = d.fromkeys([1,2,3,4],\"Number\")"
   ]
  },
  {
   "cell_type": "code",
   "execution_count": 64,
   "id": "6c3a68da-1948-4681-8f20-555125f7b9aa",
   "metadata": {},
   "outputs": [
    {
     "data": {
      "text/plain": [
       "{1: 'Number', 2: 'Number', 3: 'Number', 4: 'Number'}"
      ]
     },
     "execution_count": 64,
     "metadata": {},
     "output_type": "execute_result"
    }
   ],
   "source": [
    "d1"
   ]
  },
  {
   "cell_type": "code",
   "execution_count": 65,
   "id": "d7a0e1e7-ea3a-46f8-87ff-6af36ee3aa41",
   "metadata": {},
   "outputs": [],
   "source": [
    "d.update(d1)"
   ]
  },
  {
   "cell_type": "code",
   "execution_count": 66,
   "id": "1a0d596e-b1fb-41ac-a79d-b8b2010a4336",
   "metadata": {},
   "outputs": [
    {
     "data": {
      "text/plain": [
       "{'India': 10000,\n",
       " 'USSR': 150,\n",
       " 1.1: 'one',\n",
       " 1: 'Number',\n",
       " 2: 'Number',\n",
       " 3: 'Number',\n",
       " 4: 'Number'}"
      ]
     },
     "execution_count": 66,
     "metadata": {},
     "output_type": "execute_result"
    }
   ],
   "source": [
    "d"
   ]
  },
  {
   "cell_type": "code",
   "execution_count": 69,
   "id": "775a76b5-e96a-4959-9e45-a22598d8d6c4",
   "metadata": {},
   "outputs": [
    {
     "data": {
      "text/plain": [
       "True"
      ]
     },
     "execution_count": 69,
     "metadata": {},
     "output_type": "execute_result"
    }
   ],
   "source": [
    "'India' in d"
   ]
  },
  {
   "cell_type": "code",
   "execution_count": 70,
   "id": "602795f7-7060-4053-9b25-10c89476ae14",
   "metadata": {},
   "outputs": [
    {
     "data": {
      "text/plain": [
       "True"
      ]
     },
     "execution_count": 70,
     "metadata": {},
     "output_type": "execute_result"
    }
   ],
   "source": [
    "1 in d"
   ]
  },
  {
   "cell_type": "code",
   "execution_count": 72,
   "id": "966d00b7-0db0-445d-83b1-044c6ce2faa1",
   "metadata": {},
   "outputs": [
    {
     "name": "stdout",
     "output_type": "stream",
     "text": [
      "India 10000\n",
      "USSR 150\n",
      "1.1 one\n",
      "1 Number\n",
      "2 Number\n",
      "3 Number\n",
      "4 Number\n"
     ]
    }
   ],
   "source": [
    "for k in d:\n",
    "    print(k,d[k])"
   ]
  },
  {
   "cell_type": "code",
   "execution_count": 74,
   "id": "f989e7de-f696-422b-a2f2-e8abe431c209",
   "metadata": {},
   "outputs": [
    {
     "name": "stdout",
     "output_type": "stream",
     "text": [
      "India 10000\n",
      "USSR 150\n",
      "1.1 one\n",
      "1 Number\n",
      "2 Number\n",
      "3 Number\n",
      "4 Number\n"
     ]
    }
   ],
   "source": [
    "for k,v in d.items():\n",
    "    print(k,v)"
   ]
  },
  {
   "cell_type": "code",
   "execution_count": null,
   "id": "1c7e5ea3-b28f-4a4a-916c-109d4846a609",
   "metadata": {},
   "outputs": [],
   "source": []
  },
  {
   "cell_type": "code",
   "execution_count": 75,
   "id": "17d4e638-c5ed-4373-881d-835bbd539aea",
   "metadata": {},
   "outputs": [],
   "source": [
    "s = set()\n",
    "for i in range(10):\n",
    "    s.add(i)"
   ]
  },
  {
   "cell_type": "code",
   "execution_count": 76,
   "id": "e01c4d1c-3ab3-4c53-824e-f65180eb85d7",
   "metadata": {},
   "outputs": [
    {
     "data": {
      "text/plain": [
       "{0, 1, 2, 3, 4, 5, 6, 7, 8, 9}"
      ]
     },
     "execution_count": 76,
     "metadata": {},
     "output_type": "execute_result"
    }
   ],
   "source": [
    "s"
   ]
  },
  {
   "cell_type": "code",
   "execution_count": 77,
   "id": "bb15535d-5de4-482c-8ec2-fb924767f626",
   "metadata": {},
   "outputs": [],
   "source": [
    "s = {i for i in range(10)}"
   ]
  },
  {
   "cell_type": "code",
   "execution_count": 78,
   "id": "850186a2-2ce0-477e-ad2d-e5314a79d811",
   "metadata": {},
   "outputs": [
    {
     "data": {
      "text/plain": [
       "{0, 1, 2, 3, 4, 5, 6, 7, 8, 9}"
      ]
     },
     "execution_count": 78,
     "metadata": {},
     "output_type": "execute_result"
    }
   ],
   "source": [
    "s"
   ]
  },
  {
   "cell_type": "code",
   "execution_count": 79,
   "id": "6384d949-a04f-42e2-9d04-fad01e8cc947",
   "metadata": {},
   "outputs": [],
   "source": [
    "d = {}\n",
    "for i in range(10):\n",
    "    d[i] = i**2"
   ]
  },
  {
   "cell_type": "code",
   "execution_count": 80,
   "id": "8e83fa2c-5ed9-4cdb-a1bc-bf7e1a546572",
   "metadata": {},
   "outputs": [
    {
     "data": {
      "text/plain": [
       "{0: 0, 1: 1, 2: 4, 3: 9, 4: 16, 5: 25, 6: 36, 7: 49, 8: 64, 9: 81}"
      ]
     },
     "execution_count": 80,
     "metadata": {},
     "output_type": "execute_result"
    }
   ],
   "source": [
    "d"
   ]
  },
  {
   "cell_type": "code",
   "execution_count": 81,
   "id": "caf5bc18-b95b-4e87-b6ba-c059c8c7ae47",
   "metadata": {},
   "outputs": [
    {
     "data": {
      "text/plain": [
       "{0: 0, 1: 1, 2: 4, 3: 9, 4: 16, 5: 25, 6: 36, 7: 49, 8: 64, 9: 81}"
      ]
     },
     "execution_count": 81,
     "metadata": {},
     "output_type": "execute_result"
    }
   ],
   "source": [
    "d = {i : i**2 for i in range(10)}\n",
    "d"
   ]
  },
  {
   "cell_type": "code",
   "execution_count": null,
   "id": "6ed01b88-1c08-46c0-9f51-becab8ff2eef",
   "metadata": {},
   "outputs": [],
   "source": []
  },
  {
   "cell_type": "code",
   "execution_count": 82,
   "id": "32795742-b096-4f67-b786-6cf573507c68",
   "metadata": {},
   "outputs": [],
   "source": [
    "l = [1,2,3,1,4,1,2,4,5,2,3,1,2,3,4,6,8,6,5,6,66,64,31,22,4,1,2,31,66]"
   ]
  },
  {
   "cell_type": "code",
   "execution_count": 84,
   "id": "b907d453-2847-46f3-9160-a4d3f8eaa78a",
   "metadata": {},
   "outputs": [
    {
     "name": "stdout",
     "output_type": "stream",
     "text": [
      "Counter({1: 5, 2: 5, 4: 4, 3: 3, 6: 3, 5: 2, 66: 2, 31: 2, 8: 1, 64: 1, 22: 1})\n"
     ]
    }
   ],
   "source": [
    "from collections import Counter\n",
    "\n",
    "d = Counter(l)\n",
    "print(d)"
   ]
  },
  {
   "cell_type": "code",
   "execution_count": 85,
   "id": "e253cfd1-f5ca-43d7-85c6-e0c13e72f4d1",
   "metadata": {},
   "outputs": [
    {
     "name": "stdout",
     "output_type": "stream",
     "text": [
      "{1: 5, 2: 5, 3: 3, 4: 4, 5: 2, 6: 3, 8: 1, 66: 2, 64: 1, 31: 2, 22: 1}\n"
     ]
    }
   ],
   "source": [
    "d = {}\n",
    "for ele in l:\n",
    "    # if ele in d:\n",
    "    #     d[ele] += 1\n",
    "    # else:\n",
    "    #     d[ele] = 1\n",
    "\n",
    "    d[ele] = d.get(ele,0)+1\n",
    "\n",
    "print(d)"
   ]
  },
  {
   "cell_type": "code",
   "execution_count": null,
   "id": "ff79ed1b-7ff6-42e8-8607-d00a2cf4f592",
   "metadata": {},
   "outputs": [],
   "source": []
  },
  {
   "cell_type": "code",
   "execution_count": null,
   "id": "21f1e73d-a6a9-4424-9ec7-83377afd337e",
   "metadata": {},
   "outputs": [],
   "source": []
  }
 ],
 "metadata": {
  "kernelspec": {
   "display_name": "Python 3 (ipykernel)",
   "language": "python",
   "name": "python3"
  },
  "language_info": {
   "codemirror_mode": {
    "name": "ipython",
    "version": 3
   },
   "file_extension": ".py",
   "mimetype": "text/x-python",
   "name": "python",
   "nbconvert_exporter": "python",
   "pygments_lexer": "ipython3",
   "version": "3.12.9"
  }
 },
 "nbformat": 4,
 "nbformat_minor": 5
}
