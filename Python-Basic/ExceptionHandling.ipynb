{
 "cells": [
  {
   "cell_type": "markdown",
   "id": "f21de2d5-dd11-4be2-9a2f-a51a7e9c8a14",
   "metadata": {},
   "source": [
    "# Errors\n",
    "- syntax\n",
    "- exception\n",
    "\n",
    "# Handling Exception\n",
    "- try\n",
    "- except\n",
    "\n",
    "# Exception classes in Python\n",
    "- Multiple Exceptions\n",
    "- Inherited from Exception class\n",
    "- except Exception as e\n",
    "\n",
    "# Raising a custom Exception\n",
    "- raise\n",
    "- else\n",
    "- finally"
   ]
  },
  {
   "cell_type": "code",
   "execution_count": 1,
   "id": "7d3f93dc-84b8-43f3-94d8-16c42dab41d6",
   "metadata": {},
   "outputs": [
    {
     "ename": "SyntaxError",
     "evalue": "incomplete input (290942452.py, line 1)",
     "output_type": "error",
     "traceback": [
      "  \u001b[36mCell\u001b[39m\u001b[36m \u001b[39m\u001b[32mIn[1]\u001b[39m\u001b[32m, line 1\u001b[39m\n\u001b[31m    \u001b[39m\u001b[31mprint(\"Hi\"\u001b[39m\n              ^\n\u001b[31mSyntaxError\u001b[39m\u001b[31m:\u001b[39m incomplete input\n"
     ]
    }
   ],
   "source": [
    "print(\"Hi\""
   ]
  },
  {
   "cell_type": "code",
   "execution_count": 4,
   "id": "8d0d2442-7749-43e9-8b41-43ef8483d60d",
   "metadata": {},
   "outputs": [],
   "source": [
    "def fn(a):\n",
    "    print(b)"
   ]
  },
  {
   "cell_type": "code",
   "execution_count": 5,
   "id": "79f5e57c-6f88-43f2-b287-e2f2535b8908",
   "metadata": {},
   "outputs": [
    {
     "ename": "NameError",
     "evalue": "name 'b' is not defined",
     "output_type": "error",
     "traceback": [
      "\u001b[31m---------------------------------------------------------------------------\u001b[39m",
      "\u001b[31mNameError\u001b[39m                                 Traceback (most recent call last)",
      "\u001b[36mCell\u001b[39m\u001b[36m \u001b[39m\u001b[32mIn[5]\u001b[39m\u001b[32m, line 1\u001b[39m\n\u001b[32m----> \u001b[39m\u001b[32m1\u001b[39m \u001b[43mfn\u001b[49m\u001b[43m(\u001b[49m\u001b[32;43m10\u001b[39;49m\u001b[43m)\u001b[49m\n",
      "\u001b[36mCell\u001b[39m\u001b[36m \u001b[39m\u001b[32mIn[4]\u001b[39m\u001b[32m, line 2\u001b[39m, in \u001b[36mfn\u001b[39m\u001b[34m(a)\u001b[39m\n\u001b[32m      1\u001b[39m \u001b[38;5;28;01mdef\u001b[39;00m \u001b[34mfn\u001b[39m(a):\n\u001b[32m----> \u001b[39m\u001b[32m2\u001b[39m     \u001b[38;5;28mprint\u001b[39m(\u001b[43mb\u001b[49m)\n",
      "\u001b[31mNameError\u001b[39m: name 'b' is not defined"
     ]
    }
   ],
   "source": [
    "fn(10)"
   ]
  },
  {
   "cell_type": "code",
   "execution_count": 6,
   "id": "2ea16fb5-ce56-40c9-8e51-5a5ddffee639",
   "metadata": {},
   "outputs": [
    {
     "ename": "NameError",
     "evalue": "name 'b' is not defined",
     "output_type": "error",
     "traceback": [
      "\u001b[31m---------------------------------------------------------------------------\u001b[39m",
      "\u001b[31mNameError\u001b[39m                                 Traceback (most recent call last)",
      "\u001b[36mCell\u001b[39m\u001b[36m \u001b[39m\u001b[32mIn[6]\u001b[39m\u001b[32m, line 2\u001b[39m\n\u001b[32m      1\u001b[39m a = \u001b[32m110\u001b[39m\n\u001b[32m----> \u001b[39m\u001b[32m2\u001b[39m \u001b[38;5;28mprint\u001b[39m(\u001b[43mb\u001b[49m)\n",
      "\u001b[31mNameError\u001b[39m: name 'b' is not defined"
     ]
    }
   ],
   "source": [
    "a = 110\n",
    "print(b)"
   ]
  },
  {
   "cell_type": "code",
   "execution_count": 7,
   "id": "9455394d-6d50-43d8-bd6c-9ec8f2108de5",
   "metadata": {},
   "outputs": [
    {
     "ename": "ZeroDivisionError",
     "evalue": "division by zero",
     "output_type": "error",
     "traceback": [
      "\u001b[31m---------------------------------------------------------------------------\u001b[39m",
      "\u001b[31mZeroDivisionError\u001b[39m                         Traceback (most recent call last)",
      "\u001b[36mCell\u001b[39m\u001b[36m \u001b[39m\u001b[32mIn[7]\u001b[39m\u001b[32m, line 3\u001b[39m\n\u001b[32m      1\u001b[39m a = \u001b[32m10\u001b[39m\n\u001b[32m      2\u001b[39m b = \u001b[32m0\u001b[39m\n\u001b[32m----> \u001b[39m\u001b[32m3\u001b[39m \u001b[38;5;28mprint\u001b[39m(\u001b[43ma\u001b[49m\u001b[43m/\u001b[49m\u001b[43mb\u001b[49m)\n",
      "\u001b[31mZeroDivisionError\u001b[39m: division by zero"
     ]
    }
   ],
   "source": [
    "a = 10\n",
    "b = 0\n",
    "print(a/b)"
   ]
  },
  {
   "cell_type": "code",
   "execution_count": 10,
   "id": "3956c60f-eebe-4b62-b5d2-87ab36c8ecfa",
   "metadata": {},
   "outputs": [
    {
     "ename": "TypeError",
     "evalue": "can only concatenate str (not \"int\") to str",
     "output_type": "error",
     "traceback": [
      "\u001b[31m---------------------------------------------------------------------------\u001b[39m",
      "\u001b[31mTypeError\u001b[39m                                 Traceback (most recent call last)",
      "\u001b[36mCell\u001b[39m\u001b[36m \u001b[39m\u001b[32mIn[10]\u001b[39m\u001b[32m, line 2\u001b[39m\n\u001b[32m      1\u001b[39m a = \u001b[32m10\u001b[39m\n\u001b[32m----> \u001b[39m\u001b[32m2\u001b[39m st = \u001b[33;43m\"\u001b[39;49m\u001b[33;43mHello\u001b[39;49m\u001b[33;43m\"\u001b[39;49m\u001b[43m \u001b[49m\u001b[43m+\u001b[49m\u001b[43m \u001b[49m\u001b[43ma\u001b[49m\n",
      "\u001b[31mTypeError\u001b[39m: can only concatenate str (not \"int\") to str"
     ]
    }
   ],
   "source": [
    "a = 10\n",
    "st = \"Hello\" + a"
   ]
  },
  {
   "cell_type": "code",
   "execution_count": 11,
   "id": "44e9462c-f796-49d1-b5d8-fe0d353802ed",
   "metadata": {},
   "outputs": [
    {
     "ename": "IndentationError",
     "evalue": "unexpected indent (3888689027.py, line 2)",
     "output_type": "error",
     "traceback": [
      "  \u001b[36mCell\u001b[39m\u001b[36m \u001b[39m\u001b[32mIn[11]\u001b[39m\u001b[32m, line 2\u001b[39m\n\u001b[31m    \u001b[39m\u001b[31mb = 20\u001b[39m\n    ^\n\u001b[31mIndentationError\u001b[39m\u001b[31m:\u001b[39m unexpected indent\n"
     ]
    }
   ],
   "source": [
    "a = 10\n",
    "    b = 20"
   ]
  },
  {
   "cell_type": "code",
   "execution_count": 12,
   "id": "fb21b798-3c9a-4019-960d-8b2ad3be6e2f",
   "metadata": {},
   "outputs": [
    {
     "ename": "IndexError",
     "evalue": "list index out of range",
     "output_type": "error",
     "traceback": [
      "\u001b[31m---------------------------------------------------------------------------\u001b[39m",
      "\u001b[31mIndexError\u001b[39m                                Traceback (most recent call last)",
      "\u001b[36mCell\u001b[39m\u001b[36m \u001b[39m\u001b[32mIn[12]\u001b[39m\u001b[32m, line 2\u001b[39m\n\u001b[32m      1\u001b[39m l = [\u001b[32m1\u001b[39m,\u001b[32m2\u001b[39m,\u001b[32m3\u001b[39m]\n\u001b[32m----> \u001b[39m\u001b[32m2\u001b[39m \u001b[43ml\u001b[49m\u001b[43m[\u001b[49m\u001b[32;43m3\u001b[39;49m\u001b[43m]\u001b[49m\n",
      "\u001b[31mIndexError\u001b[39m: list index out of range"
     ]
    }
   ],
   "source": [
    "l = [1,2,3]\n",
    "l[3]"
   ]
  },
  {
   "cell_type": "code",
   "execution_count": 13,
   "id": "abbd75e1-0142-408a-a68a-88e6b8bc44f8",
   "metadata": {},
   "outputs": [
    {
     "ename": "ValueError",
     "evalue": "invalid literal for int() with base 10: 'a'",
     "output_type": "error",
     "traceback": [
      "\u001b[31m---------------------------------------------------------------------------\u001b[39m",
      "\u001b[31mValueError\u001b[39m                                Traceback (most recent call last)",
      "\u001b[36mCell\u001b[39m\u001b[36m \u001b[39m\u001b[32mIn[13]\u001b[39m\u001b[32m, line 1\u001b[39m\n\u001b[32m----> \u001b[39m\u001b[32m1\u001b[39m \u001b[38;5;28;43mint\u001b[39;49m\u001b[43m(\u001b[49m\u001b[33;43m'\u001b[39;49m\u001b[33;43ma\u001b[39;49m\u001b[33;43m'\u001b[39;49m\u001b[43m)\u001b[49m\n",
      "\u001b[31mValueError\u001b[39m: invalid literal for int() with base 10: 'a'"
     ]
    }
   ],
   "source": [
    "int('a')"
   ]
  },
  {
   "cell_type": "code",
   "execution_count": 14,
   "id": "4599b2b0-aff6-4554-9953-5ab8ee6bca8f",
   "metadata": {},
   "outputs": [
    {
     "ename": "KeyError",
     "evalue": "10",
     "output_type": "error",
     "traceback": [
      "\u001b[31m---------------------------------------------------------------------------\u001b[39m",
      "\u001b[31mKeyError\u001b[39m                                  Traceback (most recent call last)",
      "\u001b[36mCell\u001b[39m\u001b[36m \u001b[39m\u001b[32mIn[14]\u001b[39m\u001b[32m, line 2\u001b[39m\n\u001b[32m      1\u001b[39m d = {}\n\u001b[32m----> \u001b[39m\u001b[32m2\u001b[39m \u001b[38;5;28mprint\u001b[39m(\u001b[43md\u001b[49m\u001b[43m[\u001b[49m\u001b[32;43m10\u001b[39;49m\u001b[43m]\u001b[49m)\n",
      "\u001b[31mKeyError\u001b[39m: 10"
     ]
    }
   ],
   "source": [
    "d = {}\n",
    "print(d[10])"
   ]
  },
  {
   "cell_type": "code",
   "execution_count": 21,
   "id": "bf3340bf-89d5-4fa6-b660-15ed4263203f",
   "metadata": {},
   "outputs": [
    {
     "name": "stdout",
     "output_type": "stream",
     "text": [
      "Hi\n"
     ]
    },
    {
     "name": "stdout",
     "output_type": "stream",
     "text": [
      "a =  w\n"
     ]
    },
    {
     "name": "stdout",
     "output_type": "stream",
     "text": [
      "Error\n"
     ]
    },
    {
     "name": "stdout",
     "output_type": "stream",
     "text": [
      "a =  y\n"
     ]
    },
    {
     "name": "stdout",
     "output_type": "stream",
     "text": [
      "Error\n"
     ]
    },
    {
     "name": "stdout",
     "output_type": "stream",
     "text": [
      "a =  u\n"
     ]
    },
    {
     "name": "stdout",
     "output_type": "stream",
     "text": [
      "Error\n",
      "Bye\n"
     ]
    }
   ],
   "source": [
    "i = 1\n",
    "print(\"Hi\")\n",
    "while i <= 3:\n",
    "    try:\n",
    "        a = int(input('a = '))\n",
    "        b = int(input('b = '))\n",
    "        print(a/b)\n",
    "        print(i)\n",
    "    except:\n",
    "        print(\"Error\")\n",
    "\n",
    "    i += 1\n",
    "print(\"Bye\")"
   ]
  },
  {
   "cell_type": "code",
   "execution_count": 10,
   "id": "81681405-decd-4dbb-a568-9719cffdbb66",
   "metadata": {},
   "outputs": [
    {
     "data": {
      "text/plain": [
       "3"
      ]
     },
     "execution_count": 10,
     "metadata": {},
     "output_type": "execute_result"
    }
   ],
   "source": [
    "i"
   ]
  },
  {
   "cell_type": "code",
   "execution_count": 26,
   "id": "d7830e24-1d28-44dc-80e6-a9dccb9c966c",
   "metadata": {},
   "outputs": [
    {
     "name": "stdout",
     "output_type": "stream",
     "text": [
      " 1\n",
      " 0\n"
     ]
    },
    {
     "name": "stdout",
     "output_type": "stream",
     "text": [
      "Wrong input b\n"
     ]
    },
    {
     "name": "stdout",
     "output_type": "stream",
     "text": [
      " e\n"
     ]
    },
    {
     "name": "stdout",
     "output_type": "stream",
     "text": [
      "Wrong input value\n"
     ]
    },
    {
     "name": "stdout",
     "output_type": "stream",
     "text": [
      " e\n"
     ]
    },
    {
     "name": "stdout",
     "output_type": "stream",
     "text": [
      "Wrong input value\n"
     ]
    },
    {
     "name": "stdout",
     "output_type": "stream",
     "text": [
      " e\n"
     ]
    },
    {
     "name": "stdout",
     "output_type": "stream",
     "text": [
      "Wrong input value\n"
     ]
    }
   ],
   "source": [
    "i = 1\n",
    "while i <= 4:\n",
    "    try:\n",
    "        a = int(input())\n",
    "        b = int(input())\n",
    "        print(a/b)\n",
    "    except ZeroDivisionError:\n",
    "        print(\"Wrong input b\")\n",
    "    except ValueError:\n",
    "        print(\"Wrong input value\")\n",
    "    except Exception:\n",
    "        print(\"Error!!!\")\n",
    "    i += 1"
   ]
  },
  {
   "cell_type": "code",
   "execution_count": 12,
   "id": "e0d2adb9-e0dd-423d-b955-dc1a9f6f1d1b",
   "metadata": {},
   "outputs": [],
   "source": [
    "def fn(a,b):\n",
    "    print('In fn')\n",
    "    try:\n",
    "        if b != 0:\n",
    "            return a/b\n",
    "        else:\n",
    "            print('hello')\n",
    "            raise Exception('b should be non-zero',10,20)\n",
    "    except:\n",
    "        print('Except block')\n",
    "        print(\"b should be non--zero\")\n",
    "\n",
    "    finally:\n",
    "        print('In finally')\n",
    "        # return 0\n",
    "\n",
    "    print('out fn')\n"
   ]
  },
  {
   "cell_type": "code",
   "execution_count": 14,
   "id": "52f8f7f6-a9f1-4b85-9d2f-af566d57abc1",
   "metadata": {},
   "outputs": [
    {
     "name": "stdout",
     "output_type": "stream",
     "text": [
      "Hi Main\n",
      "In fn\n",
      "In finally\n",
      "div = 1.0\n"
     ]
    }
   ],
   "source": [
    "print('Hi Main')\n",
    "# try:\n",
    "a = fn(10,10)\n",
    "print('div =',a)\n",
    "# except Exception as e:\n",
    "#     print('Error: ',e)\n",
    "# print('Bye Main')"
   ]
  },
  {
   "cell_type": "code",
   "execution_count": 63,
   "id": "2214dc2d-a35f-4330-ac47-8961733d0606",
   "metadata": {},
   "outputs": [
    {
     "ename": "TypeError",
     "evalue": "'<' not supported between instances of 'int' and 'str'",
     "output_type": "error",
     "traceback": [
      "\u001b[31m---------------------------------------------------------------------------\u001b[39m",
      "\u001b[31mTypeError\u001b[39m                                 Traceback (most recent call last)",
      "\u001b[36mCell\u001b[39m\u001b[36m \u001b[39m\u001b[32mIn[63]\u001b[39m\u001b[32m, line 1\u001b[39m\n\u001b[32m----> \u001b[39m\u001b[32m1\u001b[39m \u001b[32;43m4\u001b[39;49m\u001b[43m<\u001b[49m\u001b[33;43m'\u001b[39;49m\u001b[33;43mH\u001b[39;49m\u001b[33;43m'\u001b[39;49m\n",
      "\u001b[31mTypeError\u001b[39m: '<' not supported between instances of 'int' and 'str'"
     ]
    }
   ],
   "source": [
    "4<'H'"
   ]
  },
  {
   "cell_type": "code",
   "execution_count": 53,
   "id": "c8412079-738a-423c-afa9-7477ab2ea3f1",
   "metadata": {},
   "outputs": [
    {
     "name": "stdout",
     "output_type": "stream",
     "text": [
      "Hi\n",
      "In fn\n",
      "b should be non-zero\n",
      "Traceback (most recent call last):\n",
      "  File \"C:\\Users\\abhis\\AppData\\Local\\Temp\\ipykernel_31768\\132026757.py\", line 4, in <module>\n",
      "    fn(-10,0)\n",
      "  File \"C:\\Users\\abhis\\AppData\\Local\\Temp\\ipykernel_31768\\2859838688.py\", line 7, in fn\n",
      "    raise Exception('b should be non-zero',10,20)\n",
      "Exception: ('b should be non-zero', 10, 20)\n",
      "\n"
     ]
    }
   ],
   "source": [
    "import traceback\n",
    "try:\n",
    "    print(\"Hi\")\n",
    "    fn(-10,0)\n",
    "    print(\"Bye\")\n",
    "except Exception as e:\n",
    "    print(e.args[0])\n",
    "    print(traceback.format_exc())"
   ]
  }
 ],
 "metadata": {
  "kernelspec": {
   "display_name": ".venv",
   "language": "python",
   "name": "python3"
  },
  "language_info": {
   "codemirror_mode": {
    "name": "ipython",
    "version": 3
   },
   "file_extension": ".py",
   "mimetype": "text/x-python",
   "name": "python",
   "nbconvert_exporter": "python",
   "pygments_lexer": "ipython3",
   "version": "3.11.9"
  }
 },
 "nbformat": 4,
 "nbformat_minor": 5
}
