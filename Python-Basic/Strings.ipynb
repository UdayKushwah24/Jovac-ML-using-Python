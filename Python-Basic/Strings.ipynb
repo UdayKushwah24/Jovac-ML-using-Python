{
 "cells": [
  {
   "cell_type": "markdown",
   "id": "7e8c05a4-8af1-45b2-b303-23668e8adb9b",
   "metadata": {},
   "source": [
    "# Some String Operations\n",
    "- String formatting\n",
    "  - \\+\n",
    "  - %s, %d\n",
    "  - format functions\n",
    "  - f-Strings\n",
    "- strip: Remove white spaces from the string\n",
    "- split\n",
    "- replace: replace all occurances in a string by a new one\n",
    "- count: count the number of occurances of a string within a string"
   ]
  },
  {
   "cell_type": "code",
   "execution_count": 5,
   "id": "b50e93c0-44ff-4e2d-926f-22cf679a3ef7",
   "metadata": {},
   "outputs": [
    {
     "name": "stdout",
     "output_type": "stream",
     "text": [
      "Hello <class 'str'>\n"
     ]
    }
   ],
   "source": [
    "st = 'Hello'\n",
    "print(st,type(st))"
   ]
  },
  {
   "cell_type": "code",
   "execution_count": 6,
   "id": "d67b0542-f3de-45f2-accf-b40151b0cbd2",
   "metadata": {},
   "outputs": [
    {
     "data": {
      "text/plain": [
       "['H', 'e', 'l', 'l', 'o']"
      ]
     },
     "execution_count": 6,
     "metadata": {},
     "output_type": "execute_result"
    }
   ],
   "source": [
    "l = list(st)\n",
    "l"
   ]
  },
  {
   "cell_type": "code",
   "execution_count": 7,
   "id": "ed529c3a-30a3-479b-bc40-cce4987d297b",
   "metadata": {},
   "outputs": [
    {
     "data": {
      "text/plain": [
       "('H', 'o')"
      ]
     },
     "execution_count": 7,
     "metadata": {},
     "output_type": "execute_result"
    }
   ],
   "source": [
    "st[0],st[-1]"
   ]
  },
  {
   "cell_type": "code",
   "execution_count": 8,
   "id": "69795888-f751-4c76-a26a-565fbfe76730",
   "metadata": {},
   "outputs": [
    {
     "name": "stdout",
     "output_type": "stream",
     "text": [
      "H\n",
      "e\n",
      "l\n",
      "l\n",
      "o\n"
     ]
    }
   ],
   "source": [
    "for ch in st:\n",
    "    print(ch)"
   ]
  },
  {
   "cell_type": "code",
   "execution_count": 9,
   "id": "6c450e90-73f2-44d6-b6a8-61523d3090b4",
   "metadata": {},
   "outputs": [
    {
     "data": {
      "text/plain": [
       "'el'"
      ]
     },
     "execution_count": 9,
     "metadata": {},
     "output_type": "execute_result"
    }
   ],
   "source": [
    "st[1:3]"
   ]
  },
  {
   "cell_type": "code",
   "execution_count": 15,
   "id": "81d0c74e-7f36-4b22-be3e-8ea5bac26ae8",
   "metadata": {},
   "outputs": [
    {
     "name": "stdout",
     "output_type": "stream",
     "text": [
      "Hello\n",
      "Hello\n",
      "False\n"
     ]
    }
   ],
   "source": [
    "s1 = \"Hello\"\n",
    "s2 = 'Hello\\nHello'\n",
    "\n",
    "print(s2)\n",
    "print(s1 is s2)"
   ]
  },
  {
   "cell_type": "code",
   "execution_count": 16,
   "id": "e065ec56-9a24-4092-8fbb-2ab49490b69c",
   "metadata": {},
   "outputs": [
    {
     "name": "stdout",
     "output_type": "stream",
     "text": [
      " This\n",
      "is a Multi\n",
      "Line String\n",
      "\n"
     ]
    }
   ],
   "source": [
    "s1 = \"\"\" This\n",
    "is a Multi\n",
    "Line String\n",
    "\"\"\"\n",
    "print(s1)"
   ]
  },
  {
   "cell_type": "code",
   "execution_count": 17,
   "id": "943b02a3-91f3-4600-b963-f92e777c7ea1",
   "metadata": {},
   "outputs": [
    {
     "data": {
      "text/plain": [
       "' This\\nis a Multi\\nLine String\\n'"
      ]
     },
     "execution_count": 17,
     "metadata": {},
     "output_type": "execute_result"
    }
   ],
   "source": [
    "s1"
   ]
  },
  {
   "cell_type": "code",
   "execution_count": 11,
   "id": "8911d2df-dd1a-47fe-a6ed-e8527e291ac7",
   "metadata": {},
   "outputs": [
    {
     "data": {
      "text/plain": [
       "'Hello'"
      ]
     },
     "execution_count": 11,
     "metadata": {},
     "output_type": "execute_result"
    }
   ],
   "source": [
    "st"
   ]
  },
  {
   "cell_type": "code",
   "execution_count": 18,
   "id": "1d9db9dd-fd24-4043-9390-b59e434a560d",
   "metadata": {},
   "outputs": [
    {
     "name": "stdout",
     "output_type": "stream",
     "text": [
      "H\n",
      "He\n",
      "Hel\n",
      "Hell\n",
      "Hello\n",
      "e\n",
      "el\n",
      "ell\n",
      "ello\n",
      "l\n",
      "ll\n",
      "llo\n",
      "l\n",
      "lo\n",
      "o\n"
     ]
    }
   ],
   "source": [
    "s = 'Hello'\n",
    "for i in range(0,len(s)):\n",
    "    for j in range(i+1,len(s)+1):\n",
    "        print(s[i:j])"
   ]
  },
  {
   "cell_type": "code",
   "execution_count": 22,
   "id": "4dab512c-e644-46ba-aa97-bb9f725de7e9",
   "metadata": {},
   "outputs": [
    {
     "name": "stdout",
     "output_type": "stream",
     "text": [
      "abcdef\n"
     ]
    }
   ],
   "source": [
    "a = 'abc' + 'def'\n",
    "\n",
    "s1 = 'abc'\n",
    "s2 = 'def'\n",
    "\n",
    "print(a)"
   ]
  },
  {
   "cell_type": "code",
   "execution_count": 33,
   "id": "dd8e19b1-709b-4889-a82e-15c35ec2681f",
   "metadata": {},
   "outputs": [
    {
     "name": "stdout",
     "output_type": "stream",
     "text": [
      "My name is: Shubham. My age is: 27\n"
     ]
    }
   ],
   "source": [
    "name = \"Shubham\"\n",
    "age = 27\n",
    "\n",
    "# print(\"My name is: \" + name + \". My age is: \" + str(age))\n",
    "\n",
    "# print(\"My name is: %s. My age is: %d\"%(name,age))\n",
    "\n",
    "# print(\"My name is: {}. My age is: {}\".format(name,age))\n",
    "\n",
    "print(f\"My name is: {name}. My age is: {age}\")\n"
   ]
  },
  {
   "cell_type": "code",
   "execution_count": 13,
   "id": "28ac0c46-193b-4c58-9ca1-3ed37a75a235",
   "metadata": {},
   "outputs": [
    {
     "name": "stdout",
     "output_type": "stream",
     "text": [
      "My name is: 27. My age is: Shubham\n"
     ]
    }
   ],
   "source": [
    "print(\"My name is: {1}. My age is: {0}\".format(name,age))"
   ]
  },
  {
   "cell_type": "code",
   "execution_count": 29,
   "id": "8d6344ae-dd66-456f-a51f-78fabcc3e4c3",
   "metadata": {},
   "outputs": [
    {
     "name": "stdout",
     "output_type": "stream",
     "text": [
      "My name is: 27. My age is: Shubham\n"
     ]
    }
   ],
   "source": [
    "print(\"My name is: {a}. My age is: {n}\".format(n = name,a = age))"
   ]
  },
  {
   "cell_type": "code",
   "execution_count": 37,
   "id": "fb153608-46d2-419e-ae12-5d223c347542",
   "metadata": {},
   "outputs": [
    {
     "name": "stdout",
     "output_type": "stream",
     "text": [
      "The sky is Blue\n",
      "The sky is Blue   \n",
      "   The sky is Blue\n"
     ]
    }
   ],
   "source": [
    "s = \"   The sky is Blue   \"\n",
    "print(s.strip())\n",
    "print(s.lstrip())\n",
    "print(s.rstrip())"
   ]
  },
  {
   "cell_type": "code",
   "execution_count": 39,
   "id": "7425b59f-83a5-4014-8aca-3e1a809f01ad",
   "metadata": {},
   "outputs": [
    {
     "data": {
      "text/plain": [
       "'Hello have a nice day'"
      ]
     },
     "execution_count": 39,
     "metadata": {},
     "output_type": "execute_result"
    }
   ],
   "source": [
    "s = \"heLlo Have a Nice Day\"\n",
    "s.capitalize()"
   ]
  },
  {
   "cell_type": "code",
   "execution_count": 40,
   "id": "62059ec7-57d6-4b24-9f2d-3d25258929d2",
   "metadata": {},
   "outputs": [
    {
     "data": {
      "text/plain": [
       "'hello have a nice day'"
      ]
     },
     "execution_count": 40,
     "metadata": {},
     "output_type": "execute_result"
    }
   ],
   "source": [
    "s.casefold()"
   ]
  },
  {
   "cell_type": "code",
   "execution_count": 46,
   "id": "1bfa3419-c2e6-4103-b3fb-a8eb644a82cd",
   "metadata": {},
   "outputs": [
    {
     "data": {
      "text/plain": [
       "0"
      ]
     },
     "execution_count": 46,
     "metadata": {},
     "output_type": "execute_result"
    }
   ],
   "source": [
    "s = \"Hellollo\"\n",
    "s.count('lloo')"
   ]
  },
  {
   "cell_type": "code",
   "execution_count": 45,
   "id": "aff3999a-250f-4d00-ab61-7e2f0b1bfba1",
   "metadata": {},
   "outputs": [
    {
     "ename": "TypeError",
     "evalue": "'str' object does not support item assignment",
     "output_type": "error",
     "traceback": [
      "\u001b[31m---------------------------------------------------------------------------\u001b[39m",
      "\u001b[31mTypeError\u001b[39m                                 Traceback (most recent call last)",
      "\u001b[36mCell\u001b[39m\u001b[36m \u001b[39m\u001b[32mIn[45]\u001b[39m\u001b[32m, line 1\u001b[39m\n\u001b[32m----> \u001b[39m\u001b[32m1\u001b[39m \u001b[43ms\u001b[49m\u001b[43m[\u001b[49m\u001b[32;43m0\u001b[39;49m\u001b[43m]\u001b[49m = \u001b[33m'\u001b[39m\u001b[33mA\u001b[39m\u001b[33m'\u001b[39m\n",
      "\u001b[31mTypeError\u001b[39m: 'str' object does not support item assignment"
     ]
    }
   ],
   "source": [
    "s[0] = 'A'"
   ]
  },
  {
   "cell_type": "code",
   "execution_count": 48,
   "id": "fee7b838-03ec-47d8-b1df-5fbcccc998df",
   "metadata": {},
   "outputs": [
    {
     "data": {
      "text/plain": [
       "-1"
      ]
     },
     "execution_count": 48,
     "metadata": {},
     "output_type": "execute_result"
    }
   ],
   "source": [
    "s.find('lloo')"
   ]
  },
  {
   "cell_type": "code",
   "execution_count": 49,
   "id": "ee2f1629-d0d0-4703-88a3-b23d02a7f336",
   "metadata": {},
   "outputs": [
    {
     "ename": "ValueError",
     "evalue": "substring not found",
     "output_type": "error",
     "traceback": [
      "\u001b[31m---------------------------------------------------------------------------\u001b[39m",
      "\u001b[31mValueError\u001b[39m                                Traceback (most recent call last)",
      "\u001b[36mCell\u001b[39m\u001b[36m \u001b[39m\u001b[32mIn[49]\u001b[39m\u001b[32m, line 1\u001b[39m\n\u001b[32m----> \u001b[39m\u001b[32m1\u001b[39m \u001b[43ms\u001b[49m\u001b[43m.\u001b[49m\u001b[43mindex\u001b[49m\u001b[43m(\u001b[49m\u001b[33;43m'\u001b[39;49m\u001b[33;43mlloo\u001b[39;49m\u001b[33;43m'\u001b[39;49m\u001b[43m)\u001b[49m\n",
      "\u001b[31mValueError\u001b[39m: substring not found"
     ]
    }
   ],
   "source": [
    "s.index('lloo')"
   ]
  },
  {
   "cell_type": "code",
   "execution_count": 57,
   "id": "79b4d2a8-962e-447a-ae87-ec14d929ecdf",
   "metadata": {},
   "outputs": [],
   "source": [
    "s = \"The sky is Blue\""
   ]
  },
  {
   "cell_type": "code",
   "execution_count": 59,
   "id": "d99e0372-4b7f-44c0-9bb5-9e8a42a2abf8",
   "metadata": {},
   "outputs": [
    {
     "data": {
      "text/plain": [
       "['The', 'sky', 'is', 'Blue']"
      ]
     },
     "execution_count": 59,
     "metadata": {},
     "output_type": "execute_result"
    }
   ],
   "source": [
    "l = s.split()\n",
    "l"
   ]
  },
  {
   "cell_type": "code",
   "execution_count": 60,
   "id": "83b4eed0-648f-4997-b73b-f6bce1dfc0cb",
   "metadata": {},
   "outputs": [
    {
     "data": {
      "text/plain": [
       "'The Sky Is Blue'"
      ]
     },
     "execution_count": 60,
     "metadata": {},
     "output_type": "execute_result"
    }
   ],
   "source": [
    "s.title()"
   ]
  },
  {
   "cell_type": "code",
   "execution_count": 62,
   "id": "363223d8-afab-4589-ae82-46470a0a6627",
   "metadata": {},
   "outputs": [],
   "source": [
    "l = [str(i) for i in range(10)]"
   ]
  },
  {
   "cell_type": "code",
   "execution_count": 63,
   "id": "86253f79-eb7b-49a4-b050-e7e483009d9e",
   "metadata": {},
   "outputs": [
    {
     "data": {
      "text/plain": [
       "['0', '1', '2', '3', '4', '5', '6', '7', '8', '9']"
      ]
     },
     "execution_count": 63,
     "metadata": {},
     "output_type": "execute_result"
    }
   ],
   "source": [
    "l"
   ]
  },
  {
   "cell_type": "code",
   "execution_count": 68,
   "id": "30f85a28-3a50-4765-a542-d9b3f3d46ba6",
   "metadata": {},
   "outputs": [
    {
     "name": "stdout",
     "output_type": "stream",
     "text": [
      "0A1A2A3A4A5A6A7A8A9\n"
     ]
    }
   ],
   "source": [
    "print('A'.join(l))"
   ]
  },
  {
   "cell_type": "code",
   "execution_count": 69,
   "id": "fdb5ecd5-625c-40ce-a857-e6c4a34847f3",
   "metadata": {},
   "outputs": [
    {
     "data": {
      "text/plain": [
       "'The sky is Blue'"
      ]
     },
     "execution_count": 69,
     "metadata": {},
     "output_type": "execute_result"
    }
   ],
   "source": [
    "s"
   ]
  },
  {
   "cell_type": "code",
   "execution_count": 73,
   "id": "3cd81d86-3f47-43f7-be24-a525101d83cc",
   "metadata": {},
   "outputs": [
    {
     "data": {
      "text/plain": [
       "'Blue is sky The'"
      ]
     },
     "execution_count": 73,
     "metadata": {},
     "output_type": "execute_result"
    }
   ],
   "source": [
    "' '.join(s.split()[::-1])"
   ]
  },
  {
   "cell_type": "code",
   "execution_count": null,
   "id": "3e44ce48-0e51-4207-aac9-e7acabefed98",
   "metadata": {},
   "outputs": [],
   "source": []
  },
  {
   "cell_type": "code",
   "execution_count": null,
   "id": "bc7ee1ed-d4d2-4a52-bdf5-c58c258fe155",
   "metadata": {},
   "outputs": [],
   "source": []
  },
  {
   "cell_type": "code",
   "execution_count": null,
   "id": "5aa55f27-b4ec-445a-a0be-614b4c0f40df",
   "metadata": {},
   "outputs": [],
   "source": []
  }
 ],
 "metadata": {
  "kernelspec": {
   "display_name": "Python 3 (ipykernel)",
   "language": "python",
   "name": "python3"
  },
  "language_info": {
   "codemirror_mode": {
    "name": "ipython",
    "version": 3
   },
   "file_extension": ".py",
   "mimetype": "text/x-python",
   "name": "python",
   "nbconvert_exporter": "python",
   "pygments_lexer": "ipython3",
   "version": "3.12.9"
  }
 },
 "nbformat": 4,
 "nbformat_minor": 5
}
