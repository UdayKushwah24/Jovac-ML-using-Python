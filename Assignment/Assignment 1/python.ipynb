{
 "cells": [
  {
   "cell_type": "markdown",
   "id": "712fc684",
   "metadata": {},
   "source": [
    "### 1. Make a custom exception\n",
    "### 2. Make a 2-d array and read and write it in a csv format"
   ]
  },
  {
   "cell_type": "code",
   "execution_count": 6,
   "id": "10150758",
   "metadata": {},
   "outputs": [
    {
     "name": "stdout",
     "output_type": "stream",
     "text": [
      "Caught Custom Exception: You are not eligible to vote!\n"
     ]
    }
   ],
   "source": [
    " \n",
    "class UnderAgeError(Exception):\n",
    "    pass\n",
    "\n",
    " \n",
    "age = int(input(\"Enter your age: \"))\n",
    "\n",
    "try:\n",
    "    if age < 18:\n",
    "        raise UnderAgeError(\"You are not eligible to vote!\")\n",
    "    else:\n",
    "        print(\"You are eligible to vote!\")\n",
    "\n",
    "except UnderAgeError as e:\n",
    "    print(\"Caught Custom Exception:\", e)\n",
    "\n"
   ]
  },
  {
   "cell_type": "code",
   "execution_count": 8,
   "id": "0db88d58",
   "metadata": {},
   "outputs": [
    {
     "name": "stdout",
     "output_type": "stream",
     "text": [
      "data write successfully'\n",
      "2D Array read from CSV file\n",
      "[[10 20 30]\n",
      " [40 50 60]\n",
      " [70 80 90]]\n"
     ]
    }
   ],
   "source": [
    "import numpy as np\n",
    "import csv\n",
    "\n",
    " \n",
    "arr = np.array([\n",
    "    [10, 20, 30],\n",
    "    [40, 50, 60],\n",
    "    [70, 80, 90]\n",
    "])\n",
    " \n",
    "with open(\"my_array.csv\", \"w\", newline=\"\") as file:\n",
    "    writer = csv.writer(file)\n",
    "    writer.writerows(arr)\n",
    "print(\"data write successfully'\")\n",
    "\n",
    "with open(\"my_array.csv\", \"r\") as file:\n",
    "    reader = csv.reader(file)\n",
    "    loaded_array = np.array([[int(value) for value in row] for row in reader])\n",
    "\n",
    "print(\"2D Array read from CSV file\")\n",
    "print(loaded_array)\n"
   ]
  },
  {
   "cell_type": "code",
   "execution_count": null,
   "id": "e3c282ab",
   "metadata": {},
   "outputs": [],
   "source": []
  }
 ],
 "metadata": {
  "kernelspec": {
   "display_name": ".venv",
   "language": "python",
   "name": "python3"
  },
  "language_info": {
   "codemirror_mode": {
    "name": "ipython",
    "version": 3
   },
   "file_extension": ".py",
   "mimetype": "text/x-python",
   "name": "python",
   "nbconvert_exporter": "python",
   "pygments_lexer": "ipython3",
   "version": "3.11.9"
  }
 },
 "nbformat": 4,
 "nbformat_minor": 5
}
