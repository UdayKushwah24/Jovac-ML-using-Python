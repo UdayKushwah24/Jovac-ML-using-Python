{
 "cells": [
  {
   "cell_type": "code",
   "execution_count": 104,
   "id": "ef6eede2",
   "metadata": {},
   "outputs": [],
   "source": [
    "import numpy as np\n",
    "import pandas as pd"
   ]
  },
  {
   "cell_type": "markdown",
   "id": "bc6f225d",
   "metadata": {},
   "source": [
    "### Task 1: Creating Arrays \n",
    "1. Write a Python program to:  \n",
    "- Create a 1D NumPy array of 10 integers ranging from 1 to 10. \n",
    "- Create a 2D NumPy array of shape (3, 3) with integers from 1 \n",
    "to 9. \n",
    "- Create a 3D NumPy array with random floating-point numbers \n",
    "of shape (3, 5, 3). \n",
    "2. Display the shape, size, and datatype of each array. "
   ]
  },
  {
   "cell_type": "code",
   "execution_count": 105,
   "id": "41f487bf",
   "metadata": {},
   "outputs": [
    {
     "name": "stdout",
     "output_type": "stream",
     "text": [
      "[ 1  2  3  4  5  6  7  8  9 10] <class 'numpy.ndarray'> (10,) 10 int64\n",
      "----------------------------------------\n",
      "[[3 4 8]\n",
      " [9 4 2]\n",
      " [2 4 4]] <class 'numpy.ndarray'> (3, 3) 9 int32\n",
      "----------------------------------------\n",
      "[[[0.70544489 0.57142012 0.99076342]\n",
      "  [0.54845819 0.51443333 0.13364396]\n",
      "  [0.49179851 0.97777192 0.137732  ]\n",
      "  [0.58900635 0.30952095 0.51105733]\n",
      "  [0.52379239 0.29099289 0.90489083]]\n",
      "\n",
      " [[0.72486045 0.66457282 0.21754367]\n",
      "  [0.64687034 0.65323282 0.11676417]\n",
      "  [0.91513011 0.64326483 0.23788801]\n",
      "  [0.364762   0.53232159 0.0189964 ]\n",
      "  [0.05276096 0.27790883 0.26311144]]\n",
      "\n",
      " [[0.75659055 0.38436497 0.23274283]\n",
      "  [0.86967964 0.96345034 0.49085259]\n",
      "  [0.37785472 0.33271544 0.63277756]\n",
      "  [0.58789492 0.21285817 0.85152663]\n",
      "  [0.43630445 0.30717883 0.45206896]]] <class 'numpy.ndarray'> (3, 5, 3) 45 float64\n"
     ]
    }
   ],
   "source": [
    "OneDArray = np.arange(1,11)\n",
    "print(OneDArray, type(OneDArray), OneDArray.shape, OneDArray.size, OneDArray.dtype)\n",
    "print(\"-\"*40)\n",
    "\n",
    "\n",
    "TwoDArray = np.random.randint(1, 10, size=(3,3))\n",
    "print(TwoDArray, type(TwoDArray), TwoDArray.shape, TwoDArray.size, TwoDArray.dtype)\n",
    "print(\"-\"*40)\n",
    "\n",
    "\n",
    "ThreeDArray = np.random.rand( 3,5,3)\n",
    "print(ThreeDArray, type(ThreeDArray), ThreeDArray.shape, ThreeDArray.size, ThreeDArray.dtype)\n",
    "\n"
   ]
  },
  {
   "cell_type": "code",
   "execution_count": 106,
   "id": "63050fd5",
   "metadata": {},
   "outputs": [
    {
     "name": "stdout",
     "output_type": "stream",
     "text": [
      " 1D Array:\n",
      "[ 1  2  3  4  5  6  7  8  9 10]\n",
      "Type: <class 'numpy.ndarray'>\n",
      "Shape: (10,)\n",
      "Size: 10\n",
      "Data Type: int64\n",
      "----------------------------------------\n",
      " 2D Array:\n",
      "[[7 2 4]\n",
      " [5 9 4]\n",
      " [3 1 1]]\n",
      "Type: <class 'numpy.ndarray'>\n",
      "Shape: (3, 3)\n",
      "Size: 9\n",
      "Data Type: int32\n",
      "----------------------------------------\n",
      " 3D Array:\n",
      "[[[0.48646134 0.74922292 0.60448597]\n",
      "  [0.32968729 0.77446784 0.54120304]\n",
      "  [0.9977695  0.32694246 0.65775145]\n",
      "  [0.14505748 0.92863072 0.5042328 ]\n",
      "  [0.22443672 0.12816139 0.92183562]]\n",
      "\n",
      " [[0.77473312 0.83768081 0.8742527 ]\n",
      "  [0.0676991  0.19963229 0.24486895]\n",
      "  [0.50329158 0.85209299 0.51692513]\n",
      "  [0.82008447 0.38715348 0.16303647]\n",
      "  [0.85453469 0.13671891 0.44435676]]\n",
      "\n",
      " [[0.48637996 0.37328489 0.26602539]\n",
      "  [0.49311336 0.39428041 0.89626836]\n",
      "  [0.69914756 0.31047192 0.17986245]\n",
      "  [0.30191249 0.25150917 0.25807872]\n",
      "  [0.36585097 0.56003376 0.62196335]]]\n",
      "Type: <class 'numpy.ndarray'>\n",
      "Shape: (3, 5, 3)\n",
      "Size: 45\n",
      "Data Type: float64\n",
      "----------------------------------------\n"
     ]
    }
   ],
   "source": [
    " \n",
    "OneDArray = np.arange(1, 11)\n",
    "print(\" 1D Array:\")\n",
    "print(OneDArray)\n",
    "print(\"Type:\", type(OneDArray))\n",
    "print(\"Shape:\", OneDArray.shape)\n",
    "print(\"Size:\", OneDArray.size)\n",
    "print(\"Data Type:\", OneDArray.dtype)\n",
    "print(\"-\" * 40)\n",
    "\n",
    " \n",
    "TwoDArray = np.random.randint(1, 10, size=(3, 3))\n",
    "print(\" 2D Array:\")\n",
    "print(TwoDArray)\n",
    "print(\"Type:\", type(TwoDArray))\n",
    "print(\"Shape:\", TwoDArray.shape)\n",
    "print(\"Size:\", TwoDArray.size)\n",
    "print(\"Data Type:\", TwoDArray.dtype)\n",
    "print(\"-\" * 40)\n",
    "\n",
    " \n",
    "ThreeDArray = np.random.rand(3, 5, 3)\n",
    "print(\" 3D Array:\")\n",
    "print(ThreeDArray)\n",
    "print(\"Type:\", type(ThreeDArray))\n",
    "print(\"Shape:\", ThreeDArray.shape)\n",
    "print(\"Size:\", ThreeDArray.size)\n",
    "print(\"Data Type:\", ThreeDArray.dtype)\n",
    "print(\"-\" * 40)\n"
   ]
  },
  {
   "cell_type": "markdown",
   "id": "ea96a8e4",
   "metadata": {},
   "source": [
    "### Task 2: Array Indexing and Slicing \n",
    "1. Create a NumPy array from the following list:  \n",
    "data = [10, 20, 30, 40, 50, 60, 70, 80, 90] \n",
    "2. Write a Python program to:  \n",
    "- Retrieve the first three elements of the array. \n",
    "- Retrieve every alternate element of the array. \n",
    "- Reverse the array. \n",
    "3. Perform the above operations and display the results."
   ]
  },
  {
   "cell_type": "code",
   "execution_count": 107,
   "id": "2040fd51",
   "metadata": {},
   "outputs": [
    {
     "name": "stdout",
     "output_type": "stream",
     "text": [
      "[10 20 30 40 50 60 70 80 90] <class 'numpy.ndarray'>\n",
      "[10 20 30]\n",
      "[10 30 50 70 90]\n",
      "[90 80 70 60 50 40 30 20 10]\n"
     ]
    }
   ],
   "source": [
    "data = [10, 20, 30, 40, 50, 60, 70, 80, 90] \n",
    "n1 = np.array(data)\n",
    "print(n1, type(n1))\n",
    "\n",
    "firstThreeEle = n1[:3]\n",
    "print(firstThreeEle)\n",
    "\n",
    "AlternateEle = n1[::2]\n",
    "print(AlternateEle)\n",
    "\n",
    "ReverseEle = n1[::-1]\n",
    "print(ReverseEle) \n"
   ]
  },
  {
   "cell_type": "markdown",
   "id": "55c95785",
   "metadata": {},
   "source": [
    "### Task 3: Mathematical Operations \n",
    "1. Create two NumPy arrays, A and B, each with 5 random integers \n",
    "between 1 and 20. \n",
    "2. Write a Python program to:  \n",
    "- Add, subtract, multiply, and divide the two arrays element\n",
    "wise. \n",
    "- Compute the dot product of the arrays. \n",
    "- Find the mean, median, standard deviation, and variance of \n",
    "array A. \n",
    "- Identify the maximum and minimum values in array B and \n",
    "their indices."
   ]
  },
  {
   "cell_type": "code",
   "execution_count": 108,
   "id": "c17b50f8",
   "metadata": {},
   "outputs": [
    {
     "name": "stdout",
     "output_type": "stream",
     "text": [
      "Addition :  [24 28 19 20 29]\n",
      "Subtraction :  [-12   8  -1   2  -1]\n",
      "Multiplication :  [108 180  90  99 210]\n",
      "Division :  [0.33333333 1.8        0.9        1.22222222 0.93333333]\n",
      "Dot product :  687\n",
      "Mean :  11.6\n",
      "median :  11.0\n",
      "Standard Deviation: 4.13\n",
      "Variance : 17.04\n",
      "Min Element :  9\n",
      "Min Element index:  3\n",
      "Max Element :  18\n",
      "Max Element index:  0\n"
     ]
    }
   ],
   "source": [
    "A = np.random.randint(1, 20, size=(5))\n",
    "B = np.random.randint(1, 20, size=(5))\n",
    "\n",
    "Add = A + B\n",
    "print('Addition : ',Add)\n",
    "\n",
    "subtract = A - B\n",
    "print('Subtraction : ',subtract)\n",
    "\n",
    "mul = A * B\n",
    "print('Multiplication : ',mul)\n",
    "\n",
    "divide = A / B\n",
    "print('Division : ',divide)\n",
    "\n",
    "\n",
    "\n",
    "dotPro = np.dot(A, B)\n",
    "print('Dot product : ', dotPro)\n",
    "\n",
    "mean = A.mean()\n",
    "print('Mean : ',mean)\n",
    "\n",
    "median = np.median(A)\n",
    "print('median : ',median)\n",
    "\n",
    "stdDev = np.std(A)\n",
    "print(f\"Standard Deviation: {stdDev:.2f}\")\n",
    "\n",
    "\n",
    "variance = stdDev ** 2\n",
    "print(f\"Variance : {variance:.2f}\")\n",
    "\n",
    "\n",
    "min = np.min(B)\n",
    "minIdx = np.argmin(B)\n",
    "print(\"Min Element : \", min)\n",
    "print(\"Min Element index: \", minIdx)\n",
    "\n",
    "\n",
    "max = np.max(B)\n",
    "maxIdx = np.argmax(B)\n",
    "print(\"Max Element : \", max)\n",
    "print(\"Max Element index: \", maxIdx)\n",
    "\n",
    "\n"
   ]
  },
  {
   "cell_type": "markdown",
   "id": "674ea85c",
   "metadata": {},
   "source": [
    "### Task 4: Reshaping and Transposing \n",
    "1. Create a 1D NumPy array of 12 integers ranging from 1 to 12. \n",
    "2. Write a Python program to:  \n",
    "- Reshape the array into a 2D array of shape (4, 3). \n",
    "- Reshape the array into a 3D array of shape (2, 2, 3). \n",
    "- Transpose the reshaped 2D array and display its shape."
   ]
  },
  {
   "cell_type": "code",
   "execution_count": 109,
   "id": "11cf674f",
   "metadata": {},
   "outputs": [
    {
     "name": "stdout",
     "output_type": "stream",
     "text": [
      "[ 1  2  3  4  5  6  7  8  9 10 11 12] <class 'numpy.ndarray'>\n",
      "Reshape (4 x 3) : \n",
      "[[ 1  2  3]\n",
      " [ 4  5  6]\n",
      " [ 7  8  9]\n",
      " [10 11 12]]\n",
      "----------------------------------------\n",
      "Reshape (2 x 2 x 3) : \n",
      "[[[ 1  2  3]\n",
      "  [ 4  5  6]]\n",
      "\n",
      " [[ 7  8  9]\n",
      "  [10 11 12]]]\n",
      "----------------------------------------\n",
      "Transpose Matrix : \n",
      "[[ 1  4  7 10]\n",
      " [ 2  5  8 11]\n",
      " [ 3  6  9 12]]\n"
     ]
    }
   ],
   "source": [
    "n1 = np.arange(1, 13)\n",
    "print(n1, type(n1))\n",
    "\n",
    "\n",
    "print(\"Reshape (4 x 3) : \")\n",
    "print(n1.reshape(4,3))\n",
    "\n",
    "\n",
    "print(\"-\"*40)\n",
    "print(\"Reshape (2 x 2 x 3) : \")\n",
    "print( n1.reshape(2,2,3))\n",
    "\n",
    "print(\"-\"*40)\n",
    "\n",
    "\n",
    "print(\"Transpose Matrix : \")\n",
    "TwoD = n1.reshape(4,3)\n",
    "\n",
    "transpose2D = TwoD.transpose()\n",
    "print(transpose2D)\n"
   ]
  },
  {
   "cell_type": "markdown",
   "id": "b51ac217",
   "metadata": {},
   "source": [
    "### Task 5: Boolean Masking and Filtering \n",
    "1. Create a NumPy array with 15 random integers between 10 and 50. \n",
    "2. Write a Python program to:  \n",
    "- Find all elements greater than 25. \n",
    "- Replace all elements less than 30 with 0. \n",
    "- Count the number of elements divisible by 5. \n"
   ]
  },
  {
   "cell_type": "code",
   "execution_count": 110,
   "id": "6ba2a84b",
   "metadata": {},
   "outputs": [
    {
     "name": "stdout",
     "output_type": "stream",
     "text": [
      "[40 43 35 23 49 14 33 48 49 41 29 43 43 44 19]\n",
      "----------------------------------------\n",
      "[40 43 35 49 33 48 49 41 29 43 43 44]\n",
      "----------------------------------------\n",
      "[40 43 35  0 49  0 33 48 49 41  0 43 43 44  0]\n",
      "----------------------------------------\n",
      "6\n"
     ]
    }
   ],
   "source": [
    "n1 = np.random.randint(10, 50, 15 )\n",
    "print(n1)\n",
    "print(\"-\"*40)\n",
    "\n",
    "\n",
    "greaterThan25 = n1[n1 > 25]\n",
    "print(greaterThan25)\n",
    "print(\"-\"*40)\n",
    "\n",
    "\n",
    "n1[n1 < 30] = 0\n",
    "print(n1)\n",
    "print(\"-\"*40)\n",
    "\n",
    "div_by_5 = n1[n1 % 5 == 0]\n",
    "count = len(div_by_5)\n",
    "print(count)\n"
   ]
  },
  {
   "cell_type": "markdown",
   "id": "7fa0b63c",
   "metadata": {},
   "source": [
    "### Task 6: Working with Built-in Functions \n",
    "#### 1. Use NumPy's built-in functions to:  \n",
    "- Create an array of 10 equally spaced values between 0 and 1. \n",
    "- Create an identity matrix of size 4x4. \n",
    "- Generate a 1D array of 20 random integers between 1 and 100, \n",
    "sort it, and find the 5 largest elements. \n"
   ]
  },
  {
   "cell_type": "code",
   "execution_count": 111,
   "id": "6dd82de9",
   "metadata": {},
   "outputs": [
    {
     "name": "stdout",
     "output_type": "stream",
     "text": [
      "[0.         0.11111111 0.22222222 0.33333333 0.44444444 0.55555556\n",
      " 0.66666667 0.77777778 0.88888889 1.        ]\n",
      "-----------------------------------\n",
      "Identity Matrix\n",
      "-----------------------------------\n",
      "[[1 0 0 0]\n",
      " [0 1 0 0]\n",
      " [0 0 1 0]\n",
      " [0 0 0 1]]\n",
      "-----------------------------------\n",
      "Original Array :  [22 46 28 66 72 10 95 67 90 63 58 82 40 91 21 37 71 97 84 98]\n",
      "-----------------------------------\n",
      "Sorted Array :  [10 21 22 28 37 40 46 58 63 66 67 71 72 82 84 90 91 95 97 98]\n",
      "-----------------------------------\n",
      "Largest 5 element in array :  [90 91 95 97 98]\n",
      "-----------------------------------\n"
     ]
    }
   ],
   "source": [
    "arr = np.linspace(0,1,10)\n",
    "print(arr)\n",
    "print('-'*35)\n",
    "\n",
    "print('Identity Matrix')\n",
    "print('-'*35)\n",
    "print(np.eye(4, dtype=int))\n",
    "\n",
    "print('-'*35)\n",
    "\n",
    "OneD = np.random.randint(1, 100, 20)\n",
    "print(\"Original Array : \",OneD)\n",
    "print('-'*35)\n",
    "sortArr = np.sort(OneD)\n",
    "print(\"Sorted Array : \",sortArr)\n",
    "print('-'*35)\n",
    "\n",
    "print(\"Largest 5 element in array : \",sortArr[-5:])\n",
    "print('-'*35)\n",
    "\n",
    "\n"
   ]
  },
  {
   "cell_type": "markdown",
   "id": "8249f9e8",
   "metadata": {},
   "source": [
    "\n",
    "\n",
    "### Task 7: Generic \n",
    "#### 1. Create a Python program that:  \n",
    "- Generates two large random arrays of size (100, 100). \n",
    "- Performs matrix multiplication on the two arrays. \n",
    "- Finds the determinant and inverse of the resulting matrix (if \n",
    "possible). \n",
    "- Measures the time taken to complete these operations. \n"
   ]
  },
  {
   "cell_type": "code",
   "execution_count": 112,
   "id": "905eba1d",
   "metadata": {},
   "outputs": [
    {
     "name": "stdout",
     "output_type": "stream",
     "text": [
      "Inverse Matrix:\n",
      " [[ 1.05596753  0.24562181  0.95699672 ... -0.43475059  0.77041635\n",
      "   0.0257486 ]\n",
      " [ 0.26455379  0.03339718  0.88808182 ...  0.46322062  0.43522243\n",
      "   1.08749055]\n",
      " [ 0.46644362 -0.09676565 -0.63900311 ... -1.10598019 -0.19747398\n",
      "  -2.26525412]\n",
      " ...\n",
      " [ 0.97047961 -0.01162692  0.70809621 ...  0.21472186  0.84627522\n",
      "   0.04439616]\n",
      " [ 1.08485581 -0.57510067  0.27793142 ... -0.4221841   0.62166469\n",
      "   0.00967826]\n",
      " [-0.27052213  0.97688767  0.732653   ... -0.68745861 -0.50857554\n",
      "   0.36098054]]\n",
      "-----------------------------------\n",
      "Determinant: 5.0906571912412635e+51\n",
      "-----------------------------------\n",
      "Time taken: 0.13565778732299805 seconds\n",
      "-----------------------------------\n"
     ]
    }
   ],
   "source": [
    "import numpy as np\n",
    "import time\n",
    "\n",
    "A = np.random.rand(100, 100)\n",
    "B = np.random.rand(100, 100)\n",
    "\n",
    "start = time.time()\n",
    "\n",
    "C = np.dot(A, B)\n",
    "det = np.linalg.det(C)\n",
    "\n",
    "if not np.isclose(det, 0):\n",
    "    inv = np.linalg.inv(C)\n",
    "    print(\"Inverse Matrix:\\n\", inv)\n",
    "else:\n",
    "    print(\"Matrix is not invertible\")\n",
    "print('-'*35)\n",
    "end = time.time()\n",
    "print(\"Determinant:\", det)\n",
    "print('-'*35)\n",
    "print(\"Time taken:\", end - start, \"seconds\")\n",
    "print('-'*35)\n"
   ]
  },
  {
   "cell_type": "code",
   "execution_count": null,
   "id": "1ae4a588",
   "metadata": {},
   "outputs": [],
   "source": []
  }
 ],
 "metadata": {
  "kernelspec": {
   "display_name": ".venv",
   "language": "python",
   "name": "python3"
  },
  "language_info": {
   "codemirror_mode": {
    "name": "ipython",
    "version": 3
   },
   "file_extension": ".py",
   "mimetype": "text/x-python",
   "name": "python",
   "nbconvert_exporter": "python",
   "pygments_lexer": "ipython3",
   "version": "3.11.9"
  }
 },
 "nbformat": 4,
 "nbformat_minor": 5
}
